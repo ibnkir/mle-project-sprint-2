{
 "cells": [
  {
   "cell_type": "markdown",
   "metadata": {},
   "source": [
    "## Яндекс Практикум, курс \"Инженер Машинного Обучения\" (04/2024 г.)\n",
    "## Проект 2-го спринта: \"Улучшение baseline-модели\"\n",
    "\n",
    "__Содержание:__\n",
    "\n",
    "* [Этап 2: Проведение EDA](#step_2)\n",
    "* [Этап 3: Генерация признаков и обучение модели](#step_3)\n",
    "* [Этап 4: Отбор признаков и обучение новой версии модели](#step_4)\n",
    "* [Этап 5: Подбор гиперпараметров и обучение новой версии модели](#step_5)"
   ]
  },
  {
   "cell_type": "code",
   "execution_count": 1,
   "metadata": {},
   "outputs": [],
   "source": [
    "import os\n",
    "from dotenv import load_dotenv\n",
    "import pandas as pd\n",
    "import numpy as np\n",
    "import matplotlib.pyplot as plt\n",
    "\n",
    "import psycopg2 as psycopg\n",
    "from sqlalchemy import create_engine\n",
    "from datetime import datetime\n",
    "import time\n",
    "\n",
    "from category_encoders import CatBoostEncoder\n",
    "from catboost import CatBoostRegressor\n",
    "\n",
    "import mlflow\n",
    "from mlflow.utils.mlflow_tags import MLFLOW_PARENT_RUN_ID\n",
    "\n",
    "from collections import defaultdict\n",
    "from statistics import median\n",
    "\n",
    "from sklearn.metrics import mean_absolute_percentage_error\n",
    "from sklearn.model_selection import RandomizedSearchCV, StratifiedKFold, train_test_split\n",
    "from sklearn.compose import ColumnTransformer\n",
    "from sklearn.pipeline import Pipeline\n",
    "from sklearn.preprocessing import (\n",
    "    StandardScaler,\n",
    "    OneHotEncoder, \n",
    "    SplineTransformer, \n",
    "    QuantileTransformer, \n",
    "    RobustScaler,\n",
    "    PolynomialFeatures,\n",
    "    KBinsDiscretizer,\n",
    "    FunctionTransformer\n",
    ")\n",
    "\n",
    "from autofeat import AutoFeatRegressor\n",
    "\n",
    "from mlxtend.feature_selection import SequentialFeatureSelector as SFS\n",
    "from mlxtend.plotting import plot_sequential_feature_selection as plot_sfs\n",
    "\n",
    "import optuna\n",
    "from optuna.integration.mlflow import MLflowCallback"
   ]
  },
  {
   "cell_type": "markdown",
   "metadata": {},
   "source": [
    "Загружаем переменные окружения"
   ]
  },
  {
   "cell_type": "code",
   "execution_count": 2,
   "metadata": {},
   "outputs": [
    {
     "data": {
      "text/plain": [
       "True"
      ]
     },
     "execution_count": 2,
     "metadata": {},
     "output_type": "execute_result"
    }
   ],
   "source": [
    "load_dotenv()"
   ]
  },
  {
   "cell_type": "markdown",
   "metadata": {},
   "source": [
    "### Этап 2: Проведение EDA <a id=\"step_2\"></a>"
   ]
  },
  {
   "cell_type": "markdown",
   "metadata": {},
   "source": [
    "После выполнения EDA логируем его результаты, включая ноутбук с кодом notebook_eda.ipynb и md-файл с выводами conclusions_eda.md"
   ]
  },
  {
   "cell_type": "code",
   "execution_count": 6,
   "metadata": {},
   "outputs": [],
   "source": [
    "os.environ[\"MLFLOW_S3_ENDPOINT_URL\"] = \"https://storage.yandexcloud.net\" \n",
    "os.environ[\"AWS_ACCESS_KEY_ID\"] = os.getenv(\"AWS_ACCESS_KEY_ID\") \n",
    "os.environ[\"AWS_SECRET_ACCESS_KEY\"] = os.getenv(\"AWS_SECRET_ACCESS_KEY\") \n",
    "\n",
    "TRACKING_SERVER_HOST = '127.0.0.1' \n",
    "TRACKING_SERVER_PORT = 5000\n",
    "\n",
    "mlflow.set_tracking_uri(f\"http://{TRACKING_SERVER_HOST}:{TRACKING_SERVER_PORT}\")\n",
    "mlflow.set_registry_uri(f\"http://{TRACKING_SERVER_HOST}:{TRACKING_SERVER_PORT}\") \n",
    "\n",
    "EXPERIMENT_NAME = 'mle-project-sprint-2'\n",
    "RUN_NAME = 'step_2'"
   ]
  },
  {
   "cell_type": "code",
   "execution_count": 7,
   "metadata": {},
   "outputs": [],
   "source": [
    "experiment_id = mlflow.get_experiment_by_name(EXPERIMENT_NAME).experiment_id\n",
    "\n",
    "with mlflow.start_run(run_name=RUN_NAME, experiment_id=experiment_id) as run:\n",
    "    run_id = run.info.run_id\n",
    "    mlflow.log_artifact(\"notebook_eda.ipynb\", \"eda\")\n",
    "    mlflow.log_artifact(\"conclusions_eda.md\", \"eda\")"
   ]
  },
  {
   "cell_type": "code",
   "execution_count": 8,
   "metadata": {},
   "outputs": [
    {
     "name": "stdout",
     "output_type": "stream",
     "text": [
      "dda6cd831cf14ed3a90b275be16cdc63\n"
     ]
    }
   ],
   "source": [
    "print(run_id)\n",
    "\n",
    "run = mlflow.get_run(run_id)\n",
    "assert run.info.status == 'FINISHED'"
   ]
  },
  {
   "cell_type": "markdown",
   "metadata": {},
   "source": [
    "__Выводы по результатам 2-го этапа__\n",
    "\n",
    "См. файлы notebook_eda.ipynb или conclusions_eda.md."
   ]
  },
  {
   "cell_type": "markdown",
   "metadata": {},
   "source": [
    "### Этап 3: Генерация признаков и обучение модели <a id=\"step_3\"></a>"
   ]
  },
  {
   "cell_type": "markdown",
   "metadata": {},
   "source": [
    "__Извлекаем очищенные данные__"
   ]
  },
  {
   "cell_type": "code",
   "execution_count": 3,
   "metadata": {},
   "outputs": [],
   "source": [
    "# Загружаем параметры подключения к БД из переменных окружения\n",
    "username = os.environ.get('DB_DESTINATION_USER')\n",
    "password = os.environ.get('DB_DESTINATION_PASSWORD')\n",
    "host = os.environ.get('DB_DESTINATION_HOST')\n",
    "port = os.environ.get('DB_DESTINATION_PORT')\n",
    "db = os.environ.get('DB_DESTINATION_NAME')"
   ]
  },
  {
   "cell_type": "code",
   "execution_count": 4,
   "metadata": {},
   "outputs": [],
   "source": [
    "# Создаем соединение к БД\n",
    "conn = create_engine(f'postgresql://{username}:{password}@{host}:{port}/{db}', connect_args={'sslmode':'require'})"
   ]
  },
  {
   "cell_type": "code",
   "execution_count": 5,
   "metadata": {},
   "outputs": [],
   "source": [
    "# Скачиваем очищенные данные из таблицы clean_flats_dataset в датафрейм\n",
    "data = pd.read_sql('select * from clean_flats_dataset', conn, index_col='flat_id')"
   ]
  },
  {
   "cell_type": "code",
   "execution_count": 6,
   "metadata": {},
   "outputs": [
    {
     "data": {
      "text/html": [
       "<div>\n",
       "<style scoped>\n",
       "    .dataframe tbody tr th:only-of-type {\n",
       "        vertical-align: middle;\n",
       "    }\n",
       "\n",
       "    .dataframe tbody tr th {\n",
       "        vertical-align: top;\n",
       "    }\n",
       "\n",
       "    .dataframe thead th {\n",
       "        text-align: right;\n",
       "    }\n",
       "</style>\n",
       "<table border=\"1\" class=\"dataframe\">\n",
       "  <thead>\n",
       "    <tr style=\"text-align: right;\">\n",
       "      <th></th>\n",
       "      <th>id</th>\n",
       "      <th>floor</th>\n",
       "      <th>kitchen_area</th>\n",
       "      <th>living_area</th>\n",
       "      <th>rooms</th>\n",
       "      <th>is_apartment</th>\n",
       "      <th>studio</th>\n",
       "      <th>total_area</th>\n",
       "      <th>price</th>\n",
       "      <th>build_year</th>\n",
       "      <th>building_type_int</th>\n",
       "      <th>latitude</th>\n",
       "      <th>longitude</th>\n",
       "      <th>ceiling_height</th>\n",
       "      <th>flats_count</th>\n",
       "      <th>floors_total</th>\n",
       "      <th>has_elevator</th>\n",
       "    </tr>\n",
       "    <tr>\n",
       "      <th>flat_id</th>\n",
       "      <th></th>\n",
       "      <th></th>\n",
       "      <th></th>\n",
       "      <th></th>\n",
       "      <th></th>\n",
       "      <th></th>\n",
       "      <th></th>\n",
       "      <th></th>\n",
       "      <th></th>\n",
       "      <th></th>\n",
       "      <th></th>\n",
       "      <th></th>\n",
       "      <th></th>\n",
       "      <th></th>\n",
       "      <th></th>\n",
       "      <th></th>\n",
       "      <th></th>\n",
       "    </tr>\n",
       "  </thead>\n",
       "  <tbody>\n",
       "    <tr>\n",
       "      <th>8348</th>\n",
       "      <td>23114</td>\n",
       "      <td>8</td>\n",
       "      <td>10.6</td>\n",
       "      <td>56.000000</td>\n",
       "      <td>3</td>\n",
       "      <td>False</td>\n",
       "      <td>False</td>\n",
       "      <td>88.599998</td>\n",
       "      <td>10990000</td>\n",
       "      <td>2018</td>\n",
       "      <td>4</td>\n",
       "      <td>55.542187</td>\n",
       "      <td>37.483067</td>\n",
       "      <td>2.64</td>\n",
       "      <td>409</td>\n",
       "      <td>18</td>\n",
       "      <td>True</td>\n",
       "    </tr>\n",
       "    <tr>\n",
       "      <th>8350</th>\n",
       "      <td>23116</td>\n",
       "      <td>3</td>\n",
       "      <td>7.0</td>\n",
       "      <td>28.000000</td>\n",
       "      <td>2</td>\n",
       "      <td>False</td>\n",
       "      <td>False</td>\n",
       "      <td>44.700001</td>\n",
       "      <td>8999000</td>\n",
       "      <td>1967</td>\n",
       "      <td>4</td>\n",
       "      <td>55.857765</td>\n",
       "      <td>37.422684</td>\n",
       "      <td>2.64</td>\n",
       "      <td>143</td>\n",
       "      <td>9</td>\n",
       "      <td>True</td>\n",
       "    </tr>\n",
       "    <tr>\n",
       "      <th>8351</th>\n",
       "      <td>23118</td>\n",
       "      <td>16</td>\n",
       "      <td>10.9</td>\n",
       "      <td>54.799999</td>\n",
       "      <td>4</td>\n",
       "      <td>False</td>\n",
       "      <td>False</td>\n",
       "      <td>89.099998</td>\n",
       "      <td>24000000</td>\n",
       "      <td>1996</td>\n",
       "      <td>4</td>\n",
       "      <td>55.562908</td>\n",
       "      <td>37.570431</td>\n",
       "      <td>2.70</td>\n",
       "      <td>164</td>\n",
       "      <td>16</td>\n",
       "      <td>True</td>\n",
       "    </tr>\n",
       "    <tr>\n",
       "      <th>8352</th>\n",
       "      <td>23120</td>\n",
       "      <td>2</td>\n",
       "      <td>7.4</td>\n",
       "      <td>66.300003</td>\n",
       "      <td>4</td>\n",
       "      <td>False</td>\n",
       "      <td>False</td>\n",
       "      <td>93.000000</td>\n",
       "      <td>17500000</td>\n",
       "      <td>1965</td>\n",
       "      <td>1</td>\n",
       "      <td>55.653507</td>\n",
       "      <td>37.649426</td>\n",
       "      <td>2.70</td>\n",
       "      <td>59</td>\n",
       "      <td>6</td>\n",
       "      <td>True</td>\n",
       "    </tr>\n",
       "    <tr>\n",
       "      <th>8354</th>\n",
       "      <td>23122</td>\n",
       "      <td>4</td>\n",
       "      <td>9.1</td>\n",
       "      <td>17.700001</td>\n",
       "      <td>1</td>\n",
       "      <td>False</td>\n",
       "      <td>False</td>\n",
       "      <td>34.000000</td>\n",
       "      <td>7500000</td>\n",
       "      <td>1964</td>\n",
       "      <td>1</td>\n",
       "      <td>55.796406</td>\n",
       "      <td>37.459873</td>\n",
       "      <td>3.00</td>\n",
       "      <td>72</td>\n",
       "      <td>9</td>\n",
       "      <td>True</td>\n",
       "    </tr>\n",
       "  </tbody>\n",
       "</table>\n",
       "</div>"
      ],
      "text/plain": [
       "            id  floor  kitchen_area  living_area  rooms  is_apartment  studio  \\\n",
       "flat_id                                                                         \n",
       "8348     23114      8          10.6    56.000000      3         False   False   \n",
       "8350     23116      3           7.0    28.000000      2         False   False   \n",
       "8351     23118     16          10.9    54.799999      4         False   False   \n",
       "8352     23120      2           7.4    66.300003      4         False   False   \n",
       "8354     23122      4           9.1    17.700001      1         False   False   \n",
       "\n",
       "         total_area     price  build_year  building_type_int   latitude  \\\n",
       "flat_id                                                                   \n",
       "8348      88.599998  10990000        2018                  4  55.542187   \n",
       "8350      44.700001   8999000        1967                  4  55.857765   \n",
       "8351      89.099998  24000000        1996                  4  55.562908   \n",
       "8352      93.000000  17500000        1965                  1  55.653507   \n",
       "8354      34.000000   7500000        1964                  1  55.796406   \n",
       "\n",
       "         longitude  ceiling_height  flats_count  floors_total  has_elevator  \n",
       "flat_id                                                                      \n",
       "8348     37.483067            2.64          409            18          True  \n",
       "8350     37.422684            2.64          143             9          True  \n",
       "8351     37.570431            2.70          164            16          True  \n",
       "8352     37.649426            2.70           59             6          True  \n",
       "8354     37.459873            3.00           72             9          True  "
      ]
     },
     "execution_count": 6,
     "metadata": {},
     "output_type": "execute_result"
    }
   ],
   "source": [
    "data.head()"
   ]
  },
  {
   "cell_type": "markdown",
   "metadata": {},
   "source": [
    "Выполняем ту же предобработку, что и в проекте 1-го спринта"
   ]
  },
  {
   "cell_type": "code",
   "execution_count": 7,
   "metadata": {},
   "outputs": [],
   "source": [
    "# Вместо года постройки добавляем возраст здания\n",
    "data['building_age'] = (datetime.now().year - data['build_year']).astype('float')\n",
    "\n",
    "# Удаляем лишние колонки (studio является константным признаком, см. EDA)\n",
    "data.drop(\n",
    "    columns=['id', 'build_year', 'studio'], \n",
    "    inplace=True\n",
    ")\n",
    "\n",
    "# Изменяем тип целочисленных признаков rooms и building_type_int на object, чтобы работать с ними как с категориальными\n",
    "data[['rooms', 'building_type_int']] = data[['rooms', 'building_type_int']].astype('object')\n",
    "\n",
    "# Изменяем тип целых колонок на float, чтобы все числовые признаки относились к одному типу\n",
    "num_int_cols = data.select_dtypes('int').columns\n",
    "data[num_int_cols] = data[num_int_cols].astype('float') "
   ]
  },
  {
   "cell_type": "markdown",
   "metadata": {},
   "source": [
    "__Генерируем новые признаки и обучаем модель__"
   ]
  },
  {
   "cell_type": "markdown",
   "metadata": {},
   "source": [
    "Разделяем данные на обучающую и тестовую выборки"
   ]
  },
  {
   "cell_type": "code",
   "execution_count": 8,
   "metadata": {},
   "outputs": [],
   "source": [
    "X_train, X_test, y_train, y_test = train_test_split(data[data.columns.drop('price')],\n",
    "                                                    data['price'], \n",
    "                                                    test_size=0.2, \n",
    "                                                    random_state=42\n",
    "                                                   )"
   ]
  },
  {
   "cell_type": "markdown",
   "metadata": {},
   "source": [
    "Группируем признаки по типам"
   ]
  },
  {
   "cell_type": "code",
   "execution_count": 9,
   "metadata": {},
   "outputs": [],
   "source": [
    "cat_features = X_train.select_dtypes(include=['bool', 'object'])\n",
    "is_bin_cat_features = cat_features.nunique() == 2\n",
    "bin_cat_features = cat_features[is_bin_cat_features[is_bin_cat_features].index]\n",
    "other_cat_features = cat_features[is_bin_cat_features[~is_bin_cat_features].index]\n",
    "num_features = X_train.select_dtypes(include=['float'])"
   ]
  },
  {
   "cell_type": "markdown",
   "metadata": {},
   "source": [
    "Создаем энкодеры для кодирования существующих и генерации новых признаков"
   ]
  },
  {
   "cell_type": "code",
   "execution_count": 10,
   "metadata": {},
   "outputs": [],
   "source": [
    "# Для бинарных категориальных признаков\n",
    "encoder_oh = OneHotEncoder(\n",
    "    categories='auto',\n",
    "    handle_unknown='ignore', \n",
    "    sparse_output=False,\n",
    "    drop='if_binary'\n",
    ") \n",
    "\n",
    "# Для небинарных категориальных признаков\n",
    "encoder_cb = CatBoostEncoder(random_state=42)\n",
    "\n",
    "# Для генерации новых числовых признаков\n",
    "encoder_pol = PolynomialFeatures(\n",
    "    degree=2,\n",
    "    include_bias=False\n",
    ")\n",
    "\n",
    "# Для генерации новых числовых признаков\n",
    "encoder_q = QuantileTransformer(\n",
    "    n_quantiles=100,\n",
    "    random_state=42\n",
    ")\n",
    "\n",
    "# Для генерации новых числовых признаков: применяем к каждому числовому признаку функцию log(1+x) один раз\n",
    "encoder_afr = AutoFeatRegressor(\n",
    "    transformations=('1+', 'log'),\n",
    "    feateng_steps=1,\n",
    "    n_jobs=-1\n",
    ")"
   ]
  },
  {
   "cell_type": "markdown",
   "metadata": {},
   "source": [
    "Создаем основной трансформер данных с autofeat (его мы объединим в один пайплайн с моделью)"
   ]
  },
  {
   "cell_type": "code",
   "execution_count": 11,
   "metadata": {},
   "outputs": [],
   "source": [
    "# Применяем выбранные преобразования к числовым признакам (в т.ч. autofeat)\n",
    "num_preproc_w_afr = ColumnTransformer(\n",
    "    [\n",
    "        ('num_pol', encoder_pol, num_features.columns.tolist()),\n",
    "        ('num_q', encoder_q, num_features.columns.tolist()),\n",
    "        ('num_afr', encoder_afr, num_features.columns.tolist()) \n",
    "    ],\n",
    "    remainder='drop',\n",
    "    verbose_feature_names_out=True,\n",
    "    n_jobs=-1\n",
    ")\n",
    "\n",
    "# Нормализуем числовые признаки после их преобразования.\n",
    "# На выходе полиномиального энкодера будут в т.ч. исходные числовые признаки, им соответствует степень 1\n",
    "num_pipeline_w_afr = Pipeline(\n",
    "    [\n",
    "        ('num_preproc_w_afr', num_preproc_w_afr),\n",
    "        ('num_sc', StandardScaler())\n",
    "    ]\n",
    ")\n",
    "\n",
    "# Добавляем к числовому пайплайну энкодеры категориальных признаков\n",
    "preproc_w_afr = ColumnTransformer(\n",
    "    [\n",
    "        ('bin_cat', encoder_oh, bin_cat_features.columns.tolist()),\n",
    "        ('other_cat', encoder_cb, other_cat_features.columns.tolist()),\n",
    "        ('num_pipeline_w_afr', num_pipeline_w_afr, num_features.columns.tolist())\n",
    "        \n",
    "    ],\n",
    "    remainder='drop',\n",
    "    verbose_feature_names_out=True,\n",
    "    n_jobs=-1\n",
    ")"
   ]
  },
  {
   "cell_type": "markdown",
   "metadata": {},
   "source": [
    "Создаем вспомогательный трансформер данных без autofeat (чтобы воспользоваться get_features_names_out, когда будем сохранять преобразованные признаки вместе с их именами)"
   ]
  },
  {
   "cell_type": "code",
   "execution_count": 12,
   "metadata": {},
   "outputs": [],
   "source": [
    "# Применяем выбранные преобразования к числовым признакам (исключая autofeat)\n",
    "num_preproc_wo_afr = ColumnTransformer(\n",
    "    [\n",
    "        ('num_pol', encoder_pol, num_features.columns.tolist()),\n",
    "        ('num_q', encoder_q, num_features.columns.tolist())\n",
    "    ],\n",
    "    remainder='drop',\n",
    "    verbose_feature_names_out=True,\n",
    "    n_jobs=-1\n",
    ")\n",
    "\n",
    "# Нормализуем числовые признаки после их преобразования.\n",
    "# На выходе полиномиального энкодера будут в т.ч. исходные числовые признаки, им соответствует степень 1\n",
    "num_pipeline_wo_afr = Pipeline(\n",
    "    [\n",
    "        ('num_preproc_wo_afr', num_preproc_wo_afr),\n",
    "        ('num_sc', StandardScaler())\n",
    "    ]\n",
    ")\n",
    "\n",
    "# Добавляем к числовому пайплайну энкодеры категориальных признаков\n",
    "preproc_wo_afr = ColumnTransformer(\n",
    "    [\n",
    "        ('bin_cat', encoder_oh, bin_cat_features.columns.tolist()),\n",
    "        ('other_cat', encoder_cb, other_cat_features.columns.tolist()),\n",
    "        ('num_pipeline_wo_afr', num_pipeline_wo_afr, num_features.columns.tolist())\n",
    "        \n",
    "    ],\n",
    "    remainder='drop',\n",
    "    verbose_feature_names_out=True,\n",
    "    n_jobs=-1\n",
    ")"
   ]
  },
  {
   "cell_type": "markdown",
   "metadata": {},
   "source": [
    "Создаем пайплайн из модели и основного трансформера, включающего autofeat"
   ]
  },
  {
   "cell_type": "code",
   "execution_count": 13,
   "metadata": {},
   "outputs": [],
   "source": [
    "model = CatBoostRegressor(loss_function='MAPE', verbose=False, random_state=42)\n",
    "  \n",
    "pipeline = Pipeline(\n",
    "    [\n",
    "        ('preproc_w_afr', preproc_w_afr),\n",
    "        ('model', model)\n",
    "    ]\n",
    ")"
   ]
  },
  {
   "cell_type": "code",
   "execution_count": 14,
   "metadata": {},
   "outputs": [
    {
     "data": {
      "text/html": [
       "<style>#sk-container-id-1 {\n",
       "  /* Definition of color scheme common for light and dark mode */\n",
       "  --sklearn-color-text: black;\n",
       "  --sklearn-color-line: gray;\n",
       "  /* Definition of color scheme for unfitted estimators */\n",
       "  --sklearn-color-unfitted-level-0: #fff5e6;\n",
       "  --sklearn-color-unfitted-level-1: #f6e4d2;\n",
       "  --sklearn-color-unfitted-level-2: #ffe0b3;\n",
       "  --sklearn-color-unfitted-level-3: chocolate;\n",
       "  /* Definition of color scheme for fitted estimators */\n",
       "  --sklearn-color-fitted-level-0: #f0f8ff;\n",
       "  --sklearn-color-fitted-level-1: #d4ebff;\n",
       "  --sklearn-color-fitted-level-2: #b3dbfd;\n",
       "  --sklearn-color-fitted-level-3: cornflowerblue;\n",
       "\n",
       "  /* Specific color for light theme */\n",
       "  --sklearn-color-text-on-default-background: var(--sg-text-color, var(--theme-code-foreground, var(--jp-content-font-color1, black)));\n",
       "  --sklearn-color-background: var(--sg-background-color, var(--theme-background, var(--jp-layout-color0, white)));\n",
       "  --sklearn-color-border-box: var(--sg-text-color, var(--theme-code-foreground, var(--jp-content-font-color1, black)));\n",
       "  --sklearn-color-icon: #696969;\n",
       "\n",
       "  @media (prefers-color-scheme: dark) {\n",
       "    /* Redefinition of color scheme for dark theme */\n",
       "    --sklearn-color-text-on-default-background: var(--sg-text-color, var(--theme-code-foreground, var(--jp-content-font-color1, white)));\n",
       "    --sklearn-color-background: var(--sg-background-color, var(--theme-background, var(--jp-layout-color0, #111)));\n",
       "    --sklearn-color-border-box: var(--sg-text-color, var(--theme-code-foreground, var(--jp-content-font-color1, white)));\n",
       "    --sklearn-color-icon: #878787;\n",
       "  }\n",
       "}\n",
       "\n",
       "#sk-container-id-1 {\n",
       "  color: var(--sklearn-color-text);\n",
       "}\n",
       "\n",
       "#sk-container-id-1 pre {\n",
       "  padding: 0;\n",
       "}\n",
       "\n",
       "#sk-container-id-1 input.sk-hidden--visually {\n",
       "  border: 0;\n",
       "  clip: rect(1px 1px 1px 1px);\n",
       "  clip: rect(1px, 1px, 1px, 1px);\n",
       "  height: 1px;\n",
       "  margin: -1px;\n",
       "  overflow: hidden;\n",
       "  padding: 0;\n",
       "  position: absolute;\n",
       "  width: 1px;\n",
       "}\n",
       "\n",
       "#sk-container-id-1 div.sk-dashed-wrapped {\n",
       "  border: 1px dashed var(--sklearn-color-line);\n",
       "  margin: 0 0.4em 0.5em 0.4em;\n",
       "  box-sizing: border-box;\n",
       "  padding-bottom: 0.4em;\n",
       "  background-color: var(--sklearn-color-background);\n",
       "}\n",
       "\n",
       "#sk-container-id-1 div.sk-container {\n",
       "  /* jupyter's `normalize.less` sets `[hidden] { display: none; }`\n",
       "     but bootstrap.min.css set `[hidden] { display: none !important; }`\n",
       "     so we also need the `!important` here to be able to override the\n",
       "     default hidden behavior on the sphinx rendered scikit-learn.org.\n",
       "     See: https://github.com/scikit-learn/scikit-learn/issues/21755 */\n",
       "  display: inline-block !important;\n",
       "  position: relative;\n",
       "}\n",
       "\n",
       "#sk-container-id-1 div.sk-text-repr-fallback {\n",
       "  display: none;\n",
       "}\n",
       "\n",
       "div.sk-parallel-item,\n",
       "div.sk-serial,\n",
       "div.sk-item {\n",
       "  /* draw centered vertical line to link estimators */\n",
       "  background-image: linear-gradient(var(--sklearn-color-text-on-default-background), var(--sklearn-color-text-on-default-background));\n",
       "  background-size: 2px 100%;\n",
       "  background-repeat: no-repeat;\n",
       "  background-position: center center;\n",
       "}\n",
       "\n",
       "/* Parallel-specific style estimator block */\n",
       "\n",
       "#sk-container-id-1 div.sk-parallel-item::after {\n",
       "  content: \"\";\n",
       "  width: 100%;\n",
       "  border-bottom: 2px solid var(--sklearn-color-text-on-default-background);\n",
       "  flex-grow: 1;\n",
       "}\n",
       "\n",
       "#sk-container-id-1 div.sk-parallel {\n",
       "  display: flex;\n",
       "  align-items: stretch;\n",
       "  justify-content: center;\n",
       "  background-color: var(--sklearn-color-background);\n",
       "  position: relative;\n",
       "}\n",
       "\n",
       "#sk-container-id-1 div.sk-parallel-item {\n",
       "  display: flex;\n",
       "  flex-direction: column;\n",
       "}\n",
       "\n",
       "#sk-container-id-1 div.sk-parallel-item:first-child::after {\n",
       "  align-self: flex-end;\n",
       "  width: 50%;\n",
       "}\n",
       "\n",
       "#sk-container-id-1 div.sk-parallel-item:last-child::after {\n",
       "  align-self: flex-start;\n",
       "  width: 50%;\n",
       "}\n",
       "\n",
       "#sk-container-id-1 div.sk-parallel-item:only-child::after {\n",
       "  width: 0;\n",
       "}\n",
       "\n",
       "/* Serial-specific style estimator block */\n",
       "\n",
       "#sk-container-id-1 div.sk-serial {\n",
       "  display: flex;\n",
       "  flex-direction: column;\n",
       "  align-items: center;\n",
       "  background-color: var(--sklearn-color-background);\n",
       "  padding-right: 1em;\n",
       "  padding-left: 1em;\n",
       "}\n",
       "\n",
       "\n",
       "/* Toggleable style: style used for estimator/Pipeline/ColumnTransformer box that is\n",
       "clickable and can be expanded/collapsed.\n",
       "- Pipeline and ColumnTransformer use this feature and define the default style\n",
       "- Estimators will overwrite some part of the style using the `sk-estimator` class\n",
       "*/\n",
       "\n",
       "/* Pipeline and ColumnTransformer style (default) */\n",
       "\n",
       "#sk-container-id-1 div.sk-toggleable {\n",
       "  /* Default theme specific background. It is overwritten whether we have a\n",
       "  specific estimator or a Pipeline/ColumnTransformer */\n",
       "  background-color: var(--sklearn-color-background);\n",
       "}\n",
       "\n",
       "/* Toggleable label */\n",
       "#sk-container-id-1 label.sk-toggleable__label {\n",
       "  cursor: pointer;\n",
       "  display: block;\n",
       "  width: 100%;\n",
       "  margin-bottom: 0;\n",
       "  padding: 0.5em;\n",
       "  box-sizing: border-box;\n",
       "  text-align: center;\n",
       "}\n",
       "\n",
       "#sk-container-id-1 label.sk-toggleable__label-arrow:before {\n",
       "  /* Arrow on the left of the label */\n",
       "  content: \"▸\";\n",
       "  float: left;\n",
       "  margin-right: 0.25em;\n",
       "  color: var(--sklearn-color-icon);\n",
       "}\n",
       "\n",
       "#sk-container-id-1 label.sk-toggleable__label-arrow:hover:before {\n",
       "  color: var(--sklearn-color-text);\n",
       "}\n",
       "\n",
       "/* Toggleable content - dropdown */\n",
       "\n",
       "#sk-container-id-1 div.sk-toggleable__content {\n",
       "  max-height: 0;\n",
       "  max-width: 0;\n",
       "  overflow: hidden;\n",
       "  text-align: left;\n",
       "  /* unfitted */\n",
       "  background-color: var(--sklearn-color-unfitted-level-0);\n",
       "}\n",
       "\n",
       "#sk-container-id-1 div.sk-toggleable__content.fitted {\n",
       "  /* fitted */\n",
       "  background-color: var(--sklearn-color-fitted-level-0);\n",
       "}\n",
       "\n",
       "#sk-container-id-1 div.sk-toggleable__content pre {\n",
       "  margin: 0.2em;\n",
       "  border-radius: 0.25em;\n",
       "  color: var(--sklearn-color-text);\n",
       "  /* unfitted */\n",
       "  background-color: var(--sklearn-color-unfitted-level-0);\n",
       "}\n",
       "\n",
       "#sk-container-id-1 div.sk-toggleable__content.fitted pre {\n",
       "  /* unfitted */\n",
       "  background-color: var(--sklearn-color-fitted-level-0);\n",
       "}\n",
       "\n",
       "#sk-container-id-1 input.sk-toggleable__control:checked~div.sk-toggleable__content {\n",
       "  /* Expand drop-down */\n",
       "  max-height: 200px;\n",
       "  max-width: 100%;\n",
       "  overflow: auto;\n",
       "}\n",
       "\n",
       "#sk-container-id-1 input.sk-toggleable__control:checked~label.sk-toggleable__label-arrow:before {\n",
       "  content: \"▾\";\n",
       "}\n",
       "\n",
       "/* Pipeline/ColumnTransformer-specific style */\n",
       "\n",
       "#sk-container-id-1 div.sk-label input.sk-toggleable__control:checked~label.sk-toggleable__label {\n",
       "  color: var(--sklearn-color-text);\n",
       "  background-color: var(--sklearn-color-unfitted-level-2);\n",
       "}\n",
       "\n",
       "#sk-container-id-1 div.sk-label.fitted input.sk-toggleable__control:checked~label.sk-toggleable__label {\n",
       "  background-color: var(--sklearn-color-fitted-level-2);\n",
       "}\n",
       "\n",
       "/* Estimator-specific style */\n",
       "\n",
       "/* Colorize estimator box */\n",
       "#sk-container-id-1 div.sk-estimator input.sk-toggleable__control:checked~label.sk-toggleable__label {\n",
       "  /* unfitted */\n",
       "  background-color: var(--sklearn-color-unfitted-level-2);\n",
       "}\n",
       "\n",
       "#sk-container-id-1 div.sk-estimator.fitted input.sk-toggleable__control:checked~label.sk-toggleable__label {\n",
       "  /* fitted */\n",
       "  background-color: var(--sklearn-color-fitted-level-2);\n",
       "}\n",
       "\n",
       "#sk-container-id-1 div.sk-label label.sk-toggleable__label,\n",
       "#sk-container-id-1 div.sk-label label {\n",
       "  /* The background is the default theme color */\n",
       "  color: var(--sklearn-color-text-on-default-background);\n",
       "}\n",
       "\n",
       "/* On hover, darken the color of the background */\n",
       "#sk-container-id-1 div.sk-label:hover label.sk-toggleable__label {\n",
       "  color: var(--sklearn-color-text);\n",
       "  background-color: var(--sklearn-color-unfitted-level-2);\n",
       "}\n",
       "\n",
       "/* Label box, darken color on hover, fitted */\n",
       "#sk-container-id-1 div.sk-label.fitted:hover label.sk-toggleable__label.fitted {\n",
       "  color: var(--sklearn-color-text);\n",
       "  background-color: var(--sklearn-color-fitted-level-2);\n",
       "}\n",
       "\n",
       "/* Estimator label */\n",
       "\n",
       "#sk-container-id-1 div.sk-label label {\n",
       "  font-family: monospace;\n",
       "  font-weight: bold;\n",
       "  display: inline-block;\n",
       "  line-height: 1.2em;\n",
       "}\n",
       "\n",
       "#sk-container-id-1 div.sk-label-container {\n",
       "  text-align: center;\n",
       "}\n",
       "\n",
       "/* Estimator-specific */\n",
       "#sk-container-id-1 div.sk-estimator {\n",
       "  font-family: monospace;\n",
       "  border: 1px dotted var(--sklearn-color-border-box);\n",
       "  border-radius: 0.25em;\n",
       "  box-sizing: border-box;\n",
       "  margin-bottom: 0.5em;\n",
       "  /* unfitted */\n",
       "  background-color: var(--sklearn-color-unfitted-level-0);\n",
       "}\n",
       "\n",
       "#sk-container-id-1 div.sk-estimator.fitted {\n",
       "  /* fitted */\n",
       "  background-color: var(--sklearn-color-fitted-level-0);\n",
       "}\n",
       "\n",
       "/* on hover */\n",
       "#sk-container-id-1 div.sk-estimator:hover {\n",
       "  /* unfitted */\n",
       "  background-color: var(--sklearn-color-unfitted-level-2);\n",
       "}\n",
       "\n",
       "#sk-container-id-1 div.sk-estimator.fitted:hover {\n",
       "  /* fitted */\n",
       "  background-color: var(--sklearn-color-fitted-level-2);\n",
       "}\n",
       "\n",
       "/* Specification for estimator info (e.g. \"i\" and \"?\") */\n",
       "\n",
       "/* Common style for \"i\" and \"?\" */\n",
       "\n",
       ".sk-estimator-doc-link,\n",
       "a:link.sk-estimator-doc-link,\n",
       "a:visited.sk-estimator-doc-link {\n",
       "  float: right;\n",
       "  font-size: smaller;\n",
       "  line-height: 1em;\n",
       "  font-family: monospace;\n",
       "  background-color: var(--sklearn-color-background);\n",
       "  border-radius: 1em;\n",
       "  height: 1em;\n",
       "  width: 1em;\n",
       "  text-decoration: none !important;\n",
       "  margin-left: 1ex;\n",
       "  /* unfitted */\n",
       "  border: var(--sklearn-color-unfitted-level-1) 1pt solid;\n",
       "  color: var(--sklearn-color-unfitted-level-1);\n",
       "}\n",
       "\n",
       ".sk-estimator-doc-link.fitted,\n",
       "a:link.sk-estimator-doc-link.fitted,\n",
       "a:visited.sk-estimator-doc-link.fitted {\n",
       "  /* fitted */\n",
       "  border: var(--sklearn-color-fitted-level-1) 1pt solid;\n",
       "  color: var(--sklearn-color-fitted-level-1);\n",
       "}\n",
       "\n",
       "/* On hover */\n",
       "div.sk-estimator:hover .sk-estimator-doc-link:hover,\n",
       ".sk-estimator-doc-link:hover,\n",
       "div.sk-label-container:hover .sk-estimator-doc-link:hover,\n",
       ".sk-estimator-doc-link:hover {\n",
       "  /* unfitted */\n",
       "  background-color: var(--sklearn-color-unfitted-level-3);\n",
       "  color: var(--sklearn-color-background);\n",
       "  text-decoration: none;\n",
       "}\n",
       "\n",
       "div.sk-estimator.fitted:hover .sk-estimator-doc-link.fitted:hover,\n",
       ".sk-estimator-doc-link.fitted:hover,\n",
       "div.sk-label-container:hover .sk-estimator-doc-link.fitted:hover,\n",
       ".sk-estimator-doc-link.fitted:hover {\n",
       "  /* fitted */\n",
       "  background-color: var(--sklearn-color-fitted-level-3);\n",
       "  color: var(--sklearn-color-background);\n",
       "  text-decoration: none;\n",
       "}\n",
       "\n",
       "/* Span, style for the box shown on hovering the info icon */\n",
       ".sk-estimator-doc-link span {\n",
       "  display: none;\n",
       "  z-index: 9999;\n",
       "  position: relative;\n",
       "  font-weight: normal;\n",
       "  right: .2ex;\n",
       "  padding: .5ex;\n",
       "  margin: .5ex;\n",
       "  width: min-content;\n",
       "  min-width: 20ex;\n",
       "  max-width: 50ex;\n",
       "  color: var(--sklearn-color-text);\n",
       "  box-shadow: 2pt 2pt 4pt #999;\n",
       "  /* unfitted */\n",
       "  background: var(--sklearn-color-unfitted-level-0);\n",
       "  border: .5pt solid var(--sklearn-color-unfitted-level-3);\n",
       "}\n",
       "\n",
       ".sk-estimator-doc-link.fitted span {\n",
       "  /* fitted */\n",
       "  background: var(--sklearn-color-fitted-level-0);\n",
       "  border: var(--sklearn-color-fitted-level-3);\n",
       "}\n",
       "\n",
       ".sk-estimator-doc-link:hover span {\n",
       "  display: block;\n",
       "}\n",
       "\n",
       "/* \"?\"-specific style due to the `<a>` HTML tag */\n",
       "\n",
       "#sk-container-id-1 a.estimator_doc_link {\n",
       "  float: right;\n",
       "  font-size: 1rem;\n",
       "  line-height: 1em;\n",
       "  font-family: monospace;\n",
       "  background-color: var(--sklearn-color-background);\n",
       "  border-radius: 1rem;\n",
       "  height: 1rem;\n",
       "  width: 1rem;\n",
       "  text-decoration: none;\n",
       "  /* unfitted */\n",
       "  color: var(--sklearn-color-unfitted-level-1);\n",
       "  border: var(--sklearn-color-unfitted-level-1) 1pt solid;\n",
       "}\n",
       "\n",
       "#sk-container-id-1 a.estimator_doc_link.fitted {\n",
       "  /* fitted */\n",
       "  border: var(--sklearn-color-fitted-level-1) 1pt solid;\n",
       "  color: var(--sklearn-color-fitted-level-1);\n",
       "}\n",
       "\n",
       "/* On hover */\n",
       "#sk-container-id-1 a.estimator_doc_link:hover {\n",
       "  /* unfitted */\n",
       "  background-color: var(--sklearn-color-unfitted-level-3);\n",
       "  color: var(--sklearn-color-background);\n",
       "  text-decoration: none;\n",
       "}\n",
       "\n",
       "#sk-container-id-1 a.estimator_doc_link.fitted:hover {\n",
       "  /* fitted */\n",
       "  background-color: var(--sklearn-color-fitted-level-3);\n",
       "}\n",
       "</style><div id=\"sk-container-id-1\" class=\"sk-top-container\"><div class=\"sk-text-repr-fallback\"><pre>Pipeline(steps=[(&#x27;preproc_w_afr&#x27;,\n",
       "                 ColumnTransformer(n_jobs=-1,\n",
       "                                   transformers=[(&#x27;bin_cat&#x27;,\n",
       "                                                  OneHotEncoder(drop=&#x27;if_binary&#x27;,\n",
       "                                                                handle_unknown=&#x27;ignore&#x27;,\n",
       "                                                                sparse_output=False),\n",
       "                                                  [&#x27;is_apartment&#x27;,\n",
       "                                                   &#x27;has_elevator&#x27;]),\n",
       "                                                 (&#x27;other_cat&#x27;,\n",
       "                                                  CatBoostEncoder(random_state=42),\n",
       "                                                  [&#x27;rooms&#x27;,\n",
       "                                                   &#x27;building_type_int&#x27;]),\n",
       "                                                 (&#x27;num_pipeline_w_afr&#x27;,\n",
       "                                                  Pipeline(steps=[(&#x27;num_preproc_w_afr&#x27;,\n",
       "                                                                   ColumnTransformer(n...\n",
       "                                                                                                     &#x27;living_area&#x27;,\n",
       "                                                                                                     &#x27;total_area&#x27;,\n",
       "                                                                                                     &#x27;latitude&#x27;,\n",
       "                                                                                                     &#x27;longitude&#x27;,\n",
       "                                                                                                     &#x27;ceiling_height&#x27;,\n",
       "                                                                                                     &#x27;flats_count&#x27;,\n",
       "                                                                                                     &#x27;floors_total&#x27;,\n",
       "                                                                                                     &#x27;building_age&#x27;])])),\n",
       "                                                                  (&#x27;num_sc&#x27;,\n",
       "                                                                   StandardScaler())]),\n",
       "                                                  [&#x27;floor&#x27;, &#x27;kitchen_area&#x27;,\n",
       "                                                   &#x27;living_area&#x27;, &#x27;total_area&#x27;,\n",
       "                                                   &#x27;latitude&#x27;, &#x27;longitude&#x27;,\n",
       "                                                   &#x27;ceiling_height&#x27;,\n",
       "                                                   &#x27;flats_count&#x27;,\n",
       "                                                   &#x27;floors_total&#x27;,\n",
       "                                                   &#x27;building_age&#x27;])])),\n",
       "                (&#x27;model&#x27;,\n",
       "                 &lt;catboost.core.CatBoostRegressor object at 0x7f037d1643a0&gt;)])</pre><b>In a Jupyter environment, please rerun this cell to show the HTML representation or trust the notebook. <br />On GitHub, the HTML representation is unable to render, please try loading this page with nbviewer.org.</b></div><div class=\"sk-container\" hidden><div class=\"sk-item sk-dashed-wrapped\"><div class=\"sk-label-container\"><div class=\"sk-label  sk-toggleable\"><input class=\"sk-toggleable__control sk-hidden--visually\" id=\"sk-estimator-id-1\" type=\"checkbox\" ><label for=\"sk-estimator-id-1\" class=\"sk-toggleable__label  sk-toggleable__label-arrow \">&nbsp;&nbsp;Pipeline<a class=\"sk-estimator-doc-link \" rel=\"noreferrer\" target=\"_blank\" href=\"https://scikit-learn.org/1.4/modules/generated/sklearn.pipeline.Pipeline.html\">?<span>Documentation for Pipeline</span></a><span class=\"sk-estimator-doc-link \">i<span>Not fitted</span></span></label><div class=\"sk-toggleable__content \"><pre>Pipeline(steps=[(&#x27;preproc_w_afr&#x27;,\n",
       "                 ColumnTransformer(n_jobs=-1,\n",
       "                                   transformers=[(&#x27;bin_cat&#x27;,\n",
       "                                                  OneHotEncoder(drop=&#x27;if_binary&#x27;,\n",
       "                                                                handle_unknown=&#x27;ignore&#x27;,\n",
       "                                                                sparse_output=False),\n",
       "                                                  [&#x27;is_apartment&#x27;,\n",
       "                                                   &#x27;has_elevator&#x27;]),\n",
       "                                                 (&#x27;other_cat&#x27;,\n",
       "                                                  CatBoostEncoder(random_state=42),\n",
       "                                                  [&#x27;rooms&#x27;,\n",
       "                                                   &#x27;building_type_int&#x27;]),\n",
       "                                                 (&#x27;num_pipeline_w_afr&#x27;,\n",
       "                                                  Pipeline(steps=[(&#x27;num_preproc_w_afr&#x27;,\n",
       "                                                                   ColumnTransformer(n...\n",
       "                                                                                                     &#x27;living_area&#x27;,\n",
       "                                                                                                     &#x27;total_area&#x27;,\n",
       "                                                                                                     &#x27;latitude&#x27;,\n",
       "                                                                                                     &#x27;longitude&#x27;,\n",
       "                                                                                                     &#x27;ceiling_height&#x27;,\n",
       "                                                                                                     &#x27;flats_count&#x27;,\n",
       "                                                                                                     &#x27;floors_total&#x27;,\n",
       "                                                                                                     &#x27;building_age&#x27;])])),\n",
       "                                                                  (&#x27;num_sc&#x27;,\n",
       "                                                                   StandardScaler())]),\n",
       "                                                  [&#x27;floor&#x27;, &#x27;kitchen_area&#x27;,\n",
       "                                                   &#x27;living_area&#x27;, &#x27;total_area&#x27;,\n",
       "                                                   &#x27;latitude&#x27;, &#x27;longitude&#x27;,\n",
       "                                                   &#x27;ceiling_height&#x27;,\n",
       "                                                   &#x27;flats_count&#x27;,\n",
       "                                                   &#x27;floors_total&#x27;,\n",
       "                                                   &#x27;building_age&#x27;])])),\n",
       "                (&#x27;model&#x27;,\n",
       "                 &lt;catboost.core.CatBoostRegressor object at 0x7f037d1643a0&gt;)])</pre></div> </div></div><div class=\"sk-serial\"><div class=\"sk-item sk-dashed-wrapped\"><div class=\"sk-label-container\"><div class=\"sk-label  sk-toggleable\"><input class=\"sk-toggleable__control sk-hidden--visually\" id=\"sk-estimator-id-2\" type=\"checkbox\" ><label for=\"sk-estimator-id-2\" class=\"sk-toggleable__label  sk-toggleable__label-arrow \">&nbsp;preproc_w_afr: ColumnTransformer<a class=\"sk-estimator-doc-link \" rel=\"noreferrer\" target=\"_blank\" href=\"https://scikit-learn.org/1.4/modules/generated/sklearn.compose.ColumnTransformer.html\">?<span>Documentation for preproc_w_afr: ColumnTransformer</span></a></label><div class=\"sk-toggleable__content \"><pre>ColumnTransformer(n_jobs=-1,\n",
       "                  transformers=[(&#x27;bin_cat&#x27;,\n",
       "                                 OneHotEncoder(drop=&#x27;if_binary&#x27;,\n",
       "                                               handle_unknown=&#x27;ignore&#x27;,\n",
       "                                               sparse_output=False),\n",
       "                                 [&#x27;is_apartment&#x27;, &#x27;has_elevator&#x27;]),\n",
       "                                (&#x27;other_cat&#x27;, CatBoostEncoder(random_state=42),\n",
       "                                 [&#x27;rooms&#x27;, &#x27;building_type_int&#x27;]),\n",
       "                                (&#x27;num_pipeline_w_afr&#x27;,\n",
       "                                 Pipeline(steps=[(&#x27;num_preproc_w_afr&#x27;,\n",
       "                                                  ColumnTransformer(n_jobs=-1,\n",
       "                                                                    transformers=[(&#x27;num_pol&#x27;...\n",
       "                                                                                   AutoFeatRegressor(feateng_steps=1,\n",
       "                                                                                                     n_jobs=-1,\n",
       "                                                                                                     transformations=(&#x27;1+&#x27;,\n",
       "                                                                                                                      &#x27;log&#x27;)),\n",
       "                                                                                   [&#x27;floor&#x27;,\n",
       "                                                                                    &#x27;kitchen_area&#x27;,\n",
       "                                                                                    &#x27;living_area&#x27;,\n",
       "                                                                                    &#x27;total_area&#x27;,\n",
       "                                                                                    &#x27;latitude&#x27;,\n",
       "                                                                                    &#x27;longitude&#x27;,\n",
       "                                                                                    &#x27;ceiling_height&#x27;,\n",
       "                                                                                    &#x27;flats_count&#x27;,\n",
       "                                                                                    &#x27;floors_total&#x27;,\n",
       "                                                                                    &#x27;building_age&#x27;])])),\n",
       "                                                 (&#x27;num_sc&#x27;, StandardScaler())]),\n",
       "                                 [&#x27;floor&#x27;, &#x27;kitchen_area&#x27;, &#x27;living_area&#x27;,\n",
       "                                  &#x27;total_area&#x27;, &#x27;latitude&#x27;, &#x27;longitude&#x27;,\n",
       "                                  &#x27;ceiling_height&#x27;, &#x27;flats_count&#x27;,\n",
       "                                  &#x27;floors_total&#x27;, &#x27;building_age&#x27;])])</pre></div> </div></div><div class=\"sk-parallel\"><div class=\"sk-parallel-item\"><div class=\"sk-item\"><div class=\"sk-label-container\"><div class=\"sk-label  sk-toggleable\"><input class=\"sk-toggleable__control sk-hidden--visually\" id=\"sk-estimator-id-3\" type=\"checkbox\" ><label for=\"sk-estimator-id-3\" class=\"sk-toggleable__label  sk-toggleable__label-arrow \">bin_cat</label><div class=\"sk-toggleable__content \"><pre>[&#x27;is_apartment&#x27;, &#x27;has_elevator&#x27;]</pre></div> </div></div><div class=\"sk-serial\"><div class=\"sk-item\"><div class=\"sk-estimator  sk-toggleable\"><input class=\"sk-toggleable__control sk-hidden--visually\" id=\"sk-estimator-id-4\" type=\"checkbox\" ><label for=\"sk-estimator-id-4\" class=\"sk-toggleable__label  sk-toggleable__label-arrow \">&nbsp;OneHotEncoder<a class=\"sk-estimator-doc-link \" rel=\"noreferrer\" target=\"_blank\" href=\"https://scikit-learn.org/1.4/modules/generated/sklearn.preprocessing.OneHotEncoder.html\">?<span>Documentation for OneHotEncoder</span></a></label><div class=\"sk-toggleable__content \"><pre>OneHotEncoder(drop=&#x27;if_binary&#x27;, handle_unknown=&#x27;ignore&#x27;, sparse_output=False)</pre></div> </div></div></div></div></div><div class=\"sk-parallel-item\"><div class=\"sk-item\"><div class=\"sk-label-container\"><div class=\"sk-label  sk-toggleable\"><input class=\"sk-toggleable__control sk-hidden--visually\" id=\"sk-estimator-id-5\" type=\"checkbox\" ><label for=\"sk-estimator-id-5\" class=\"sk-toggleable__label  sk-toggleable__label-arrow \">other_cat</label><div class=\"sk-toggleable__content \"><pre>[&#x27;rooms&#x27;, &#x27;building_type_int&#x27;]</pre></div> </div></div><div class=\"sk-serial\"><div class=\"sk-item\"><div class=\"sk-estimator  sk-toggleable\"><input class=\"sk-toggleable__control sk-hidden--visually\" id=\"sk-estimator-id-6\" type=\"checkbox\" ><label for=\"sk-estimator-id-6\" class=\"sk-toggleable__label  sk-toggleable__label-arrow \">CatBoostEncoder</label><div class=\"sk-toggleable__content \"><pre>CatBoostEncoder(random_state=42)</pre></div> </div></div></div></div></div><div class=\"sk-parallel-item\"><div class=\"sk-item\"><div class=\"sk-label-container\"><div class=\"sk-label  sk-toggleable\"><input class=\"sk-toggleable__control sk-hidden--visually\" id=\"sk-estimator-id-7\" type=\"checkbox\" ><label for=\"sk-estimator-id-7\" class=\"sk-toggleable__label  sk-toggleable__label-arrow \">num_pipeline_w_afr</label><div class=\"sk-toggleable__content \"><pre>[&#x27;floor&#x27;, &#x27;kitchen_area&#x27;, &#x27;living_area&#x27;, &#x27;total_area&#x27;, &#x27;latitude&#x27;, &#x27;longitude&#x27;, &#x27;ceiling_height&#x27;, &#x27;flats_count&#x27;, &#x27;floors_total&#x27;, &#x27;building_age&#x27;]</pre></div> </div></div><div class=\"sk-serial\"><div class=\"sk-item\"><div class=\"sk-serial\"><div class=\"sk-item sk-dashed-wrapped\"><div class=\"sk-label-container\"><div class=\"sk-label  sk-toggleable\"><input class=\"sk-toggleable__control sk-hidden--visually\" id=\"sk-estimator-id-8\" type=\"checkbox\" ><label for=\"sk-estimator-id-8\" class=\"sk-toggleable__label  sk-toggleable__label-arrow \">&nbsp;num_preproc_w_afr: ColumnTransformer<a class=\"sk-estimator-doc-link \" rel=\"noreferrer\" target=\"_blank\" href=\"https://scikit-learn.org/1.4/modules/generated/sklearn.compose.ColumnTransformer.html\">?<span>Documentation for num_preproc_w_afr: ColumnTransformer</span></a></label><div class=\"sk-toggleable__content \"><pre>ColumnTransformer(n_jobs=-1,\n",
       "                  transformers=[(&#x27;num_pol&#x27;,\n",
       "                                 PolynomialFeatures(include_bias=False),\n",
       "                                 [&#x27;floor&#x27;, &#x27;kitchen_area&#x27;, &#x27;living_area&#x27;,\n",
       "                                  &#x27;total_area&#x27;, &#x27;latitude&#x27;, &#x27;longitude&#x27;,\n",
       "                                  &#x27;ceiling_height&#x27;, &#x27;flats_count&#x27;,\n",
       "                                  &#x27;floors_total&#x27;, &#x27;building_age&#x27;]),\n",
       "                                (&#x27;num_q&#x27;,\n",
       "                                 QuantileTransformer(n_quantiles=100,\n",
       "                                                     random_state=42),\n",
       "                                 [&#x27;floor&#x27;, &#x27;kitchen_area&#x27;, &#x27;living_area&#x27;,\n",
       "                                  &#x27;total_area&#x27;, &#x27;latitude&#x27;, &#x27;longitude&#x27;,\n",
       "                                  &#x27;ceiling_height&#x27;, &#x27;flats_count&#x27;,\n",
       "                                  &#x27;floors_total&#x27;, &#x27;building_age&#x27;]),\n",
       "                                (&#x27;num_afr&#x27;,\n",
       "                                 AutoFeatRegressor(feateng_steps=1, n_jobs=-1,\n",
       "                                                   transformations=(&#x27;1+&#x27;,\n",
       "                                                                    &#x27;log&#x27;)),\n",
       "                                 [&#x27;floor&#x27;, &#x27;kitchen_area&#x27;, &#x27;living_area&#x27;,\n",
       "                                  &#x27;total_area&#x27;, &#x27;latitude&#x27;, &#x27;longitude&#x27;,\n",
       "                                  &#x27;ceiling_height&#x27;, &#x27;flats_count&#x27;,\n",
       "                                  &#x27;floors_total&#x27;, &#x27;building_age&#x27;])])</pre></div> </div></div><div class=\"sk-parallel\"><div class=\"sk-parallel-item\"><div class=\"sk-item\"><div class=\"sk-label-container\"><div class=\"sk-label  sk-toggleable\"><input class=\"sk-toggleable__control sk-hidden--visually\" id=\"sk-estimator-id-9\" type=\"checkbox\" ><label for=\"sk-estimator-id-9\" class=\"sk-toggleable__label  sk-toggleable__label-arrow \">num_pol</label><div class=\"sk-toggleable__content \"><pre>[&#x27;floor&#x27;, &#x27;kitchen_area&#x27;, &#x27;living_area&#x27;, &#x27;total_area&#x27;, &#x27;latitude&#x27;, &#x27;longitude&#x27;, &#x27;ceiling_height&#x27;, &#x27;flats_count&#x27;, &#x27;floors_total&#x27;, &#x27;building_age&#x27;]</pre></div> </div></div><div class=\"sk-serial\"><div class=\"sk-item\"><div class=\"sk-estimator  sk-toggleable\"><input class=\"sk-toggleable__control sk-hidden--visually\" id=\"sk-estimator-id-10\" type=\"checkbox\" ><label for=\"sk-estimator-id-10\" class=\"sk-toggleable__label  sk-toggleable__label-arrow \">&nbsp;PolynomialFeatures<a class=\"sk-estimator-doc-link \" rel=\"noreferrer\" target=\"_blank\" href=\"https://scikit-learn.org/1.4/modules/generated/sklearn.preprocessing.PolynomialFeatures.html\">?<span>Documentation for PolynomialFeatures</span></a></label><div class=\"sk-toggleable__content \"><pre>PolynomialFeatures(include_bias=False)</pre></div> </div></div></div></div></div><div class=\"sk-parallel-item\"><div class=\"sk-item\"><div class=\"sk-label-container\"><div class=\"sk-label  sk-toggleable\"><input class=\"sk-toggleable__control sk-hidden--visually\" id=\"sk-estimator-id-11\" type=\"checkbox\" ><label for=\"sk-estimator-id-11\" class=\"sk-toggleable__label  sk-toggleable__label-arrow \">num_q</label><div class=\"sk-toggleable__content \"><pre>[&#x27;floor&#x27;, &#x27;kitchen_area&#x27;, &#x27;living_area&#x27;, &#x27;total_area&#x27;, &#x27;latitude&#x27;, &#x27;longitude&#x27;, &#x27;ceiling_height&#x27;, &#x27;flats_count&#x27;, &#x27;floors_total&#x27;, &#x27;building_age&#x27;]</pre></div> </div></div><div class=\"sk-serial\"><div class=\"sk-item\"><div class=\"sk-estimator  sk-toggleable\"><input class=\"sk-toggleable__control sk-hidden--visually\" id=\"sk-estimator-id-12\" type=\"checkbox\" ><label for=\"sk-estimator-id-12\" class=\"sk-toggleable__label  sk-toggleable__label-arrow \">&nbsp;QuantileTransformer<a class=\"sk-estimator-doc-link \" rel=\"noreferrer\" target=\"_blank\" href=\"https://scikit-learn.org/1.4/modules/generated/sklearn.preprocessing.QuantileTransformer.html\">?<span>Documentation for QuantileTransformer</span></a></label><div class=\"sk-toggleable__content \"><pre>QuantileTransformer(n_quantiles=100, random_state=42)</pre></div> </div></div></div></div></div><div class=\"sk-parallel-item\"><div class=\"sk-item\"><div class=\"sk-label-container\"><div class=\"sk-label  sk-toggleable\"><input class=\"sk-toggleable__control sk-hidden--visually\" id=\"sk-estimator-id-13\" type=\"checkbox\" ><label for=\"sk-estimator-id-13\" class=\"sk-toggleable__label  sk-toggleable__label-arrow \">num_afr</label><div class=\"sk-toggleable__content \"><pre>[&#x27;floor&#x27;, &#x27;kitchen_area&#x27;, &#x27;living_area&#x27;, &#x27;total_area&#x27;, &#x27;latitude&#x27;, &#x27;longitude&#x27;, &#x27;ceiling_height&#x27;, &#x27;flats_count&#x27;, &#x27;floors_total&#x27;, &#x27;building_age&#x27;]</pre></div> </div></div><div class=\"sk-serial\"><div class=\"sk-item\"><div class=\"sk-estimator  sk-toggleable\"><input class=\"sk-toggleable__control sk-hidden--visually\" id=\"sk-estimator-id-14\" type=\"checkbox\" ><label for=\"sk-estimator-id-14\" class=\"sk-toggleable__label  sk-toggleable__label-arrow \">AutoFeatRegressor</label><div class=\"sk-toggleable__content \"><pre>AutoFeatRegressor(feateng_steps=1, n_jobs=-1, transformations=(&#x27;1+&#x27;, &#x27;log&#x27;))</pre></div> </div></div></div></div></div></div></div><div class=\"sk-item\"><div class=\"sk-estimator  sk-toggleable\"><input class=\"sk-toggleable__control sk-hidden--visually\" id=\"sk-estimator-id-15\" type=\"checkbox\" ><label for=\"sk-estimator-id-15\" class=\"sk-toggleable__label  sk-toggleable__label-arrow \">&nbsp;StandardScaler<a class=\"sk-estimator-doc-link \" rel=\"noreferrer\" target=\"_blank\" href=\"https://scikit-learn.org/1.4/modules/generated/sklearn.preprocessing.StandardScaler.html\">?<span>Documentation for StandardScaler</span></a></label><div class=\"sk-toggleable__content \"><pre>StandardScaler()</pre></div> </div></div></div></div></div></div></div></div></div><div class=\"sk-item\"><div class=\"sk-estimator  sk-toggleable\"><input class=\"sk-toggleable__control sk-hidden--visually\" id=\"sk-estimator-id-16\" type=\"checkbox\" ><label for=\"sk-estimator-id-16\" class=\"sk-toggleable__label  sk-toggleable__label-arrow \">CatBoostRegressor</label><div class=\"sk-toggleable__content \"><pre>&lt;catboost.core.CatBoostRegressor object at 0x7f037d1643a0&gt;</pre></div> </div></div></div></div></div></div>"
      ],
      "text/plain": [
       "Pipeline(steps=[('preproc_w_afr',\n",
       "                 ColumnTransformer(n_jobs=-1,\n",
       "                                   transformers=[('bin_cat',\n",
       "                                                  OneHotEncoder(drop='if_binary',\n",
       "                                                                handle_unknown='ignore',\n",
       "                                                                sparse_output=False),\n",
       "                                                  ['is_apartment',\n",
       "                                                   'has_elevator']),\n",
       "                                                 ('other_cat',\n",
       "                                                  CatBoostEncoder(random_state=42),\n",
       "                                                  ['rooms',\n",
       "                                                   'building_type_int']),\n",
       "                                                 ('num_pipeline_w_afr',\n",
       "                                                  Pipeline(steps=[('num_preproc_w_afr',\n",
       "                                                                   ColumnTransformer(n...\n",
       "                                                                                                     'living_area',\n",
       "                                                                                                     'total_area',\n",
       "                                                                                                     'latitude',\n",
       "                                                                                                     'longitude',\n",
       "                                                                                                     'ceiling_height',\n",
       "                                                                                                     'flats_count',\n",
       "                                                                                                     'floors_total',\n",
       "                                                                                                     'building_age'])])),\n",
       "                                                                  ('num_sc',\n",
       "                                                                   StandardScaler())]),\n",
       "                                                  ['floor', 'kitchen_area',\n",
       "                                                   'living_area', 'total_area',\n",
       "                                                   'latitude', 'longitude',\n",
       "                                                   'ceiling_height',\n",
       "                                                   'flats_count',\n",
       "                                                   'floors_total',\n",
       "                                                   'building_age'])])),\n",
       "                ('model',\n",
       "                 <catboost.core.CatBoostRegressor object at 0x7f037d1643a0>)])"
      ]
     },
     "execution_count": 14,
     "metadata": {},
     "output_type": "execute_result"
    }
   ],
   "source": [
    "# Структура пайплайна\n",
    "pipeline"
   ]
  },
  {
   "cell_type": "markdown",
   "metadata": {},
   "source": [
    "Запускаем пайплайн на обучающих данных"
   ]
  },
  {
   "cell_type": "code",
   "execution_count": 15,
   "metadata": {},
   "outputs": [
    {
     "name": "stderr",
     "output_type": "stream",
     "text": [
      "/home/mle-user/mle_projects/mle-mlflow/.venv_mle_mlflow/lib/python3.10/site-packages/autofeat/featsel.py:270: FutureWarning: Series.ravel is deprecated. The underlying array is already 1D, so ravel is not necessary.  Use `to_numpy()` for conversion to a numpy array instead.\n",
      "  if np.max(np.abs(correlations[c].ravel()[:i])) < 0.9:\n"
     ]
    }
   ],
   "source": [
    "start = time.time()\n",
    "pipeline.fit(X_train, y_train)\n",
    "end = time.time()"
   ]
  },
  {
   "cell_type": "markdown",
   "metadata": {},
   "source": [
    "Оцениваем модель на тестовых данных"
   ]
  },
  {
   "cell_type": "code",
   "execution_count": 16,
   "metadata": {},
   "outputs": [
    {
     "name": "stdout",
     "output_type": "stream",
     "text": [
      "{'MAPE': 1.225445433359022, 'fit_time': 76.67032814025879}\n"
     ]
    }
   ],
   "source": [
    "y_pred = pipeline.predict(X_test)\n",
    "mape = mean_absolute_percentage_error(y_test, y_pred)\n",
    "\n",
    "metrics = {}\n",
    "metrics['MAPE'] = mape\n",
    "metrics['fit_time'] = end - start\n",
    "print(metrics)"
   ]
  },
  {
   "cell_type": "markdown",
   "metadata": {},
   "source": [
    "__Сохраняем преобразованные данные для логирования в MLflow и использования на последующих этапах__"
   ]
  },
  {
   "cell_type": "code",
   "execution_count": 17,
   "metadata": {},
   "outputs": [],
   "source": [
    "# Признаки, сгенерированные без autofeat (на выходе будет ndarray)\n",
    "encoded_X_train_wo_afr = preproc_wo_afr.fit_transform(X_train, y_train) \n",
    "encoded_X_test_wo_afr = preproc_wo_afr.transform(X_test)\n",
    "\n",
    "# Превращаем их в dataframe\n",
    "encoded_X_train_wo_afr = pd.DataFrame(\n",
    "    encoded_X_train_wo_afr, \n",
    "    columns=preproc_wo_afr.get_feature_names_out()\n",
    ") \n",
    "\n",
    "encoded_X_test_wo_afr = pd.DataFrame(\n",
    "    encoded_X_test_wo_afr, \n",
    "    columns=preproc_wo_afr.get_feature_names_out()\n",
    ")"
   ]
  },
  {
   "cell_type": "code",
   "execution_count": 18,
   "metadata": {},
   "outputs": [
    {
     "data": {
      "text/html": [
       "<div>\n",
       "<style scoped>\n",
       "    .dataframe tbody tr th:only-of-type {\n",
       "        vertical-align: middle;\n",
       "    }\n",
       "\n",
       "    .dataframe tbody tr th {\n",
       "        vertical-align: top;\n",
       "    }\n",
       "\n",
       "    .dataframe thead th {\n",
       "        text-align: right;\n",
       "    }\n",
       "</style>\n",
       "<table border=\"1\" class=\"dataframe\">\n",
       "  <thead>\n",
       "    <tr style=\"text-align: right;\">\n",
       "      <th></th>\n",
       "      <th>bin_cat__is_apartment_True</th>\n",
       "      <th>bin_cat__has_elevator_True</th>\n",
       "      <th>other_cat__rooms</th>\n",
       "      <th>other_cat__building_type_int</th>\n",
       "      <th>num_pipeline_wo_afr__num_pol__floor</th>\n",
       "      <th>num_pipeline_wo_afr__num_pol__kitchen_area</th>\n",
       "      <th>num_pipeline_wo_afr__num_pol__living_area</th>\n",
       "      <th>num_pipeline_wo_afr__num_pol__total_area</th>\n",
       "      <th>num_pipeline_wo_afr__num_pol__latitude</th>\n",
       "      <th>num_pipeline_wo_afr__num_pol__longitude</th>\n",
       "      <th>...</th>\n",
       "      <th>num_pipeline_wo_afr__num_q__floor</th>\n",
       "      <th>num_pipeline_wo_afr__num_q__kitchen_area</th>\n",
       "      <th>num_pipeline_wo_afr__num_q__living_area</th>\n",
       "      <th>num_pipeline_wo_afr__num_q__total_area</th>\n",
       "      <th>num_pipeline_wo_afr__num_q__latitude</th>\n",
       "      <th>num_pipeline_wo_afr__num_q__longitude</th>\n",
       "      <th>num_pipeline_wo_afr__num_q__ceiling_height</th>\n",
       "      <th>num_pipeline_wo_afr__num_q__flats_count</th>\n",
       "      <th>num_pipeline_wo_afr__num_q__floors_total</th>\n",
       "      <th>num_pipeline_wo_afr__num_q__building_age</th>\n",
       "    </tr>\n",
       "  </thead>\n",
       "  <tbody>\n",
       "    <tr>\n",
       "      <th>0</th>\n",
       "      <td>0.0</td>\n",
       "      <td>1.0</td>\n",
       "      <td>1.274040e+07</td>\n",
       "      <td>1.274040e+07</td>\n",
       "      <td>-1.052174</td>\n",
       "      <td>-0.692780</td>\n",
       "      <td>-0.299733</td>\n",
       "      <td>-0.847382</td>\n",
       "      <td>1.588429</td>\n",
       "      <td>-0.438656</td>\n",
       "      <td>...</td>\n",
       "      <td>-1.192165</td>\n",
       "      <td>-1.054159</td>\n",
       "      <td>-0.301378</td>\n",
       "      <td>-1.039578</td>\n",
       "      <td>1.648781</td>\n",
       "      <td>-0.496144</td>\n",
       "      <td>-1.519512</td>\n",
       "      <td>-1.242884</td>\n",
       "      <td>-0.181963</td>\n",
       "      <td>0.792346</td>\n",
       "    </tr>\n",
       "    <tr>\n",
       "      <th>1</th>\n",
       "      <td>0.0</td>\n",
       "      <td>1.0</td>\n",
       "      <td>1.107020e+07</td>\n",
       "      <td>1.274040e+07</td>\n",
       "      <td>0.055965</td>\n",
       "      <td>-0.692780</td>\n",
       "      <td>-0.063449</td>\n",
       "      <td>-0.491669</td>\n",
       "      <td>-0.422046</td>\n",
       "      <td>0.851233</td>\n",
       "      <td>...</td>\n",
       "      <td>0.308035</td>\n",
       "      <td>-1.054159</td>\n",
       "      <td>-0.161198</td>\n",
       "      <td>-0.394518</td>\n",
       "      <td>-0.440684</td>\n",
       "      <td>0.932541</td>\n",
       "      <td>-0.505474</td>\n",
       "      <td>0.775025</td>\n",
       "      <td>-0.866801</td>\n",
       "      <td>0.511058</td>\n",
       "    </tr>\n",
       "    <tr>\n",
       "      <th>2</th>\n",
       "      <td>0.0</td>\n",
       "      <td>1.0</td>\n",
       "      <td>1.001347e+07</td>\n",
       "      <td>1.032020e+07</td>\n",
       "      <td>-0.608918</td>\n",
       "      <td>-0.366908</td>\n",
       "      <td>-1.886207</td>\n",
       "      <td>-0.240921</td>\n",
       "      <td>0.530116</td>\n",
       "      <td>-0.070656</td>\n",
       "      <td>...</td>\n",
       "      <td>-0.544351</td>\n",
       "      <td>-0.553734</td>\n",
       "      <td>-1.650011</td>\n",
       "      <td>-0.048742</td>\n",
       "      <td>0.528656</td>\n",
       "      <td>0.025349</td>\n",
       "      <td>0.633094</td>\n",
       "      <td>-0.184500</td>\n",
       "      <td>-0.866801</td>\n",
       "      <td>0.915409</td>\n",
       "    </tr>\n",
       "    <tr>\n",
       "      <th>3</th>\n",
       "      <td>0.0</td>\n",
       "      <td>1.0</td>\n",
       "      <td>1.213510e+07</td>\n",
       "      <td>1.274040e+07</td>\n",
       "      <td>-1.052174</td>\n",
       "      <td>2.240064</td>\n",
       "      <td>1.151722</td>\n",
       "      <td>1.024484</td>\n",
       "      <td>-0.262148</td>\n",
       "      <td>-0.614266</td>\n",
       "      <td>...</td>\n",
       "      <td>-1.192165</td>\n",
       "      <td>1.689550</td>\n",
       "      <td>1.276860</td>\n",
       "      <td>1.139680</td>\n",
       "      <td>-0.251038</td>\n",
       "      <td>-0.724741</td>\n",
       "      <td>1.718292</td>\n",
       "      <td>1.603705</td>\n",
       "      <td>1.012112</td>\n",
       "      <td>-1.018440</td>\n",
       "    </tr>\n",
       "    <tr>\n",
       "      <th>4</th>\n",
       "      <td>0.0</td>\n",
       "      <td>1.0</td>\n",
       "      <td>1.542808e+07</td>\n",
       "      <td>1.304680e+07</td>\n",
       "      <td>0.499221</td>\n",
       "      <td>-0.725367</td>\n",
       "      <td>-0.002691</td>\n",
       "      <td>-0.480007</td>\n",
       "      <td>-1.143133</td>\n",
       "      <td>-0.044685</td>\n",
       "      <td>...</td>\n",
       "      <td>0.751275</td>\n",
       "      <td>-1.295743</td>\n",
       "      <td>-0.104803</td>\n",
       "      <td>-0.371272</td>\n",
       "      <td>-1.255525</td>\n",
       "      <td>0.077451</td>\n",
       "      <td>-0.505474</td>\n",
       "      <td>0.129527</td>\n",
       "      <td>-0.866801</td>\n",
       "      <td>0.686863</td>\n",
       "    </tr>\n",
       "  </tbody>\n",
       "</table>\n",
       "<p>5 rows × 79 columns</p>\n",
       "</div>"
      ],
      "text/plain": [
       "   bin_cat__is_apartment_True  bin_cat__has_elevator_True  other_cat__rooms  \\\n",
       "0                         0.0                         1.0      1.274040e+07   \n",
       "1                         0.0                         1.0      1.107020e+07   \n",
       "2                         0.0                         1.0      1.001347e+07   \n",
       "3                         0.0                         1.0      1.213510e+07   \n",
       "4                         0.0                         1.0      1.542808e+07   \n",
       "\n",
       "   other_cat__building_type_int  num_pipeline_wo_afr__num_pol__floor  \\\n",
       "0                  1.274040e+07                            -1.052174   \n",
       "1                  1.274040e+07                             0.055965   \n",
       "2                  1.032020e+07                            -0.608918   \n",
       "3                  1.274040e+07                            -1.052174   \n",
       "4                  1.304680e+07                             0.499221   \n",
       "\n",
       "   num_pipeline_wo_afr__num_pol__kitchen_area  \\\n",
       "0                                   -0.692780   \n",
       "1                                   -0.692780   \n",
       "2                                   -0.366908   \n",
       "3                                    2.240064   \n",
       "4                                   -0.725367   \n",
       "\n",
       "   num_pipeline_wo_afr__num_pol__living_area  \\\n",
       "0                                  -0.299733   \n",
       "1                                  -0.063449   \n",
       "2                                  -1.886207   \n",
       "3                                   1.151722   \n",
       "4                                  -0.002691   \n",
       "\n",
       "   num_pipeline_wo_afr__num_pol__total_area  \\\n",
       "0                                 -0.847382   \n",
       "1                                 -0.491669   \n",
       "2                                 -0.240921   \n",
       "3                                  1.024484   \n",
       "4                                 -0.480007   \n",
       "\n",
       "   num_pipeline_wo_afr__num_pol__latitude  \\\n",
       "0                                1.588429   \n",
       "1                               -0.422046   \n",
       "2                                0.530116   \n",
       "3                               -0.262148   \n",
       "4                               -1.143133   \n",
       "\n",
       "   num_pipeline_wo_afr__num_pol__longitude  ...  \\\n",
       "0                                -0.438656  ...   \n",
       "1                                 0.851233  ...   \n",
       "2                                -0.070656  ...   \n",
       "3                                -0.614266  ...   \n",
       "4                                -0.044685  ...   \n",
       "\n",
       "   num_pipeline_wo_afr__num_q__floor  \\\n",
       "0                          -1.192165   \n",
       "1                           0.308035   \n",
       "2                          -0.544351   \n",
       "3                          -1.192165   \n",
       "4                           0.751275   \n",
       "\n",
       "   num_pipeline_wo_afr__num_q__kitchen_area  \\\n",
       "0                                 -1.054159   \n",
       "1                                 -1.054159   \n",
       "2                                 -0.553734   \n",
       "3                                  1.689550   \n",
       "4                                 -1.295743   \n",
       "\n",
       "   num_pipeline_wo_afr__num_q__living_area  \\\n",
       "0                                -0.301378   \n",
       "1                                -0.161198   \n",
       "2                                -1.650011   \n",
       "3                                 1.276860   \n",
       "4                                -0.104803   \n",
       "\n",
       "   num_pipeline_wo_afr__num_q__total_area  \\\n",
       "0                               -1.039578   \n",
       "1                               -0.394518   \n",
       "2                               -0.048742   \n",
       "3                                1.139680   \n",
       "4                               -0.371272   \n",
       "\n",
       "   num_pipeline_wo_afr__num_q__latitude  \\\n",
       "0                              1.648781   \n",
       "1                             -0.440684   \n",
       "2                              0.528656   \n",
       "3                             -0.251038   \n",
       "4                             -1.255525   \n",
       "\n",
       "   num_pipeline_wo_afr__num_q__longitude  \\\n",
       "0                              -0.496144   \n",
       "1                               0.932541   \n",
       "2                               0.025349   \n",
       "3                              -0.724741   \n",
       "4                               0.077451   \n",
       "\n",
       "   num_pipeline_wo_afr__num_q__ceiling_height  \\\n",
       "0                                   -1.519512   \n",
       "1                                   -0.505474   \n",
       "2                                    0.633094   \n",
       "3                                    1.718292   \n",
       "4                                   -0.505474   \n",
       "\n",
       "   num_pipeline_wo_afr__num_q__flats_count  \\\n",
       "0                                -1.242884   \n",
       "1                                 0.775025   \n",
       "2                                -0.184500   \n",
       "3                                 1.603705   \n",
       "4                                 0.129527   \n",
       "\n",
       "   num_pipeline_wo_afr__num_q__floors_total  \\\n",
       "0                                 -0.181963   \n",
       "1                                 -0.866801   \n",
       "2                                 -0.866801   \n",
       "3                                  1.012112   \n",
       "4                                 -0.866801   \n",
       "\n",
       "   num_pipeline_wo_afr__num_q__building_age  \n",
       "0                                  0.792346  \n",
       "1                                  0.511058  \n",
       "2                                  0.915409  \n",
       "3                                 -1.018440  \n",
       "4                                  0.686863  \n",
       "\n",
       "[5 rows x 79 columns]"
      ]
     },
     "execution_count": 18,
     "metadata": {},
     "output_type": "execute_result"
    }
   ],
   "source": [
    "# Смотрим, что получилось\n",
    "encoded_X_train_wo_afr.head()"
   ]
  },
  {
   "cell_type": "code",
   "execution_count": 19,
   "metadata": {},
   "outputs": [
    {
     "name": "stdout",
     "output_type": "stream",
     "text": [
      "['bin_cat__is_apartment_True' 'bin_cat__has_elevator_True'\n",
      " 'other_cat__rooms' 'other_cat__building_type_int'\n",
      " 'num_pipeline_wo_afr__num_pol__floor'\n",
      " 'num_pipeline_wo_afr__num_pol__kitchen_area'\n",
      " 'num_pipeline_wo_afr__num_pol__living_area'\n",
      " 'num_pipeline_wo_afr__num_pol__total_area'\n",
      " 'num_pipeline_wo_afr__num_pol__latitude'\n",
      " 'num_pipeline_wo_afr__num_pol__longitude'\n",
      " 'num_pipeline_wo_afr__num_pol__ceiling_height'\n",
      " 'num_pipeline_wo_afr__num_pol__flats_count'\n",
      " 'num_pipeline_wo_afr__num_pol__floors_total'\n",
      " 'num_pipeline_wo_afr__num_pol__building_age'\n",
      " 'num_pipeline_wo_afr__num_pol__floor^2'\n",
      " 'num_pipeline_wo_afr__num_pol__floor kitchen_area'\n",
      " 'num_pipeline_wo_afr__num_pol__floor living_area'\n",
      " 'num_pipeline_wo_afr__num_pol__floor total_area'\n",
      " 'num_pipeline_wo_afr__num_pol__floor latitude'\n",
      " 'num_pipeline_wo_afr__num_pol__floor longitude'\n",
      " 'num_pipeline_wo_afr__num_pol__floor ceiling_height'\n",
      " 'num_pipeline_wo_afr__num_pol__floor flats_count'\n",
      " 'num_pipeline_wo_afr__num_pol__floor floors_total'\n",
      " 'num_pipeline_wo_afr__num_pol__floor building_age'\n",
      " 'num_pipeline_wo_afr__num_pol__kitchen_area^2'\n",
      " 'num_pipeline_wo_afr__num_pol__kitchen_area living_area'\n",
      " 'num_pipeline_wo_afr__num_pol__kitchen_area total_area'\n",
      " 'num_pipeline_wo_afr__num_pol__kitchen_area latitude'\n",
      " 'num_pipeline_wo_afr__num_pol__kitchen_area longitude'\n",
      " 'num_pipeline_wo_afr__num_pol__kitchen_area ceiling_height'\n",
      " 'num_pipeline_wo_afr__num_pol__kitchen_area flats_count'\n",
      " 'num_pipeline_wo_afr__num_pol__kitchen_area floors_total'\n",
      " 'num_pipeline_wo_afr__num_pol__kitchen_area building_age'\n",
      " 'num_pipeline_wo_afr__num_pol__living_area^2'\n",
      " 'num_pipeline_wo_afr__num_pol__living_area total_area'\n",
      " 'num_pipeline_wo_afr__num_pol__living_area latitude'\n",
      " 'num_pipeline_wo_afr__num_pol__living_area longitude'\n",
      " 'num_pipeline_wo_afr__num_pol__living_area ceiling_height'\n",
      " 'num_pipeline_wo_afr__num_pol__living_area flats_count'\n",
      " 'num_pipeline_wo_afr__num_pol__living_area floors_total'\n",
      " 'num_pipeline_wo_afr__num_pol__living_area building_age'\n",
      " 'num_pipeline_wo_afr__num_pol__total_area^2'\n",
      " 'num_pipeline_wo_afr__num_pol__total_area latitude'\n",
      " 'num_pipeline_wo_afr__num_pol__total_area longitude'\n",
      " 'num_pipeline_wo_afr__num_pol__total_area ceiling_height'\n",
      " 'num_pipeline_wo_afr__num_pol__total_area flats_count'\n",
      " 'num_pipeline_wo_afr__num_pol__total_area floors_total'\n",
      " 'num_pipeline_wo_afr__num_pol__total_area building_age'\n",
      " 'num_pipeline_wo_afr__num_pol__latitude^2'\n",
      " 'num_pipeline_wo_afr__num_pol__latitude longitude'\n",
      " 'num_pipeline_wo_afr__num_pol__latitude ceiling_height'\n",
      " 'num_pipeline_wo_afr__num_pol__latitude flats_count'\n",
      " 'num_pipeline_wo_afr__num_pol__latitude floors_total'\n",
      " 'num_pipeline_wo_afr__num_pol__latitude building_age'\n",
      " 'num_pipeline_wo_afr__num_pol__longitude^2'\n",
      " 'num_pipeline_wo_afr__num_pol__longitude ceiling_height'\n",
      " 'num_pipeline_wo_afr__num_pol__longitude flats_count'\n",
      " 'num_pipeline_wo_afr__num_pol__longitude floors_total'\n",
      " 'num_pipeline_wo_afr__num_pol__longitude building_age'\n",
      " 'num_pipeline_wo_afr__num_pol__ceiling_height^2'\n",
      " 'num_pipeline_wo_afr__num_pol__ceiling_height flats_count'\n",
      " 'num_pipeline_wo_afr__num_pol__ceiling_height floors_total'\n",
      " 'num_pipeline_wo_afr__num_pol__ceiling_height building_age'\n",
      " 'num_pipeline_wo_afr__num_pol__flats_count^2'\n",
      " 'num_pipeline_wo_afr__num_pol__flats_count floors_total'\n",
      " 'num_pipeline_wo_afr__num_pol__flats_count building_age'\n",
      " 'num_pipeline_wo_afr__num_pol__floors_total^2'\n",
      " 'num_pipeline_wo_afr__num_pol__floors_total building_age'\n",
      " 'num_pipeline_wo_afr__num_pol__building_age^2'\n",
      " 'num_pipeline_wo_afr__num_q__floor'\n",
      " 'num_pipeline_wo_afr__num_q__kitchen_area'\n",
      " 'num_pipeline_wo_afr__num_q__living_area'\n",
      " 'num_pipeline_wo_afr__num_q__total_area'\n",
      " 'num_pipeline_wo_afr__num_q__latitude'\n",
      " 'num_pipeline_wo_afr__num_q__longitude'\n",
      " 'num_pipeline_wo_afr__num_q__ceiling_height'\n",
      " 'num_pipeline_wo_afr__num_q__flats_count'\n",
      " 'num_pipeline_wo_afr__num_q__floors_total'\n",
      " 'num_pipeline_wo_afr__num_q__building_age']\n"
     ]
    }
   ],
   "source": [
    "# Имена новых признаков без использования autofeat\n",
    "print(preproc_wo_afr.get_feature_names_out())"
   ]
  },
  {
   "cell_type": "code",
   "execution_count": 20,
   "metadata": {},
   "outputs": [
    {
     "name": "stderr",
     "output_type": "stream",
     "text": [
      "/home/mle-user/mle_projects/mle-mlflow/.venv_mle_mlflow/lib/python3.10/site-packages/autofeat/featsel.py:270: FutureWarning: Series.ravel is deprecated. The underlying array is already 1D, so ravel is not necessary.  Use `to_numpy()` for conversion to a numpy array instead.\n",
      "  if np.max(np.abs(correlations[c].ravel()[:i])) < 0.9:\n"
     ]
    }
   ],
   "source": [
    "# Признаки, полученные только с помощью autofeat\n",
    "encoded_X_train_afr = encoder_afr.fit_transform(X_train[num_features.columns].values, y_train.values)\n",
    "encoded_X_test_afr = encoder_afr.transform(X_test[num_features.columns].values)"
   ]
  },
  {
   "cell_type": "code",
   "execution_count": 21,
   "metadata": {},
   "outputs": [
    {
     "data": {
      "text/html": [
       "<div>\n",
       "<style scoped>\n",
       "    .dataframe tbody tr th:only-of-type {\n",
       "        vertical-align: middle;\n",
       "    }\n",
       "\n",
       "    .dataframe tbody tr th {\n",
       "        vertical-align: top;\n",
       "    }\n",
       "\n",
       "    .dataframe thead th {\n",
       "        text-align: right;\n",
       "    }\n",
       "</style>\n",
       "<table border=\"1\" class=\"dataframe\">\n",
       "  <thead>\n",
       "    <tr style=\"text-align: right;\">\n",
       "      <th></th>\n",
       "      <th>x000</th>\n",
       "      <th>x001</th>\n",
       "      <th>x002</th>\n",
       "      <th>x003</th>\n",
       "      <th>x004</th>\n",
       "      <th>x005</th>\n",
       "      <th>x006</th>\n",
       "      <th>x007</th>\n",
       "      <th>x008</th>\n",
       "      <th>x009</th>\n",
       "    </tr>\n",
       "  </thead>\n",
       "  <tbody>\n",
       "    <tr>\n",
       "      <th>0</th>\n",
       "      <td>2.0</td>\n",
       "      <td>6.0</td>\n",
       "      <td>23.5</td>\n",
       "      <td>37.900002</td>\n",
       "      <td>55.891251</td>\n",
       "      <td>37.538116</td>\n",
       "      <td>2.50</td>\n",
       "      <td>82.0</td>\n",
       "      <td>12.0</td>\n",
       "      <td>55.0</td>\n",
       "    </tr>\n",
       "    <tr>\n",
       "      <th>1</th>\n",
       "      <td>7.0</td>\n",
       "      <td>6.0</td>\n",
       "      <td>27.0</td>\n",
       "      <td>44.000000</td>\n",
       "      <td>55.685341</td>\n",
       "      <td>37.728146</td>\n",
       "      <td>2.64</td>\n",
       "      <td>287.0</td>\n",
       "      <td>9.0</td>\n",
       "      <td>52.0</td>\n",
       "    </tr>\n",
       "    <tr>\n",
       "      <th>2</th>\n",
       "      <td>4.0</td>\n",
       "      <td>7.0</td>\n",
       "      <td>0.0</td>\n",
       "      <td>48.299999</td>\n",
       "      <td>55.782860</td>\n",
       "      <td>37.592331</td>\n",
       "      <td>2.70</td>\n",
       "      <td>179.0</td>\n",
       "      <td>9.0</td>\n",
       "      <td>56.0</td>\n",
       "    </tr>\n",
       "    <tr>\n",
       "      <th>3</th>\n",
       "      <td>2.0</td>\n",
       "      <td>15.0</td>\n",
       "      <td>45.0</td>\n",
       "      <td>70.000000</td>\n",
       "      <td>55.701717</td>\n",
       "      <td>37.512245</td>\n",
       "      <td>3.00</td>\n",
       "      <td>512.0</td>\n",
       "      <td>17.0</td>\n",
       "      <td>19.0</td>\n",
       "    </tr>\n",
       "    <tr>\n",
       "      <th>4</th>\n",
       "      <td>9.0</td>\n",
       "      <td>5.9</td>\n",
       "      <td>27.9</td>\n",
       "      <td>44.200001</td>\n",
       "      <td>55.611488</td>\n",
       "      <td>37.596157</td>\n",
       "      <td>2.64</td>\n",
       "      <td>211.0</td>\n",
       "      <td>9.0</td>\n",
       "      <td>54.0</td>\n",
       "    </tr>\n",
       "  </tbody>\n",
       "</table>\n",
       "</div>"
      ],
      "text/plain": [
       "   x000  x001  x002       x003       x004       x005  x006   x007  x008  x009\n",
       "0   2.0   6.0  23.5  37.900002  55.891251  37.538116  2.50   82.0  12.0  55.0\n",
       "1   7.0   6.0  27.0  44.000000  55.685341  37.728146  2.64  287.0   9.0  52.0\n",
       "2   4.0   7.0   0.0  48.299999  55.782860  37.592331  2.70  179.0   9.0  56.0\n",
       "3   2.0  15.0  45.0  70.000000  55.701717  37.512245  3.00  512.0  17.0  19.0\n",
       "4   9.0   5.9  27.9  44.200001  55.611488  37.596157  2.64  211.0   9.0  54.0"
      ]
     },
     "execution_count": 21,
     "metadata": {},
     "output_type": "execute_result"
    }
   ],
   "source": [
    "# Смотрим, что получилось при использовании autofeat\n",
    "encoded_X_train_afr.head()"
   ]
  },
  {
   "cell_type": "code",
   "execution_count": 22,
   "metadata": {},
   "outputs": [],
   "source": [
    "# Объединяем все признаки\n",
    "encoded_X_train = pd.concat([encoded_X_train_wo_afr, encoded_X_train_afr], axis=1)\n",
    "encoded_X_test = pd.concat([encoded_X_test_wo_afr, encoded_X_test_afr], axis=1)"
   ]
  },
  {
   "cell_type": "code",
   "execution_count": null,
   "metadata": {},
   "outputs": [],
   "source": [
    "# Добавляем целевую переменную и записываем в файлы датасеты train и test с преобразованными признаками\n",
    "\n",
    "encoded_data_train = pd.concat([encoded_X_train, y_train], axis=1)\n",
    "encoded_data_test = pd.concat([encoded_X_test, y_test], axis=1)\n",
    "\n",
    "os.makedirs('../data', exist_ok=True)\n",
    "encoded_data_train.to_csv('../data/encoded_data_train.csv')\n",
    "encoded_data_test.to_csv('../data/encoded_data_test.csv')"
   ]
  },
  {
   "cell_type": "markdown",
   "metadata": {},
   "source": [
    "__Логируем результаты в MLflow__"
   ]
  },
  {
   "cell_type": "markdown",
   "metadata": {},
   "source": [
    "Устанавливаем параметры MLflow Tracking Server и MLflow Model Registry, а также идентификаторы эксперимента, запуска и модели\n",
    "(сначала нужно поднять MLflow, для чего в терминале перейти в папку mlflow_server и выполнить в командной строке \n",
    " команду \"sh run_mlflow_server.sh\")"
   ]
  },
  {
   "cell_type": "code",
   "execution_count": 58,
   "metadata": {},
   "outputs": [],
   "source": [
    "os.environ[\"MLFLOW_S3_ENDPOINT_URL\"] = \"https://storage.yandexcloud.net\" \n",
    "os.environ[\"AWS_ACCESS_KEY_ID\"] = os.getenv(\"AWS_ACCESS_KEY_ID\") \n",
    "os.environ[\"AWS_SECRET_ACCESS_KEY\"] = os.getenv(\"AWS_SECRET_ACCESS_KEY\") \n",
    "\n",
    "TRACKING_SERVER_HOST = '127.0.0.1' \n",
    "TRACKING_SERVER_PORT = 5000\n",
    "\n",
    "mlflow.set_tracking_uri(f\"http://{TRACKING_SERVER_HOST}:{TRACKING_SERVER_PORT}\")\n",
    "mlflow.set_registry_uri(f\"http://{TRACKING_SERVER_HOST}:{TRACKING_SERVER_PORT}\") \n",
    "\n",
    "EXPERIMENT_NAME = 'mle-project-sprint-2'\n",
    "RUN_NAME = 'step_3'\n",
    "REGISTRY_MODEL_NAME = 'flats_price_model_sprint_2_step_3'"
   ]
  },
  {
   "cell_type": "markdown",
   "metadata": {},
   "source": [
    "Оборачиваем пайплайн в класс CustomMlflowModel для логирования в MLflow"
   ]
  },
  {
   "cell_type": "code",
   "execution_count": 59,
   "metadata": {},
   "outputs": [],
   "source": [
    "class CustomMlflowModel(mlflow.pyfunc.PythonModel):\n",
    "    def __init__(self, model):\n",
    "        super().__init__()\n",
    "        self._model = model\n",
    "    \n",
    "    def predict(self, context, model_input):\n",
    "        return self._model.predict(model_input)"
   ]
  },
  {
   "cell_type": "code",
   "execution_count": 60,
   "metadata": {},
   "outputs": [],
   "source": [
    "custom_model = CustomMlflowModel(pipeline)"
   ]
  },
  {
   "cell_type": "markdown",
   "metadata": {},
   "source": [
    "Логируем модель, энкодер autofeat, метрики и другие артефакты в MLflow"
   ]
  },
  {
   "cell_type": "code",
   "execution_count": 61,
   "metadata": {},
   "outputs": [
    {
     "name": "stderr",
     "output_type": "stream",
     "text": [
      "/home/mle-user/mle_projects/mle-mlflow/.venv_mle_mlflow/lib/python3.10/site-packages/mlflow/models/signature.py:212: UserWarning: Hint: Inferred schema contains integer column(s). Integer columns in Python cannot represent missing values. If your input data contains missing values at inference time, it will be encoded as floats and will cause a schema enforcement error. The best way to avoid this problem is to infer the model schema based on a realistic data sample (training dataset) that includes missing values. Alternatively, you can declare integer columns as doubles (float64) whenever these columns may have missing values. See `Handling Integers With Missing Values <https://www.mlflow.org/docs/latest/models.html#handling-integers-with-missing-values>`_ for more details.\n",
      "  inputs = _infer_schema(model_input) if model_input is not None else None\n",
      "Successfully registered model 'flats_price_model_sprint_2_step_3'.\n",
      "2024/04/20 13:41:55 INFO mlflow.tracking._model_registry.client: Waiting up to 300 seconds for model version to finish creation. Model name: flats_price_model_sprint_2_step_3, version 1\n",
      "Created version '1' of model 'flats_price_model_sprint_2_step_3'.\n",
      "Successfully registered model 'encoder_afr_sprint_2_step_3'.\n",
      "2024/04/20 13:41:57 INFO mlflow.tracking._model_registry.client: Waiting up to 300 seconds for model version to finish creation. Model name: encoder_afr_sprint_2_step_3, version 1\n",
      "Created version '1' of model 'encoder_afr_sprint_2_step_3'.\n"
     ]
    }
   ],
   "source": [
    "metadata = {'model_type': 'regression'}\n",
    "pip_requirements = \"../requirements.txt\" \n",
    "signature = mlflow.models.infer_signature(\n",
    "    X_test,\n",
    "    pipeline.predict(X_test)\n",
    ") \n",
    "input_example = data[:10]\n",
    "\n",
    "experiment_id = mlflow.get_experiment_by_name(EXPERIMENT_NAME).experiment_id\n",
    "\n",
    "with mlflow.start_run(run_name=RUN_NAME, experiment_id=experiment_id) as run:\n",
    "    run_id = run.info.run_id\n",
    "    \n",
    "    mlflow.log_metrics(metrics)\n",
    "    mlflow.log_artifact(\"../data/encoded_data_train.csv\", \"data\")\n",
    "    mlflow.log_artifact(\"../data/encoded_data_test.csv\", \"data\")\n",
    "            \n",
    "    model_info = mlflow.pyfunc.log_model( \n",
    "        python_model=custom_model,\n",
    "        artifact_path=\"models\",\n",
    "        registered_model_name=REGISTRY_MODEL_NAME,\n",
    "        metadata=metadata,\n",
    "        signature=signature,\n",
    "        input_example=input_example,\n",
    "        pip_requirements=pip_requirements\n",
    "    )\n",
    "    \n",
    "    afr_info = mlflow.sklearn.log_model(\n",
    "        encoder_afr, \n",
    "        artifact_path=\"encoders\",\n",
    "        registered_model_name='encoder_afr_sprint_2_step_3'\n",
    "    )"
   ]
  },
  {
   "cell_type": "code",
   "execution_count": 62,
   "metadata": {},
   "outputs": [
    {
     "name": "stdout",
     "output_type": "stream",
     "text": [
      "85f646eecd7047b5ac5e253aa54bcf04\n"
     ]
    }
   ],
   "source": [
    "print(run_id)\n",
    "\n",
    "run = mlflow.get_run(run_id)\n",
    "assert run.info.status == 'FINISHED'"
   ]
  },
  {
   "cell_type": "code",
   "execution_count": null,
   "metadata": {},
   "outputs": [],
   "source": [
    "# После логирования в MLflow удаляем файлы, сохраненные локально\n",
    "os.remove('../data/encoded_data_train.csv')\n",
    "os.remove('../data/encoded_data_test.csv')"
   ]
  },
  {
   "cell_type": "markdown",
   "metadata": {},
   "source": [
    "__Выводы по результатам 3-го этапа__\n",
    "\n",
    "Благодаря добавлению новых признаков ошибка MAPE на тестовых данных немного уменьшилась по сравнению с базовой моделью из 1-го этапа, время обучения при этом выросло."
   ]
  },
  {
   "cell_type": "markdown",
   "metadata": {},
   "source": [
    "### Этап 4: Отбор признаков и обучение новой версии модели <a id=\"step_4\"></a>"
   ]
  },
  {
   "cell_type": "markdown",
   "metadata": {},
   "source": [
    "Будем использовать преобразованные признаки из предыдущего этапа.\n",
    "\n",
    "Создаем папку для хранения артефактов, относящихся к отбору признаков"
   ]
  },
  {
   "cell_type": "code",
   "execution_count": 24,
   "metadata": {},
   "outputs": [],
   "source": [
    "FS_ASSETS_DIR = \"fs_assets\"\n",
    "os.makedirs(f'../{FS_ASSETS_DIR}', exist_ok=True)"
   ]
  },
  {
   "cell_type": "markdown",
   "metadata": {},
   "source": [
    "__Отбираем признаки с помощью метода Sequential Forward Floating Selection (SFFS)__"
   ]
  },
  {
   "cell_type": "code",
   "execution_count": null,
   "metadata": {},
   "outputs": [],
   "source": [
    "model = CatBoostRegressor(\n",
    "    iterations=100, \n",
    "    loss_function='MAPE', \n",
    "    eval_metric='MAPE', \n",
    "    verbose=False, \n",
    "    random_state=42\n",
    ")\n",
    "\n",
    "# Отбираем 10 признаков\n",
    "sffs = SFS(\n",
    "    estimator=model,\n",
    "    forward=True,      \n",
    "    floating=True,\n",
    "    k_features=10,\n",
    "    scoring='neg_mean_absolute_percentage_error',\n",
    "    cv=2,               \n",
    "    n_jobs=-1\n",
    ") \n",
    "\n",
    "sffs = sffs.fit(encoded_X_train, y_train)\n",
    "sffs_df = pd.DataFrame.from_dict(sffs.get_metric_dict()).T\n",
    "sffs_df.to_csv(f\"../{FS_ASSETS_DIR}/sffs.csv\")"
   ]
  },
  {
   "cell_type": "code",
   "execution_count": 26,
   "metadata": {},
   "outputs": [
    {
     "data": {
      "text/html": [
       "<div>\n",
       "<style scoped>\n",
       "    .dataframe tbody tr th:only-of-type {\n",
       "        vertical-align: middle;\n",
       "    }\n",
       "\n",
       "    .dataframe tbody tr th {\n",
       "        vertical-align: top;\n",
       "    }\n",
       "\n",
       "    .dataframe thead th {\n",
       "        text-align: right;\n",
       "    }\n",
       "</style>\n",
       "<table border=\"1\" class=\"dataframe\">\n",
       "  <thead>\n",
       "    <tr style=\"text-align: right;\">\n",
       "      <th></th>\n",
       "      <th>feature_idx</th>\n",
       "      <th>cv_scores</th>\n",
       "      <th>avg_score</th>\n",
       "      <th>feature_names</th>\n",
       "      <th>ci_bound</th>\n",
       "      <th>std_dev</th>\n",
       "      <th>std_err</th>\n",
       "    </tr>\n",
       "  </thead>\n",
       "  <tbody>\n",
       "    <tr>\n",
       "      <th>1</th>\n",
       "      <td>(0,)</td>\n",
       "      <td>[-1.0089993284292074, -1.0001869723610202]</td>\n",
       "      <td>-1.004593</td>\n",
       "      <td>(bin_cat__is_apartment_True,)</td>\n",
       "      <td>0.018958</td>\n",
       "      <td>0.004406</td>\n",
       "      <td>0.004406</td>\n",
       "    </tr>\n",
       "    <tr>\n",
       "      <th>2</th>\n",
       "      <td>(0, 5)</td>\n",
       "      <td>[-1.0118975854902548, -0.966151559982494]</td>\n",
       "      <td>-0.989025</td>\n",
       "      <td>(bin_cat__is_apartment_True, num_pipeline_wo_a...</td>\n",
       "      <td>0.098415</td>\n",
       "      <td>0.022873</td>\n",
       "      <td>0.022873</td>\n",
       "    </tr>\n",
       "    <tr>\n",
       "      <th>3</th>\n",
       "      <td>(0, 5, 24)</td>\n",
       "      <td>[-2.547134967491392, -0.9236339221042358]</td>\n",
       "      <td>-1.735384</td>\n",
       "      <td>(bin_cat__is_apartment_True, num_pipeline_wo_a...</td>\n",
       "      <td>3.492681</td>\n",
       "      <td>0.811751</td>\n",
       "      <td>0.811751</td>\n",
       "    </tr>\n",
       "    <tr>\n",
       "      <th>4</th>\n",
       "      <td>(0, 5, 24, 27)</td>\n",
       "      <td>[-2.6701813677063337, -0.9682057326983584]</td>\n",
       "      <td>-1.819194</td>\n",
       "      <td>(bin_cat__is_apartment_True, num_pipeline_wo_a...</td>\n",
       "      <td>3.661505</td>\n",
       "      <td>0.850988</td>\n",
       "      <td>0.850988</td>\n",
       "    </tr>\n",
       "    <tr>\n",
       "      <th>5</th>\n",
       "      <td>(0, 5, 24, 27, 28)</td>\n",
       "      <td>[-2.1940511245560335, -1.024232559958161]</td>\n",
       "      <td>-1.609142</td>\n",
       "      <td>(bin_cat__is_apartment_True, num_pipeline_wo_a...</td>\n",
       "      <td>2.516662</td>\n",
       "      <td>0.584909</td>\n",
       "      <td>0.584909</td>\n",
       "    </tr>\n",
       "    <tr>\n",
       "      <th>6</th>\n",
       "      <td>(0, 2, 5, 24, 27, 28)</td>\n",
       "      <td>[-1.0718928511108359, -1.6105173920017146]</td>\n",
       "      <td>-1.341205</td>\n",
       "      <td>(bin_cat__is_apartment_True, other_cat__rooms,...</td>\n",
       "      <td>1.158757</td>\n",
       "      <td>0.269312</td>\n",
       "      <td>0.269312</td>\n",
       "    </tr>\n",
       "    <tr>\n",
       "      <th>7</th>\n",
       "      <td>(0, 1, 2, 5, 24, 27, 28)</td>\n",
       "      <td>[-1.0611523236225635, -1.639138395198876]</td>\n",
       "      <td>-1.350145</td>\n",
       "      <td>(bin_cat__is_apartment_True, bin_cat__has_elev...</td>\n",
       "      <td>1.243437</td>\n",
       "      <td>0.288993</td>\n",
       "      <td>0.288993</td>\n",
       "    </tr>\n",
       "    <tr>\n",
       "      <th>8</th>\n",
       "      <td>(0, 1, 2, 4, 5, 24, 27, 28)</td>\n",
       "      <td>[-1.4952851897128179, -4.998849928184432]</td>\n",
       "      <td>-3.247068</td>\n",
       "      <td>(bin_cat__is_apartment_True, bin_cat__has_elev...</td>\n",
       "      <td>7.537311</td>\n",
       "      <td>1.751782</td>\n",
       "      <td>1.751782</td>\n",
       "    </tr>\n",
       "    <tr>\n",
       "      <th>9</th>\n",
       "      <td>(0, 1, 4, 5, 23, 24, 27, 28, 32)</td>\n",
       "      <td>[-2.791747304775303, -1.3958228624016882]</td>\n",
       "      <td>-2.093785</td>\n",
       "      <td>(bin_cat__is_apartment_True, bin_cat__has_elev...</td>\n",
       "      <td>3.003089</td>\n",
       "      <td>0.697962</td>\n",
       "      <td>0.697962</td>\n",
       "    </tr>\n",
       "    <tr>\n",
       "      <th>10</th>\n",
       "      <td>(0, 1, 4, 5, 23, 24, 27, 28, 32, 80)</td>\n",
       "      <td>[-2.6473186116661003, -2.8095578627560873]</td>\n",
       "      <td>-2.728438</td>\n",
       "      <td>(bin_cat__is_apartment_True, bin_cat__has_elev...</td>\n",
       "      <td>0.34903</td>\n",
       "      <td>0.08112</td>\n",
       "      <td>0.08112</td>\n",
       "    </tr>\n",
       "  </tbody>\n",
       "</table>\n",
       "</div>"
      ],
      "text/plain": [
       "                             feature_idx  \\\n",
       "1                                   (0,)   \n",
       "2                                 (0, 5)   \n",
       "3                             (0, 5, 24)   \n",
       "4                         (0, 5, 24, 27)   \n",
       "5                     (0, 5, 24, 27, 28)   \n",
       "6                  (0, 2, 5, 24, 27, 28)   \n",
       "7               (0, 1, 2, 5, 24, 27, 28)   \n",
       "8            (0, 1, 2, 4, 5, 24, 27, 28)   \n",
       "9       (0, 1, 4, 5, 23, 24, 27, 28, 32)   \n",
       "10  (0, 1, 4, 5, 23, 24, 27, 28, 32, 80)   \n",
       "\n",
       "                                     cv_scores avg_score  \\\n",
       "1   [-1.0089993284292074, -1.0001869723610202] -1.004593   \n",
       "2    [-1.0118975854902548, -0.966151559982494] -0.989025   \n",
       "3    [-2.547134967491392, -0.9236339221042358] -1.735384   \n",
       "4   [-2.6701813677063337, -0.9682057326983584] -1.819194   \n",
       "5    [-2.1940511245560335, -1.024232559958161] -1.609142   \n",
       "6   [-1.0718928511108359, -1.6105173920017146] -1.341205   \n",
       "7    [-1.0611523236225635, -1.639138395198876] -1.350145   \n",
       "8    [-1.4952851897128179, -4.998849928184432] -3.247068   \n",
       "9    [-2.791747304775303, -1.3958228624016882] -2.093785   \n",
       "10  [-2.6473186116661003, -2.8095578627560873] -2.728438   \n",
       "\n",
       "                                        feature_names  ci_bound   std_dev  \\\n",
       "1                       (bin_cat__is_apartment_True,)  0.018958  0.004406   \n",
       "2   (bin_cat__is_apartment_True, num_pipeline_wo_a...  0.098415  0.022873   \n",
       "3   (bin_cat__is_apartment_True, num_pipeline_wo_a...  3.492681  0.811751   \n",
       "4   (bin_cat__is_apartment_True, num_pipeline_wo_a...  3.661505  0.850988   \n",
       "5   (bin_cat__is_apartment_True, num_pipeline_wo_a...  2.516662  0.584909   \n",
       "6   (bin_cat__is_apartment_True, other_cat__rooms,...  1.158757  0.269312   \n",
       "7   (bin_cat__is_apartment_True, bin_cat__has_elev...  1.243437  0.288993   \n",
       "8   (bin_cat__is_apartment_True, bin_cat__has_elev...  7.537311  1.751782   \n",
       "9   (bin_cat__is_apartment_True, bin_cat__has_elev...  3.003089  0.697962   \n",
       "10  (bin_cat__is_apartment_True, bin_cat__has_elev...   0.34903   0.08112   \n",
       "\n",
       "     std_err  \n",
       "1   0.004406  \n",
       "2   0.022873  \n",
       "3   0.811751  \n",
       "4   0.850988  \n",
       "5   0.584909  \n",
       "6   0.269312  \n",
       "7   0.288993  \n",
       "8   1.751782  \n",
       "9   0.697962  \n",
       "10   0.08112  "
      ]
     },
     "execution_count": 26,
     "metadata": {},
     "output_type": "execute_result"
    }
   ],
   "source": [
    "sffs_df"
   ]
  },
  {
   "cell_type": "code",
   "execution_count": 27,
   "metadata": {},
   "outputs": [
    {
     "name": "stdout",
     "output_type": "stream",
     "text": [
      "-2.728438237211094\n",
      "('bin_cat__is_apartment_True', 'bin_cat__has_elevator_True', 'num_pipeline_wo_afr__num_pol__floor', 'num_pipeline_wo_afr__num_pol__kitchen_area', 'num_pipeline_wo_afr__num_pol__floor building_age', 'num_pipeline_wo_afr__num_pol__kitchen_area^2', 'num_pipeline_wo_afr__num_pol__kitchen_area latitude', 'num_pipeline_wo_afr__num_pol__kitchen_area longitude', 'num_pipeline_wo_afr__num_pol__kitchen_area building_age', 'x001')\n",
      "(0, 1, 4, 5, 23, 24, 27, 28, 32, 80)\n"
     ]
    }
   ],
   "source": [
    "print(sffs.k_score_)\n",
    "print(sffs.k_feature_names_)\n",
    "print(sffs.k_feature_idx_)"
   ]
  },
  {
   "cell_type": "code",
   "execution_count": 28,
   "metadata": {},
   "outputs": [
    {
     "data": {
      "image/png": "[encoded data removed]",
      "text/plain": [
       "<Figure size 640x480 with 1 Axes>"
      ]
     },
     "metadata": {},
     "output_type": "display_data"
    },
    {
     "data": {
      "text/plain": [
       "<Figure size 640x480 with 0 Axes>"
      ]
     },
     "metadata": {},
     "output_type": "display_data"
    }
   ],
   "source": [
    "# График отбора признаков для SFFS\n",
    "fig = plot_sfs(sffs.get_metric_dict(), kind='std_dev')\n",
    "plt.title('Sequential Forward Floating Selection (w. StdDev)')\n",
    "plt.grid()\n",
    "plt.show()\n",
    "plt.savefig(f\"../{FS_ASSETS_DIR}/sffs.png\")"
   ]
  },
  {
   "cell_type": "markdown",
   "metadata": {},
   "source": [
    "Из графика следует, что нет смысла брать более 6 первых признаков"
   ]
  },
  {
   "cell_type": "code",
   "execution_count": 30,
   "metadata": {},
   "outputs": [
    {
     "data": {
      "text/plain": [
       "('bin_cat__is_apartment_True',\n",
       " 'bin_cat__has_elevator_True',\n",
       " 'num_pipeline_wo_afr__num_pol__floor',\n",
       " 'num_pipeline_wo_afr__num_pol__kitchen_area',\n",
       " 'num_pipeline_wo_afr__num_pol__floor building_age',\n",
       " 'num_pipeline_wo_afr__num_pol__kitchen_area^2')"
      ]
     },
     "execution_count": 30,
     "metadata": {},
     "output_type": "execute_result"
    }
   ],
   "source": [
    "sffs.k_feature_names_[:6]"
   ]
  },
  {
   "cell_type": "markdown",
   "metadata": {},
   "source": [
    "__Отбираем признаки с помощью метода Sequential Forward Selection (SFS)__"
   ]
  },
  {
   "cell_type": "code",
   "execution_count": null,
   "metadata": {},
   "outputs": [],
   "source": [
    "model = CatBoostRegressor(\n",
    "    iterations=100, \n",
    "    loss_function='MAPE', \n",
    "    eval_metric='MAPE', \n",
    "    verbose=False, \n",
    "    random_state=42\n",
    ")\n",
    "\n",
    "# Отбираем 10 признаков\n",
    "sfs = SFS(\n",
    "    estimator=model,\n",
    "    forward=True,      \n",
    "    floating=False,\n",
    "    k_features=10,\n",
    "    scoring='neg_mean_absolute_percentage_error',\n",
    "    cv=2,               \n",
    "    n_jobs=-1\n",
    ") \n",
    "\n",
    "sfs = sfs.fit(encoded_X_train, y_train)\n",
    "sfs_df = pd.DataFrame.from_dict(sfs.get_metric_dict()).T\n",
    "sfs_df.to_csv(f\"../{FS_ASSETS_DIR}/sfs.csv\")"
   ]
  },
  {
   "cell_type": "code",
   "execution_count": 32,
   "metadata": {},
   "outputs": [
    {
     "data": {
      "text/html": [
       "<div>\n",
       "<style scoped>\n",
       "    .dataframe tbody tr th:only-of-type {\n",
       "        vertical-align: middle;\n",
       "    }\n",
       "\n",
       "    .dataframe tbody tr th {\n",
       "        vertical-align: top;\n",
       "    }\n",
       "\n",
       "    .dataframe thead th {\n",
       "        text-align: right;\n",
       "    }\n",
       "</style>\n",
       "<table border=\"1\" class=\"dataframe\">\n",
       "  <thead>\n",
       "    <tr style=\"text-align: right;\">\n",
       "      <th></th>\n",
       "      <th>feature_idx</th>\n",
       "      <th>cv_scores</th>\n",
       "      <th>avg_score</th>\n",
       "      <th>feature_names</th>\n",
       "      <th>ci_bound</th>\n",
       "      <th>std_dev</th>\n",
       "      <th>std_err</th>\n",
       "    </tr>\n",
       "  </thead>\n",
       "  <tbody>\n",
       "    <tr>\n",
       "      <th>1</th>\n",
       "      <td>(0,)</td>\n",
       "      <td>[-1.0089993284292074, -1.0001869723610202]</td>\n",
       "      <td>-1.004593</td>\n",
       "      <td>(bin_cat__is_apartment_True,)</td>\n",
       "      <td>0.018958</td>\n",
       "      <td>0.004406</td>\n",
       "      <td>0.004406</td>\n",
       "    </tr>\n",
       "    <tr>\n",
       "      <th>2</th>\n",
       "      <td>(0, 5)</td>\n",
       "      <td>[-1.0118975854902548, -0.966151559982494]</td>\n",
       "      <td>-0.989025</td>\n",
       "      <td>(bin_cat__is_apartment_True, num_pipeline_wo_a...</td>\n",
       "      <td>0.098415</td>\n",
       "      <td>0.022873</td>\n",
       "      <td>0.022873</td>\n",
       "    </tr>\n",
       "    <tr>\n",
       "      <th>3</th>\n",
       "      <td>(0, 5, 24)</td>\n",
       "      <td>[-2.547134967491392, -0.9236339221042358]</td>\n",
       "      <td>-1.735384</td>\n",
       "      <td>(bin_cat__is_apartment_True, num_pipeline_wo_a...</td>\n",
       "      <td>3.492681</td>\n",
       "      <td>0.811751</td>\n",
       "      <td>0.811751</td>\n",
       "    </tr>\n",
       "    <tr>\n",
       "      <th>4</th>\n",
       "      <td>(0, 5, 24, 27)</td>\n",
       "      <td>[-2.6701813677063337, -0.9682057326983584]</td>\n",
       "      <td>-1.819194</td>\n",
       "      <td>(bin_cat__is_apartment_True, num_pipeline_wo_a...</td>\n",
       "      <td>3.661505</td>\n",
       "      <td>0.850988</td>\n",
       "      <td>0.850988</td>\n",
       "    </tr>\n",
       "    <tr>\n",
       "      <th>5</th>\n",
       "      <td>(0, 5, 24, 27, 28)</td>\n",
       "      <td>[-2.1940511245560335, -1.024232559958161]</td>\n",
       "      <td>-1.609142</td>\n",
       "      <td>(bin_cat__is_apartment_True, num_pipeline_wo_a...</td>\n",
       "      <td>2.516662</td>\n",
       "      <td>0.584909</td>\n",
       "      <td>0.584909</td>\n",
       "    </tr>\n",
       "    <tr>\n",
       "      <th>6</th>\n",
       "      <td>(0, 2, 5, 24, 27, 28)</td>\n",
       "      <td>[-1.0718928511108359, -1.6105173920017146]</td>\n",
       "      <td>-1.341205</td>\n",
       "      <td>(bin_cat__is_apartment_True, other_cat__rooms,...</td>\n",
       "      <td>1.158757</td>\n",
       "      <td>0.269312</td>\n",
       "      <td>0.269312</td>\n",
       "    </tr>\n",
       "    <tr>\n",
       "      <th>7</th>\n",
       "      <td>(0, 1, 2, 5, 24, 27, 28)</td>\n",
       "      <td>[-1.0611523236225635, -1.639138395198876]</td>\n",
       "      <td>-1.350145</td>\n",
       "      <td>(bin_cat__is_apartment_True, bin_cat__has_elev...</td>\n",
       "      <td>1.243437</td>\n",
       "      <td>0.288993</td>\n",
       "      <td>0.288993</td>\n",
       "    </tr>\n",
       "    <tr>\n",
       "      <th>8</th>\n",
       "      <td>(0, 1, 2, 4, 5, 24, 27, 28)</td>\n",
       "      <td>[-1.4952851897128179, -4.998849928184432]</td>\n",
       "      <td>-3.247068</td>\n",
       "      <td>(bin_cat__is_apartment_True, bin_cat__has_elev...</td>\n",
       "      <td>7.537311</td>\n",
       "      <td>1.751782</td>\n",
       "      <td>1.751782</td>\n",
       "    </tr>\n",
       "    <tr>\n",
       "      <th>9</th>\n",
       "      <td>(0, 1, 2, 4, 5, 24, 27, 28, 32)</td>\n",
       "      <td>[-1.5760757526562048, -4.044083327318139]</td>\n",
       "      <td>-2.81008</td>\n",
       "      <td>(bin_cat__is_apartment_True, bin_cat__has_elev...</td>\n",
       "      <td>5.30949</td>\n",
       "      <td>1.234004</td>\n",
       "      <td>1.234004</td>\n",
       "    </tr>\n",
       "    <tr>\n",
       "      <th>10</th>\n",
       "      <td>(0, 1, 2, 4, 5, 23, 24, 27, 28, 32)</td>\n",
       "      <td>[-2.6159816516555763, -4.623336008331712]</td>\n",
       "      <td>-3.619659</td>\n",
       "      <td>(bin_cat__is_apartment_True, bin_cat__has_elev...</td>\n",
       "      <td>4.318474</td>\n",
       "      <td>1.003677</td>\n",
       "      <td>1.003677</td>\n",
       "    </tr>\n",
       "  </tbody>\n",
       "</table>\n",
       "</div>"
      ],
      "text/plain": [
       "                            feature_idx  \\\n",
       "1                                  (0,)   \n",
       "2                                (0, 5)   \n",
       "3                            (0, 5, 24)   \n",
       "4                        (0, 5, 24, 27)   \n",
       "5                    (0, 5, 24, 27, 28)   \n",
       "6                 (0, 2, 5, 24, 27, 28)   \n",
       "7              (0, 1, 2, 5, 24, 27, 28)   \n",
       "8           (0, 1, 2, 4, 5, 24, 27, 28)   \n",
       "9       (0, 1, 2, 4, 5, 24, 27, 28, 32)   \n",
       "10  (0, 1, 2, 4, 5, 23, 24, 27, 28, 32)   \n",
       "\n",
       "                                     cv_scores avg_score  \\\n",
       "1   [-1.0089993284292074, -1.0001869723610202] -1.004593   \n",
       "2    [-1.0118975854902548, -0.966151559982494] -0.989025   \n",
       "3    [-2.547134967491392, -0.9236339221042358] -1.735384   \n",
       "4   [-2.6701813677063337, -0.9682057326983584] -1.819194   \n",
       "5    [-2.1940511245560335, -1.024232559958161] -1.609142   \n",
       "6   [-1.0718928511108359, -1.6105173920017146] -1.341205   \n",
       "7    [-1.0611523236225635, -1.639138395198876] -1.350145   \n",
       "8    [-1.4952851897128179, -4.998849928184432] -3.247068   \n",
       "9    [-1.5760757526562048, -4.044083327318139]  -2.81008   \n",
       "10   [-2.6159816516555763, -4.623336008331712] -3.619659   \n",
       "\n",
       "                                        feature_names  ci_bound   std_dev  \\\n",
       "1                       (bin_cat__is_apartment_True,)  0.018958  0.004406   \n",
       "2   (bin_cat__is_apartment_True, num_pipeline_wo_a...  0.098415  0.022873   \n",
       "3   (bin_cat__is_apartment_True, num_pipeline_wo_a...  3.492681  0.811751   \n",
       "4   (bin_cat__is_apartment_True, num_pipeline_wo_a...  3.661505  0.850988   \n",
       "5   (bin_cat__is_apartment_True, num_pipeline_wo_a...  2.516662  0.584909   \n",
       "6   (bin_cat__is_apartment_True, other_cat__rooms,...  1.158757  0.269312   \n",
       "7   (bin_cat__is_apartment_True, bin_cat__has_elev...  1.243437  0.288993   \n",
       "8   (bin_cat__is_apartment_True, bin_cat__has_elev...  7.537311  1.751782   \n",
       "9   (bin_cat__is_apartment_True, bin_cat__has_elev...   5.30949  1.234004   \n",
       "10  (bin_cat__is_apartment_True, bin_cat__has_elev...  4.318474  1.003677   \n",
       "\n",
       "     std_err  \n",
       "1   0.004406  \n",
       "2   0.022873  \n",
       "3   0.811751  \n",
       "4   0.850988  \n",
       "5   0.584909  \n",
       "6   0.269312  \n",
       "7   0.288993  \n",
       "8   1.751782  \n",
       "9   1.234004  \n",
       "10  1.003677  "
      ]
     },
     "execution_count": 32,
     "metadata": {},
     "output_type": "execute_result"
    }
   ],
   "source": [
    "sfs_df"
   ]
  },
  {
   "cell_type": "code",
   "execution_count": 33,
   "metadata": {},
   "outputs": [
    {
     "name": "stdout",
     "output_type": "stream",
     "text": [
      "-3.6196588299936443\n",
      "('bin_cat__is_apartment_True', 'bin_cat__has_elevator_True', 'other_cat__rooms', 'num_pipeline_wo_afr__num_pol__floor', 'num_pipeline_wo_afr__num_pol__kitchen_area', 'num_pipeline_wo_afr__num_pol__floor building_age', 'num_pipeline_wo_afr__num_pol__kitchen_area^2', 'num_pipeline_wo_afr__num_pol__kitchen_area latitude', 'num_pipeline_wo_afr__num_pol__kitchen_area longitude', 'num_pipeline_wo_afr__num_pol__kitchen_area building_age')\n",
      "(0, 1, 2, 4, 5, 23, 24, 27, 28, 32)\n"
     ]
    }
   ],
   "source": [
    "print(sfs.k_score_)\n",
    "print(sfs.k_feature_names_)\n",
    "print(sfs.k_feature_idx_)"
   ]
  },
  {
   "cell_type": "code",
   "execution_count": 34,
   "metadata": {},
   "outputs": [
    {
     "data": {
      "image/png": "[encoded data removed]",
      "text/plain": [
       "<Figure size 640x480 with 1 Axes>"
      ]
     },
     "metadata": {},
     "output_type": "display_data"
    },
    {
     "data": {
      "text/plain": [
       "<Figure size 640x480 with 0 Axes>"
      ]
     },
     "metadata": {},
     "output_type": "display_data"
    }
   ],
   "source": [
    "# График отбора признаков для SFS\n",
    "fig = plot_sfs(sfs.get_metric_dict(), kind='std_dev')\n",
    "plt.title('Sequential Forward Selection (w. StdDev)')\n",
    "plt.grid()\n",
    "plt.show()\n",
    "plt.savefig(f\"../{FS_ASSETS_DIR}/sfs.png\")"
   ]
  },
  {
   "cell_type": "markdown",
   "metadata": {},
   "source": [
    "В этом случае также лучше взять максимум 6 признаков"
   ]
  },
  {
   "cell_type": "code",
   "execution_count": 36,
   "metadata": {},
   "outputs": [
    {
     "data": {
      "text/plain": [
       "('bin_cat__is_apartment_True',\n",
       " 'bin_cat__has_elevator_True',\n",
       " 'other_cat__rooms',\n",
       " 'num_pipeline_wo_afr__num_pol__floor',\n",
       " 'num_pipeline_wo_afr__num_pol__kitchen_area',\n",
       " 'num_pipeline_wo_afr__num_pol__floor building_age')"
      ]
     },
     "execution_count": 36,
     "metadata": {},
     "output_type": "execute_result"
    }
   ],
   "source": [
    "sfs.k_feature_names_[:6]"
   ]
  },
  {
   "cell_type": "markdown",
   "metadata": {},
   "source": [
    "__Обучаем модель на отобранных признаках__"
   ]
  },
  {
   "cell_type": "markdown",
   "metadata": {},
   "source": [
    "Объединяем самые оптимальные признаки, отобранные с помощью SFFS и SFS, т.е. берем по 6 первых признаков от каждого метода, и получаем итоговый набор фич"
   ]
  },
  {
   "cell_type": "code",
   "execution_count": 40,
   "metadata": {},
   "outputs": [],
   "source": [
    "selected_features_indices = list(set(sffs.k_feature_idx_[:6] + sfs.k_feature_idx_[:6]))\n",
    "\n",
    "selected_encoded_X_train = encoded_X_train.iloc[:, selected_features_indices]\n",
    "selected_encoded_X_test = encoded_X_test.iloc[:, selected_features_indices]"
   ]
  },
  {
   "cell_type": "markdown",
   "metadata": {},
   "source": [
    "Обучаем модель"
   ]
  },
  {
   "cell_type": "code",
   "execution_count": 41,
   "metadata": {},
   "outputs": [
    {
     "data": {
      "text/plain": [
       "<catboost.core.CatBoostRegressor at 0x7f037a9c3940>"
      ]
     },
     "execution_count": 41,
     "metadata": {},
     "output_type": "execute_result"
    }
   ],
   "source": [
    "model = CatBoostRegressor(loss_function='MAPE', verbose=False, random_state=42)\n",
    "model.fit(selected_encoded_X_train, y_train)"
   ]
  },
  {
   "cell_type": "markdown",
   "metadata": {},
   "source": [
    "Оцениваем модель на тестовых данных"
   ]
  },
  {
   "cell_type": "code",
   "execution_count": 42,
   "metadata": {},
   "outputs": [
    {
     "name": "stdout",
     "output_type": "stream",
     "text": [
      "{'MAPE': 1.0832110717976213, 'fit_time': 76.67032814025879}\n"
     ]
    }
   ],
   "source": [
    "y_pred = model.predict(selected_encoded_X_test)\n",
    "mape = mean_absolute_percentage_error(y_test, y_pred)\n",
    "\n",
    "metrics = {}\n",
    "metrics['MAPE'] = mape\n",
    "metrics['fit_time'] = end - start\n",
    "print(metrics)"
   ]
  },
  {
   "cell_type": "markdown",
   "metadata": {},
   "source": [
    "__Логируем результаты в MLflow__"
   ]
  },
  {
   "cell_type": "code",
   "execution_count": 43,
   "metadata": {},
   "outputs": [],
   "source": [
    "os.environ[\"MLFLOW_S3_ENDPOINT_URL\"] = \"https://storage.yandexcloud.net\" \n",
    "os.environ[\"AWS_ACCESS_KEY_ID\"] = os.getenv(\"AWS_ACCESS_KEY_ID\") \n",
    "os.environ[\"AWS_SECRET_ACCESS_KEY\"] = os.getenv(\"AWS_SECRET_ACCESS_KEY\") \n",
    "\n",
    "TRACKING_SERVER_HOST = '127.0.0.1' \n",
    "TRACKING_SERVER_PORT = 5000\n",
    "\n",
    "mlflow.set_tracking_uri(f\"http://{TRACKING_SERVER_HOST}:{TRACKING_SERVER_PORT}\")\n",
    "mlflow.set_registry_uri(f\"http://{TRACKING_SERVER_HOST}:{TRACKING_SERVER_PORT}\") \n",
    "\n",
    "EXPERIMENT_NAME = 'mle-project-sprint-2'\n",
    "RUN_NAME = 'step_4'\n",
    "REGISTRY_MODEL_NAME = 'flats_price_model_sprint_2_step_4'"
   ]
  },
  {
   "cell_type": "code",
   "execution_count": 44,
   "metadata": {},
   "outputs": [
    {
     "name": "stderr",
     "output_type": "stream",
     "text": [
      "2024-04-21 15:08:35,388 INFO: Found credentials in environment variables.\n",
      "Successfully registered model 'flats_price_model_sprint_2_step_4'.\n",
      "2024/04/21 15:08:38 INFO mlflow.tracking._model_registry.client: Waiting up to 300 seconds for model version to finish creation. Model name: flats_price_model_sprint_2_step_4, version 1\n",
      "Created version '1' of model 'flats_price_model_sprint_2_step_4'.\n"
     ]
    }
   ],
   "source": [
    "metadata = {'model_type': 'regression'}\n",
    "pip_requirements = \"../requirements.txt\" \n",
    "signature = mlflow.models.infer_signature(\n",
    "    selected_encoded_X_test,\n",
    "    model.predict(selected_encoded_X_test)\n",
    ") \n",
    "input_example = pd.concat([selected_encoded_X_train, y_train], axis=1)[:10]\n",
    "\n",
    "experiment_id = mlflow.get_experiment_by_name(EXPERIMENT_NAME).experiment_id\n",
    "\n",
    "with mlflow.start_run(run_name=RUN_NAME, experiment_id=experiment_id) as run:\n",
    "    run_id = run.info.run_id\n",
    "    \n",
    "    mlflow.log_metrics(metrics)\n",
    "    mlflow.log_artifacts(FS_ASSETS_DIR)\n",
    "        \n",
    "    model_info = mlflow.catboost.log_model( \n",
    "        cb_model=model,\n",
    "        artifact_path=\"models\",\n",
    "        registered_model_name=REGISTRY_MODEL_NAME,\n",
    "        metadata=metadata,\n",
    "        signature=signature,\n",
    "        input_example=input_example,\n",
    "        pip_requirements=pip_requirements\n",
    "    )"
   ]
  },
  {
   "cell_type": "code",
   "execution_count": 45,
   "metadata": {},
   "outputs": [
    {
     "name": "stdout",
     "output_type": "stream",
     "text": [
      "c84a7a4fe4f545fa9589a40982a1704f\n"
     ]
    }
   ],
   "source": [
    "print(run_id)\n",
    "\n",
    "run = mlflow.get_run(run_id)\n",
    "assert run.info.status == 'FINISHED'"
   ]
  },
  {
   "cell_type": "code",
   "execution_count": null,
   "metadata": {},
   "outputs": [],
   "source": [
    "# После логирования в MLflow удаляем файлы, сохраненные локально\n",
    "os.remove(f'../{FS_ASSETS_DIR}/sffs.csv')\n",
    "os.remove(f'../{FS_ASSETS_DIR}/sffs.png')\n",
    "\n",
    "os.remove(f'../{FS_ASSETS_DIR}/sfs.csv')\n",
    "os.remove(f'../{FS_ASSETS_DIR}/sfs.png')"
   ]
  },
  {
   "cell_type": "markdown",
   "metadata": {},
   "source": [
    "__Выводы по результатам 4-го этапа:__\n",
    "    \n",
    "После обучения модели на признаках, отобранных с помощью методов SFFS и SFS, ошибка MAPE на тестовых данных снова заметно уменьшилась. Самыми важными признаками оказались is_apartment, has_elevator, rooms, floor, building_age и kitchen_area. Данные результаты отчасти согласуются с EDA."
   ]
  },
  {
   "cell_type": "markdown",
   "metadata": {},
   "source": [
    "### Этап 5: Подбор гиперпараметров и обучение новой версии модели <a id=\"step_5\"></a>"
   ]
  },
  {
   "cell_type": "markdown",
   "metadata": {},
   "source": [
    "Будем использовать признаки, преобразованные и отобранные на предыдущих этапах."
   ]
  },
  {
   "cell_type": "markdown",
   "metadata": {},
   "source": [
    "__Randomized Search__"
   ]
  },
  {
   "cell_type": "code",
   "execution_count": 54,
   "metadata": {},
   "outputs": [],
   "source": [
    "model = CatBoostRegressor(\n",
    "    loss_function='MAPE', \n",
    "    eval_metric='MAPE', \n",
    "    iterations=100,\n",
    "    verbose=False,\n",
    "    random_state=42\n",
    ")\n",
    "\n",
    "# Cетка параметров\n",
    "params = {\n",
    "    'learning_rate': np.logspace(-3, -1, 5), \n",
    "    'depth': [3, 4, 5, 6, 7],\n",
    "    'l2_leaf_reg': np.logspace(-2, 0, 5)\n",
    "}\n",
    "\n",
    "random_search = RandomizedSearchCV(\n",
    "    estimator=model,\n",
    "    param_distributions=params, \n",
    "    scoring='neg_mean_absolute_percentage_error',\n",
    "    n_iter=20, \n",
    "    cv=3, \n",
    "    random_state=42, \n",
    "    n_jobs=-1\n",
    ")\n",
    "\n",
    "random_search.fit(selected_encoded_X_train, y_train)\n",
    "cv_results = pd.DataFrame(random_search.cv_results_)"
   ]
  },
  {
   "cell_type": "code",
   "execution_count": 55,
   "metadata": {},
   "outputs": [
    {
     "data": {
      "text/html": [
       "<div>\n",
       "<style scoped>\n",
       "    .dataframe tbody tr th:only-of-type {\n",
       "        vertical-align: middle;\n",
       "    }\n",
       "\n",
       "    .dataframe tbody tr th {\n",
       "        vertical-align: top;\n",
       "    }\n",
       "\n",
       "    .dataframe thead th {\n",
       "        text-align: right;\n",
       "    }\n",
       "</style>\n",
       "<table border=\"1\" class=\"dataframe\">\n",
       "  <thead>\n",
       "    <tr style=\"text-align: right;\">\n",
       "      <th></th>\n",
       "      <th>mean_fit_time</th>\n",
       "      <th>std_fit_time</th>\n",
       "      <th>mean_score_time</th>\n",
       "      <th>std_score_time</th>\n",
       "      <th>param_learning_rate</th>\n",
       "      <th>param_l2_leaf_reg</th>\n",
       "      <th>param_depth</th>\n",
       "      <th>params</th>\n",
       "      <th>split0_test_score</th>\n",
       "      <th>split1_test_score</th>\n",
       "      <th>split2_test_score</th>\n",
       "      <th>mean_test_score</th>\n",
       "      <th>std_test_score</th>\n",
       "      <th>rank_test_score</th>\n",
       "    </tr>\n",
       "  </thead>\n",
       "  <tbody>\n",
       "    <tr>\n",
       "      <th>0</th>\n",
       "      <td>2.014496</td>\n",
       "      <td>0.078710</td>\n",
       "      <td>0.013480</td>\n",
       "      <td>0.005886</td>\n",
       "      <td>0.031623</td>\n",
       "      <td>0.316228</td>\n",
       "      <td>3</td>\n",
       "      <td>{'learning_rate': 0.03162277660168379, 'l2_lea...</td>\n",
       "      <td>-2.461355</td>\n",
       "      <td>-14.007178</td>\n",
       "      <td>-5.392424</td>\n",
       "      <td>-7.286986</td>\n",
       "      <td>4.900240</td>\n",
       "      <td>10</td>\n",
       "    </tr>\n",
       "    <tr>\n",
       "      <th>1</th>\n",
       "      <td>2.121253</td>\n",
       "      <td>0.030824</td>\n",
       "      <td>0.019488</td>\n",
       "      <td>0.003411</td>\n",
       "      <td>0.01</td>\n",
       "      <td>0.316228</td>\n",
       "      <td>4</td>\n",
       "      <td>{'learning_rate': 0.01, 'l2_leaf_reg': 0.31622...</td>\n",
       "      <td>-2.429841</td>\n",
       "      <td>-15.962926</td>\n",
       "      <td>-4.054801</td>\n",
       "      <td>-7.482523</td>\n",
       "      <td>6.033134</td>\n",
       "      <td>11</td>\n",
       "    </tr>\n",
       "    <tr>\n",
       "      <th>2</th>\n",
       "      <td>2.098189</td>\n",
       "      <td>0.113464</td>\n",
       "      <td>0.023122</td>\n",
       "      <td>0.002274</td>\n",
       "      <td>0.003162</td>\n",
       "      <td>0.1</td>\n",
       "      <td>4</td>\n",
       "      <td>{'learning_rate': 0.0031622776601683794, 'l2_l...</td>\n",
       "      <td>-0.992022</td>\n",
       "      <td>-6.366075</td>\n",
       "      <td>-2.051359</td>\n",
       "      <td>-3.136485</td>\n",
       "      <td>2.324254</td>\n",
       "      <td>3</td>\n",
       "    </tr>\n",
       "    <tr>\n",
       "      <th>3</th>\n",
       "      <td>2.553463</td>\n",
       "      <td>0.055356</td>\n",
       "      <td>0.025047</td>\n",
       "      <td>0.002498</td>\n",
       "      <td>0.003162</td>\n",
       "      <td>0.01</td>\n",
       "      <td>6</td>\n",
       "      <td>{'learning_rate': 0.0031622776601683794, 'l2_l...</td>\n",
       "      <td>-1.243950</td>\n",
       "      <td>-8.112782</td>\n",
       "      <td>-2.533959</td>\n",
       "      <td>-3.963564</td>\n",
       "      <td>2.980832</td>\n",
       "      <td>6</td>\n",
       "    </tr>\n",
       "    <tr>\n",
       "      <th>4</th>\n",
       "      <td>2.340531</td>\n",
       "      <td>0.013043</td>\n",
       "      <td>0.028901</td>\n",
       "      <td>0.000300</td>\n",
       "      <td>0.031623</td>\n",
       "      <td>0.01</td>\n",
       "      <td>5</td>\n",
       "      <td>{'learning_rate': 0.03162277660168379, 'l2_lea...</td>\n",
       "      <td>-2.932842</td>\n",
       "      <td>-21.001153</td>\n",
       "      <td>-9.492492</td>\n",
       "      <td>-11.142162</td>\n",
       "      <td>7.468022</td>\n",
       "      <td>17</td>\n",
       "    </tr>\n",
       "    <tr>\n",
       "      <th>5</th>\n",
       "      <td>2.332909</td>\n",
       "      <td>0.014478</td>\n",
       "      <td>0.022459</td>\n",
       "      <td>0.000649</td>\n",
       "      <td>0.003162</td>\n",
       "      <td>0.316228</td>\n",
       "      <td>6</td>\n",
       "      <td>{'learning_rate': 0.0031622776601683794, 'l2_l...</td>\n",
       "      <td>-1.243921</td>\n",
       "      <td>-8.112782</td>\n",
       "      <td>-2.533959</td>\n",
       "      <td>-3.963554</td>\n",
       "      <td>2.980841</td>\n",
       "      <td>5</td>\n",
       "    </tr>\n",
       "    <tr>\n",
       "      <th>6</th>\n",
       "      <td>2.242677</td>\n",
       "      <td>0.157048</td>\n",
       "      <td>0.028315</td>\n",
       "      <td>0.005197</td>\n",
       "      <td>0.003162</td>\n",
       "      <td>0.031623</td>\n",
       "      <td>5</td>\n",
       "      <td>{'learning_rate': 0.0031622776601683794, 'l2_l...</td>\n",
       "      <td>-1.016166</td>\n",
       "      <td>-8.018730</td>\n",
       "      <td>-2.092265</td>\n",
       "      <td>-3.709054</td>\n",
       "      <td>3.078905</td>\n",
       "      <td>4</td>\n",
       "    </tr>\n",
       "    <tr>\n",
       "      <th>7</th>\n",
       "      <td>2.932751</td>\n",
       "      <td>0.123028</td>\n",
       "      <td>0.026836</td>\n",
       "      <td>0.003421</td>\n",
       "      <td>0.031623</td>\n",
       "      <td>1.0</td>\n",
       "      <td>7</td>\n",
       "      <td>{'learning_rate': 0.03162277660168379, 'l2_lea...</td>\n",
       "      <td>-2.846737</td>\n",
       "      <td>-21.922731</td>\n",
       "      <td>-13.692372</td>\n",
       "      <td>-12.820613</td>\n",
       "      <td>7.812100</td>\n",
       "      <td>19</td>\n",
       "    </tr>\n",
       "    <tr>\n",
       "      <th>8</th>\n",
       "      <td>2.657980</td>\n",
       "      <td>0.229130</td>\n",
       "      <td>0.022067</td>\n",
       "      <td>0.000525</td>\n",
       "      <td>0.031623</td>\n",
       "      <td>0.316228</td>\n",
       "      <td>6</td>\n",
       "      <td>{'learning_rate': 0.03162277660168379, 'l2_lea...</td>\n",
       "      <td>-3.216136</td>\n",
       "      <td>-24.026169</td>\n",
       "      <td>-6.766222</td>\n",
       "      <td>-11.336175</td>\n",
       "      <td>9.089471</td>\n",
       "      <td>18</td>\n",
       "    </tr>\n",
       "    <tr>\n",
       "      <th>9</th>\n",
       "      <td>1.755048</td>\n",
       "      <td>0.164584</td>\n",
       "      <td>0.026250</td>\n",
       "      <td>0.004216</td>\n",
       "      <td>0.1</td>\n",
       "      <td>0.01</td>\n",
       "      <td>3</td>\n",
       "      <td>{'learning_rate': 0.1, 'l2_leaf_reg': 0.01, 'd...</td>\n",
       "      <td>-2.553357</td>\n",
       "      <td>-21.136652</td>\n",
       "      <td>-3.750878</td>\n",
       "      <td>-9.146962</td>\n",
       "      <td>8.492075</td>\n",
       "      <td>13</td>\n",
       "    </tr>\n",
       "    <tr>\n",
       "      <th>10</th>\n",
       "      <td>1.966333</td>\n",
       "      <td>0.091946</td>\n",
       "      <td>0.028265</td>\n",
       "      <td>0.004786</td>\n",
       "      <td>0.01</td>\n",
       "      <td>0.01</td>\n",
       "      <td>4</td>\n",
       "      <td>{'learning_rate': 0.01, 'l2_leaf_reg': 0.01, '...</td>\n",
       "      <td>-2.429841</td>\n",
       "      <td>-15.962926</td>\n",
       "      <td>-4.054801</td>\n",
       "      <td>-7.482523</td>\n",
       "      <td>6.033134</td>\n",
       "      <td>11</td>\n",
       "    </tr>\n",
       "    <tr>\n",
       "      <th>11</th>\n",
       "      <td>2.950125</td>\n",
       "      <td>0.101625</td>\n",
       "      <td>0.027988</td>\n",
       "      <td>0.007018</td>\n",
       "      <td>0.003162</td>\n",
       "      <td>0.316228</td>\n",
       "      <td>7</td>\n",
       "      <td>{'learning_rate': 0.0031622776601683794, 'l2_l...</td>\n",
       "      <td>-1.222021</td>\n",
       "      <td>-7.548333</td>\n",
       "      <td>-3.721166</td>\n",
       "      <td>-4.163840</td>\n",
       "      <td>2.601605</td>\n",
       "      <td>8</td>\n",
       "    </tr>\n",
       "    <tr>\n",
       "      <th>12</th>\n",
       "      <td>1.885875</td>\n",
       "      <td>0.161808</td>\n",
       "      <td>0.021582</td>\n",
       "      <td>0.001050</td>\n",
       "      <td>0.1</td>\n",
       "      <td>0.316228</td>\n",
       "      <td>4</td>\n",
       "      <td>{'learning_rate': 0.1, 'l2_leaf_reg': 0.316227...</td>\n",
       "      <td>-2.900132</td>\n",
       "      <td>-22.089980</td>\n",
       "      <td>-3.819143</td>\n",
       "      <td>-9.603085</td>\n",
       "      <td>8.837536</td>\n",
       "      <td>15</td>\n",
       "    </tr>\n",
       "    <tr>\n",
       "      <th>13</th>\n",
       "      <td>2.658111</td>\n",
       "      <td>0.075469</td>\n",
       "      <td>0.022758</td>\n",
       "      <td>0.000096</td>\n",
       "      <td>0.003162</td>\n",
       "      <td>1.0</td>\n",
       "      <td>6</td>\n",
       "      <td>{'learning_rate': 0.0031622776601683794, 'l2_l...</td>\n",
       "      <td>-1.245822</td>\n",
       "      <td>-8.112782</td>\n",
       "      <td>-2.533959</td>\n",
       "      <td>-3.964188</td>\n",
       "      <td>2.980263</td>\n",
       "      <td>7</td>\n",
       "    </tr>\n",
       "    <tr>\n",
       "      <th>14</th>\n",
       "      <td>1.763439</td>\n",
       "      <td>0.083706</td>\n",
       "      <td>0.027775</td>\n",
       "      <td>0.005645</td>\n",
       "      <td>0.1</td>\n",
       "      <td>0.316228</td>\n",
       "      <td>3</td>\n",
       "      <td>{'learning_rate': 0.1, 'l2_leaf_reg': 0.316227...</td>\n",
       "      <td>-2.553357</td>\n",
       "      <td>-21.136652</td>\n",
       "      <td>-3.750878</td>\n",
       "      <td>-9.146962</td>\n",
       "      <td>8.492075</td>\n",
       "      <td>13</td>\n",
       "    </tr>\n",
       "    <tr>\n",
       "      <th>15</th>\n",
       "      <td>2.582950</td>\n",
       "      <td>0.164106</td>\n",
       "      <td>0.030608</td>\n",
       "      <td>0.001089</td>\n",
       "      <td>0.01</td>\n",
       "      <td>0.01</td>\n",
       "      <td>6</td>\n",
       "      <td>{'learning_rate': 0.01, 'l2_leaf_reg': 0.01, '...</td>\n",
       "      <td>-2.095496</td>\n",
       "      <td>-19.564826</td>\n",
       "      <td>-9.531937</td>\n",
       "      <td>-10.397419</td>\n",
       "      <td>7.158034</td>\n",
       "      <td>16</td>\n",
       "    </tr>\n",
       "    <tr>\n",
       "      <th>16</th>\n",
       "      <td>2.287821</td>\n",
       "      <td>0.454182</td>\n",
       "      <td>0.021159</td>\n",
       "      <td>0.001320</td>\n",
       "      <td>0.001</td>\n",
       "      <td>0.1</td>\n",
       "      <td>3</td>\n",
       "      <td>{'learning_rate': 0.001, 'l2_leaf_reg': 0.1, '...</td>\n",
       "      <td>-1.002643</td>\n",
       "      <td>-1.199450</td>\n",
       "      <td>-1.011356</td>\n",
       "      <td>-1.071150</td>\n",
       "      <td>0.090792</td>\n",
       "      <td>1</td>\n",
       "    </tr>\n",
       "    <tr>\n",
       "      <th>17</th>\n",
       "      <td>3.481539</td>\n",
       "      <td>0.579757</td>\n",
       "      <td>0.022960</td>\n",
       "      <td>0.001177</td>\n",
       "      <td>0.003162</td>\n",
       "      <td>0.01</td>\n",
       "      <td>7</td>\n",
       "      <td>{'learning_rate': 0.0031622776601683794, 'l2_l...</td>\n",
       "      <td>-1.302347</td>\n",
       "      <td>-7.548333</td>\n",
       "      <td>-3.721166</td>\n",
       "      <td>-4.190615</td>\n",
       "      <td>2.571429</td>\n",
       "      <td>9</td>\n",
       "    </tr>\n",
       "    <tr>\n",
       "      <th>18</th>\n",
       "      <td>1.733393</td>\n",
       "      <td>0.235533</td>\n",
       "      <td>0.020334</td>\n",
       "      <td>0.002251</td>\n",
       "      <td>0.003162</td>\n",
       "      <td>0.1</td>\n",
       "      <td>3</td>\n",
       "      <td>{'learning_rate': 0.0031622776601683794, 'l2_l...</td>\n",
       "      <td>-1.262986</td>\n",
       "      <td>-5.966252</td>\n",
       "      <td>-1.381939</td>\n",
       "      <td>-2.870392</td>\n",
       "      <td>2.189642</td>\n",
       "      <td>2</td>\n",
       "    </tr>\n",
       "    <tr>\n",
       "      <th>19</th>\n",
       "      <td>2.493467</td>\n",
       "      <td>0.785921</td>\n",
       "      <td>0.021042</td>\n",
       "      <td>0.007872</td>\n",
       "      <td>0.1</td>\n",
       "      <td>0.1</td>\n",
       "      <td>7</td>\n",
       "      <td>{'learning_rate': 0.1, 'l2_leaf_reg': 0.1, 'de...</td>\n",
       "      <td>-2.997787</td>\n",
       "      <td>-25.563157</td>\n",
       "      <td>-15.044685</td>\n",
       "      <td>-14.535210</td>\n",
       "      <td>9.219315</td>\n",
       "      <td>20</td>\n",
       "    </tr>\n",
       "  </tbody>\n",
       "</table>\n",
       "</div>"
      ],
      "text/plain": [
       "    mean_fit_time  std_fit_time  mean_score_time  std_score_time  \\\n",
       "0        2.014496      0.078710         0.013480        0.005886   \n",
       "1        2.121253      0.030824         0.019488        0.003411   \n",
       "2        2.098189      0.113464         0.023122        0.002274   \n",
       "3        2.553463      0.055356         0.025047        0.002498   \n",
       "4        2.340531      0.013043         0.028901        0.000300   \n",
       "5        2.332909      0.014478         0.022459        0.000649   \n",
       "6        2.242677      0.157048         0.028315        0.005197   \n",
       "7        2.932751      0.123028         0.026836        0.003421   \n",
       "8        2.657980      0.229130         0.022067        0.000525   \n",
       "9        1.755048      0.164584         0.026250        0.004216   \n",
       "10       1.966333      0.091946         0.028265        0.004786   \n",
       "11       2.950125      0.101625         0.027988        0.007018   \n",
       "12       1.885875      0.161808         0.021582        0.001050   \n",
       "13       2.658111      0.075469         0.022758        0.000096   \n",
       "14       1.763439      0.083706         0.027775        0.005645   \n",
       "15       2.582950      0.164106         0.030608        0.001089   \n",
       "16       2.287821      0.454182         0.021159        0.001320   \n",
       "17       3.481539      0.579757         0.022960        0.001177   \n",
       "18       1.733393      0.235533         0.020334        0.002251   \n",
       "19       2.493467      0.785921         0.021042        0.007872   \n",
       "\n",
       "   param_learning_rate param_l2_leaf_reg param_depth  \\\n",
       "0             0.031623          0.316228           3   \n",
       "1                 0.01          0.316228           4   \n",
       "2             0.003162               0.1           4   \n",
       "3             0.003162              0.01           6   \n",
       "4             0.031623              0.01           5   \n",
       "5             0.003162          0.316228           6   \n",
       "6             0.003162          0.031623           5   \n",
       "7             0.031623               1.0           7   \n",
       "8             0.031623          0.316228           6   \n",
       "9                  0.1              0.01           3   \n",
       "10                0.01              0.01           4   \n",
       "11            0.003162          0.316228           7   \n",
       "12                 0.1          0.316228           4   \n",
       "13            0.003162               1.0           6   \n",
       "14                 0.1          0.316228           3   \n",
       "15                0.01              0.01           6   \n",
       "16               0.001               0.1           3   \n",
       "17            0.003162              0.01           7   \n",
       "18            0.003162               0.1           3   \n",
       "19                 0.1               0.1           7   \n",
       "\n",
       "                                               params  split0_test_score  \\\n",
       "0   {'learning_rate': 0.03162277660168379, 'l2_lea...          -2.461355   \n",
       "1   {'learning_rate': 0.01, 'l2_leaf_reg': 0.31622...          -2.429841   \n",
       "2   {'learning_rate': 0.0031622776601683794, 'l2_l...          -0.992022   \n",
       "3   {'learning_rate': 0.0031622776601683794, 'l2_l...          -1.243950   \n",
       "4   {'learning_rate': 0.03162277660168379, 'l2_lea...          -2.932842   \n",
       "5   {'learning_rate': 0.0031622776601683794, 'l2_l...          -1.243921   \n",
       "6   {'learning_rate': 0.0031622776601683794, 'l2_l...          -1.016166   \n",
       "7   {'learning_rate': 0.03162277660168379, 'l2_lea...          -2.846737   \n",
       "8   {'learning_rate': 0.03162277660168379, 'l2_lea...          -3.216136   \n",
       "9   {'learning_rate': 0.1, 'l2_leaf_reg': 0.01, 'd...          -2.553357   \n",
       "10  {'learning_rate': 0.01, 'l2_leaf_reg': 0.01, '...          -2.429841   \n",
       "11  {'learning_rate': 0.0031622776601683794, 'l2_l...          -1.222021   \n",
       "12  {'learning_rate': 0.1, 'l2_leaf_reg': 0.316227...          -2.900132   \n",
       "13  {'learning_rate': 0.0031622776601683794, 'l2_l...          -1.245822   \n",
       "14  {'learning_rate': 0.1, 'l2_leaf_reg': 0.316227...          -2.553357   \n",
       "15  {'learning_rate': 0.01, 'l2_leaf_reg': 0.01, '...          -2.095496   \n",
       "16  {'learning_rate': 0.001, 'l2_leaf_reg': 0.1, '...          -1.002643   \n",
       "17  {'learning_rate': 0.0031622776601683794, 'l2_l...          -1.302347   \n",
       "18  {'learning_rate': 0.0031622776601683794, 'l2_l...          -1.262986   \n",
       "19  {'learning_rate': 0.1, 'l2_leaf_reg': 0.1, 'de...          -2.997787   \n",
       "\n",
       "    split1_test_score  split2_test_score  mean_test_score  std_test_score  \\\n",
       "0          -14.007178          -5.392424        -7.286986        4.900240   \n",
       "1          -15.962926          -4.054801        -7.482523        6.033134   \n",
       "2           -6.366075          -2.051359        -3.136485        2.324254   \n",
       "3           -8.112782          -2.533959        -3.963564        2.980832   \n",
       "4          -21.001153          -9.492492       -11.142162        7.468022   \n",
       "5           -8.112782          -2.533959        -3.963554        2.980841   \n",
       "6           -8.018730          -2.092265        -3.709054        3.078905   \n",
       "7          -21.922731         -13.692372       -12.820613        7.812100   \n",
       "8          -24.026169          -6.766222       -11.336175        9.089471   \n",
       "9          -21.136652          -3.750878        -9.146962        8.492075   \n",
       "10         -15.962926          -4.054801        -7.482523        6.033134   \n",
       "11          -7.548333          -3.721166        -4.163840        2.601605   \n",
       "12         -22.089980          -3.819143        -9.603085        8.837536   \n",
       "13          -8.112782          -2.533959        -3.964188        2.980263   \n",
       "14         -21.136652          -3.750878        -9.146962        8.492075   \n",
       "15         -19.564826          -9.531937       -10.397419        7.158034   \n",
       "16          -1.199450          -1.011356        -1.071150        0.090792   \n",
       "17          -7.548333          -3.721166        -4.190615        2.571429   \n",
       "18          -5.966252          -1.381939        -2.870392        2.189642   \n",
       "19         -25.563157         -15.044685       -14.535210        9.219315   \n",
       "\n",
       "    rank_test_score  \n",
       "0                10  \n",
       "1                11  \n",
       "2                 3  \n",
       "3                 6  \n",
       "4                17  \n",
       "5                 5  \n",
       "6                 4  \n",
       "7                19  \n",
       "8                18  \n",
       "9                13  \n",
       "10               11  \n",
       "11                8  \n",
       "12               15  \n",
       "13                7  \n",
       "14               13  \n",
       "15               16  \n",
       "16                1  \n",
       "17                9  \n",
       "18                2  \n",
       "19               20  "
      ]
     },
     "execution_count": 55,
     "metadata": {},
     "output_type": "execute_result"
    }
   ],
   "source": [
    "cv_results"
   ]
  },
  {
   "cell_type": "code",
   "execution_count": 56,
   "metadata": {},
   "outputs": [
    {
     "name": "stdout",
     "output_type": "stream",
     "text": [
      "{'learning_rate': 0.001, 'l2_leaf_reg': 0.1, 'depth': 3}\n",
      "-1.0711496168994736\n"
     ]
    }
   ],
   "source": [
    "best_params_random = random_search.best_params_ \n",
    "print(best_params_random)\n",
    "\n",
    "best_score_random = random_search.best_score_\n",
    "print(best_score_random)"
   ]
  },
  {
   "cell_type": "markdown",
   "metadata": {},
   "source": [
    "__Bayesian Search__"
   ]
  },
  {
   "cell_type": "markdown",
   "metadata": {},
   "source": [
    "Устанавливаем уровень логирования в optuna"
   ]
  },
  {
   "cell_type": "code",
   "execution_count": 57,
   "metadata": {},
   "outputs": [],
   "source": [
    "optuna.logging.set_verbosity(optuna.logging.INFO)"
   ]
  },
  {
   "cell_type": "markdown",
   "metadata": {},
   "source": [
    "Целевая функция оптимизации для вычисления метрик на каждой итерации"
   ]
  },
  {
   "cell_type": "code",
   "execution_count": 94,
   "metadata": {},
   "outputs": [],
   "source": [
    "def objective(trial: optuna.Trial) -> float:\n",
    "    params = {\n",
    "        \"learning_rate\": trial.suggest_float(\"learning_rate\", 1e-3, 1e-1, log=True),\n",
    "        \"depth\": trial.suggest_int(\"depth\", 3, 10),\n",
    "        \"l2_leaf_reg\": trial.suggest_float(\"l2_leaf_reg\", 1e-4, 1, log=True)\n",
    "    } \n",
    "       \n",
    "    model = CatBoostRegressor(\n",
    "        loss_function='MAPE', \n",
    "        eval_metric='MAPE', \n",
    "        iterations=300,\n",
    "        random_state=42,\n",
    "        verbose=False,\n",
    "        **params\n",
    "    )    \n",
    "    skf = StratifiedKFold(n_splits=2) \n",
    "    metrics = defaultdict(list)\n",
    "\n",
    "    for i, (train_index, val_index) in enumerate(skf.split(selected_encoded_X_train, y_train)):\n",
    "        train_x = selected_encoded_X_train.iloc[train_index]\n",
    "        train_y = y_train.iloc[train_index]\n",
    "        val_x = selected_encoded_X_train.iloc[val_index]\n",
    "        val_y = y_train.iloc[val_index]\n",
    "        \n",
    "        model.fit(train_x, train_y)\n",
    "        \n",
    "        preds = model.predict(val_x)\n",
    "        mape = mean_absolute_percentage_error(val_y, preds)\n",
    "        metrics[\"mape\"].append(mape)\n",
    "        \n",
    "    mape = median(metrics[\"mape\"])\n",
    "    \n",
    "    return mape"
   ]
  },
  {
   "cell_type": "markdown",
   "metadata": {},
   "source": [
    "Устанавливаем параметры MLflow"
   ]
  },
  {
   "cell_type": "code",
   "execution_count": 95,
   "metadata": {},
   "outputs": [],
   "source": [
    "TRACKING_SERVER_HOST = \"127.0.0.1\" \n",
    "TRACKING_SERVER_PORT = 5000 \n",
    "\n",
    "EXPERIMENT_NAME = 'mle-project-sprint-2' \n",
    "RUN_NAME = 'step_5' \n",
    "REGISTRY_MODEL_NAME = 'flats_price_model_sprint_2_step_5' \n",
    "\n",
    "os.environ[\"MLFLOW_S3_ENDPOINT_URL\"] = 'https://storage.yandexcloud.net'\n",
    "os.environ[\"AWS_ACCESS_KEY_ID\"] = os.getenv(\"AWS_ACCESS_KEY_ID\")\n",
    "os.environ[\"AWS_SECRET_ACCESS_KEY\"] = os.getenv(\"AWS_SECRET_ACCESS_KEY\")\n",
    "\n",
    "mlflow.set_tracking_uri(f\"http://{TRACKING_SERVER_HOST}:{TRACKING_SERVER_PORT}\")\n",
    "mlflow.set_registry_uri(f\"http://{TRACKING_SERVER_HOST}:{TRACKING_SERVER_PORT}\")\n",
    "\n",
    "STUDY_DB_NAME = \"sqlite:///local.study.db\"\n",
    "STUDY_NAME = \"bayesian_search_step_5_test_3\""
   ]
  },
  {
   "cell_type": "markdown",
   "metadata": {},
   "source": [
    "Запускаем поиск"
   ]
  },
  {
   "cell_type": "code",
   "execution_count": null,
   "metadata": {},
   "outputs": [],
   "source": [
    "experiment_id = mlflow.get_experiment_by_name(EXPERIMENT_NAME).experiment_id\n",
    "\n",
    "with mlflow.start_run(run_name=RUN_NAME, experiment_id=experiment_id) as parent_run:\n",
    "    parent_run_id = parent_run.info.run_id\n",
    "\n",
    "mlflc = MLflowCallback(\n",
    "    tracking_uri=f\"http://{TRACKING_SERVER_HOST}:{TRACKING_SERVER_PORT}\",\n",
    "    metric_name=\"MAPE\",\n",
    "    create_experiment=False,\n",
    "    mlflow_kwargs={'experiment_id': experiment_id, 'tags': {MLFLOW_PARENT_RUN_ID: parent_run_id}}\n",
    ")\n",
    "    \n",
    "study = optuna.create_study(\n",
    "    sampler=optuna.samplers.TPESampler(),\n",
    "    direction='minimize',\n",
    "    study_name=STUDY_NAME,\n",
    "    storage=STUDY_DB_NAME,\n",
    "    load_if_exists=True\n",
    ") \n",
    "\n",
    "study.optimize(objective, n_trials=10, callbacks=[mlflc]) "
   ]
  },
  {
   "cell_type": "code",
   "execution_count": 97,
   "metadata": {},
   "outputs": [
    {
     "name": "stdout",
     "output_type": "stream",
     "text": [
      "Optuna best score: 1.1898707441780345\n",
      "Optuna best params: {'learning_rate': 0.0010276475456092728, 'depth': 4, 'l2_leaf_reg': 0.08453478787278597}\n"
     ]
    }
   ],
   "source": [
    "# Лучшие метрики и параметры, найденные с помощью Optuna\n",
    "best_score_optuna = study.best_value\n",
    "best_params_optuna = study.best_params\n",
    "\n",
    "print(f\"Optuna best score: {best_score_optuna}\")\n",
    "print(f\"Optuna best params: {best_params_optuna}\")"
   ]
  },
  {
   "cell_type": "markdown",
   "metadata": {},
   "source": [
    "Визуализируем результаты байевской оптимизации"
   ]
  },
  {
   "cell_type": "code",
   "execution_count": 101,
   "metadata": {},
   "outputs": [
    {
     "data": {
      "application/vnd.plotly.v1+json": {
       "config": {
        "plotlyServerURL": "https://plot.ly"
       },
       "data": [
        {
         "mode": "markers",
         "name": "Objective Value",
         "type": "scatter",
         "x": [
          0,
          1,
          2,
          3,
          4,
          5,
          6,
          7,
          8,
          9
         ],
         "y": [
          8.237880181404712,
          13.619339026017384,
          1.1898707441780345,
          14.875892086778405,
          13.896252801022264,
          13.11397400230889,
          2.033172544369255,
          12.20963099355055,
          9.915920936841166,
          13.389538209371956
         ]
        },
        {
         "mode": "lines",
         "name": "Best Value",
         "type": "scatter",
         "x": [
          0,
          1,
          2,
          3,
          4,
          5,
          6,
          7,
          8,
          9
         ],
         "y": [
          8.237880181404712,
          8.237880181404712,
          1.1898707441780345,
          1.1898707441780345,
          1.1898707441780345,
          1.1898707441780345,
          1.1898707441780345,
          1.1898707441780345,
          1.1898707441780345,
          1.1898707441780345
         ]
        },
        {
         "marker": {
          "color": "#cccccc"
         },
         "mode": "markers",
         "name": "Infeasible Trial",
         "showlegend": false,
         "type": "scatter",
         "x": [],
         "y": []
        }
       ],
       "layout": {
        "template": {
         "data": {
          "bar": [
           {
            "error_x": {
             "color": "#2a3f5f"
            },
            "error_y": {
             "color": "#2a3f5f"
            },
            "marker": {
             "line": {
              "color": "#E5ECF6",
              "width": 0.5
             },
             "pattern": {
              "fillmode": "overlay",
              "size": 10,
              "solidity": 0.2
             }
            },
            "type": "bar"
           }
          ],
          "barpolar": [
           {
            "marker": {
             "line": {
              "color": "#E5ECF6",
              "width": 0.5
             },
             "pattern": {
              "fillmode": "overlay",
              "size": 10,
              "solidity": 0.2
             }
            },
            "type": "barpolar"
           }
          ],
          "carpet": [
           {
            "aaxis": {
             "endlinecolor": "#2a3f5f",
             "gridcolor": "white",
             "linecolor": "white",
             "minorgridcolor": "white",
             "startlinecolor": "#2a3f5f"
            },
            "baxis": {
             "endlinecolor": "#2a3f5f",
             "gridcolor": "white",
             "linecolor": "white",
             "minorgridcolor": "white",
             "startlinecolor": "#2a3f5f"
            },
            "type": "carpet"
           }
          ],
          "choropleth": [
           {
            "colorbar": {
             "outlinewidth": 0,
             "ticks": ""
            },
            "type": "choropleth"
           }
          ],
          "contour": [
           {
            "colorbar": {
             "outlinewidth": 0,
             "ticks": ""
            },
            "colorscale": [
             [
              0,
              "#0d0887"
             ],
             [
              0.1111111111111111,
              "#46039f"
             ],
             [
              0.2222222222222222,
              "#7201a8"
             ],
             [
              0.3333333333333333,
              "#9c179e"
             ],
             [
              0.4444444444444444,
              "#bd3786"
             ],
             [
              0.5555555555555556,
              "#d8576b"
             ],
             [
              0.6666666666666666,
              "#ed7953"
             ],
             [
              0.7777777777777778,
              "#fb9f3a"
             ],
             [
              0.8888888888888888,
              "#fdca26"
             ],
             [
              1,
              "#f0f921"
             ]
            ],
            "type": "contour"
           }
          ],
          "contourcarpet": [
           {
            "colorbar": {
             "outlinewidth": 0,
             "ticks": ""
            },
            "type": "contourcarpet"
           }
          ],
          "heatmap": [
           {
            "colorbar": {
             "outlinewidth": 0,
             "ticks": ""
            },
            "colorscale": [
             [
              0,
              "#0d0887"
             ],
             [
              0.1111111111111111,
              "#46039f"
             ],
             [
              0.2222222222222222,
              "#7201a8"
             ],
             [
              0.3333333333333333,
              "#9c179e"
             ],
             [
              0.4444444444444444,
              "#bd3786"
             ],
             [
              0.5555555555555556,
              "#d8576b"
             ],
             [
              0.6666666666666666,
              "#ed7953"
             ],
             [
              0.7777777777777778,
              "#fb9f3a"
             ],
             [
              0.8888888888888888,
              "#fdca26"
             ],
             [
              1,
              "#f0f921"
             ]
            ],
            "type": "heatmap"
           }
          ],
          "heatmapgl": [
           {
            "colorbar": {
             "outlinewidth": 0,
             "ticks": ""
            },
            "colorscale": [
             [
              0,
              "#0d0887"
             ],
             [
              0.1111111111111111,
              "#46039f"
             ],
             [
              0.2222222222222222,
              "#7201a8"
             ],
             [
              0.3333333333333333,
              "#9c179e"
             ],
             [
              0.4444444444444444,
              "#bd3786"
             ],
             [
              0.5555555555555556,
              "#d8576b"
             ],
             [
              0.6666666666666666,
              "#ed7953"
             ],
             [
              0.7777777777777778,
              "#fb9f3a"
             ],
             [
              0.8888888888888888,
              "#fdca26"
             ],
             [
              1,
              "#f0f921"
             ]
            ],
            "type": "heatmapgl"
           }
          ],
          "histogram": [
           {
            "marker": {
             "pattern": {
              "fillmode": "overlay",
              "size": 10,
              "solidity": 0.2
             }
            },
            "type": "histogram"
           }
          ],
          "histogram2d": [
           {
            "colorbar": {
             "outlinewidth": 0,
             "ticks": ""
            },
            "colorscale": [
             [
              0,
              "#0d0887"
             ],
             [
              0.1111111111111111,
              "#46039f"
             ],
             [
              0.2222222222222222,
              "#7201a8"
             ],
             [
              0.3333333333333333,
              "#9c179e"
             ],
             [
              0.4444444444444444,
              "#bd3786"
             ],
             [
              0.5555555555555556,
              "#d8576b"
             ],
             [
              0.6666666666666666,
              "#ed7953"
             ],
             [
              0.7777777777777778,
              "#fb9f3a"
             ],
             [
              0.8888888888888888,
              "#fdca26"
             ],
             [
              1,
              "#f0f921"
             ]
            ],
            "type": "histogram2d"
           }
          ],
          "histogram2dcontour": [
           {
            "colorbar": {
             "outlinewidth": 0,
             "ticks": ""
            },
            "colorscale": [
             [
              0,
              "#0d0887"
             ],
             [
              0.1111111111111111,
              "#46039f"
             ],
             [
              0.2222222222222222,
              "#7201a8"
             ],
             [
              0.3333333333333333,
              "#9c179e"
             ],
             [
              0.4444444444444444,
              "#bd3786"
             ],
             [
              0.5555555555555556,
              "#d8576b"
             ],
             [
              0.6666666666666666,
              "#ed7953"
             ],
             [
              0.7777777777777778,
              "#fb9f3a"
             ],
             [
              0.8888888888888888,
              "#fdca26"
             ],
             [
              1,
              "#f0f921"
             ]
            ],
            "type": "histogram2dcontour"
           }
          ],
          "mesh3d": [
           {
            "colorbar": {
             "outlinewidth": 0,
             "ticks": ""
            },
            "type": "mesh3d"
           }
          ],
          "parcoords": [
           {
            "line": {
             "colorbar": {
              "outlinewidth": 0,
              "ticks": ""
             }
            },
            "type": "parcoords"
           }
          ],
          "pie": [
           {
            "automargin": true,
            "type": "pie"
           }
          ],
          "scatter": [
           {
            "fillpattern": {
             "fillmode": "overlay",
             "size": 10,
             "solidity": 0.2
            },
            "type": "scatter"
           }
          ],
          "scatter3d": [
           {
            "line": {
             "colorbar": {
              "outlinewidth": 0,
              "ticks": ""
             }
            },
            "marker": {
             "colorbar": {
              "outlinewidth": 0,
              "ticks": ""
             }
            },
            "type": "scatter3d"
           }
          ],
          "scattercarpet": [
           {
            "marker": {
             "colorbar": {
              "outlinewidth": 0,
              "ticks": ""
             }
            },
            "type": "scattercarpet"
           }
          ],
          "scattergeo": [
           {
            "marker": {
             "colorbar": {
              "outlinewidth": 0,
              "ticks": ""
             }
            },
            "type": "scattergeo"
           }
          ],
          "scattergl": [
           {
            "marker": {
             "colorbar": {
              "outlinewidth": 0,
              "ticks": ""
             }
            },
            "type": "scattergl"
           }
          ],
          "scattermapbox": [
           {
            "marker": {
             "colorbar": {
              "outlinewidth": 0,
              "ticks": ""
             }
            },
            "type": "scattermapbox"
           }
          ],
          "scatterpolar": [
           {
            "marker": {
             "colorbar": {
              "outlinewidth": 0,
              "ticks": ""
             }
            },
            "type": "scatterpolar"
           }
          ],
          "scatterpolargl": [
           {
            "marker": {
             "colorbar": {
              "outlinewidth": 0,
              "ticks": ""
             }
            },
            "type": "scatterpolargl"
           }
          ],
          "scatterternary": [
           {
            "marker": {
             "colorbar": {
              "outlinewidth": 0,
              "ticks": ""
             }
            },
            "type": "scatterternary"
           }
          ],
          "surface": [
           {
            "colorbar": {
             "outlinewidth": 0,
             "ticks": ""
            },
            "colorscale": [
             [
              0,
              "#0d0887"
             ],
             [
              0.1111111111111111,
              "#46039f"
             ],
             [
              0.2222222222222222,
              "#7201a8"
             ],
             [
              0.3333333333333333,
              "#9c179e"
             ],
             [
              0.4444444444444444,
              "#bd3786"
             ],
             [
              0.5555555555555556,
              "#d8576b"
             ],
             [
              0.6666666666666666,
              "#ed7953"
             ],
             [
              0.7777777777777778,
              "#fb9f3a"
             ],
             [
              0.8888888888888888,
              "#fdca26"
             ],
             [
              1,
              "#f0f921"
             ]
            ],
            "type": "surface"
           }
          ],
          "table": [
           {
            "cells": {
             "fill": {
              "color": "#EBF0F8"
             },
             "line": {
              "color": "white"
             }
            },
            "header": {
             "fill": {
              "color": "#C8D4E3"
             },
             "line": {
              "color": "white"
             }
            },
            "type": "table"
           }
          ]
         },
         "layout": {
          "annotationdefaults": {
           "arrowcolor": "#2a3f5f",
           "arrowhead": 0,
           "arrowwidth": 1
          },
          "autotypenumbers": "strict",
          "coloraxis": {
           "colorbar": {
            "outlinewidth": 0,
            "ticks": ""
           }
          },
          "colorscale": {
           "diverging": [
            [
             0,
             "#8e0152"
            ],
            [
             0.1,
             "#c51b7d"
            ],
            [
             0.2,
             "#de77ae"
            ],
            [
             0.3,
             "#f1b6da"
            ],
            [
             0.4,
             "#fde0ef"
            ],
            [
             0.5,
             "#f7f7f7"
            ],
            [
             0.6,
             "#e6f5d0"
            ],
            [
             0.7,
             "#b8e186"
            ],
            [
             0.8,
             "#7fbc41"
            ],
            [
             0.9,
             "#4d9221"
            ],
            [
             1,
             "#276419"
            ]
           ],
           "sequential": [
            [
             0,
             "#0d0887"
            ],
            [
             0.1111111111111111,
             "#46039f"
            ],
            [
             0.2222222222222222,
             "#7201a8"
            ],
            [
             0.3333333333333333,
             "#9c179e"
            ],
            [
             0.4444444444444444,
             "#bd3786"
            ],
            [
             0.5555555555555556,
             "#d8576b"
            ],
            [
             0.6666666666666666,
             "#ed7953"
            ],
            [
             0.7777777777777778,
             "#fb9f3a"
            ],
            [
             0.8888888888888888,
             "#fdca26"
            ],
            [
             1,
             "#f0f921"
            ]
           ],
           "sequentialminus": [
            [
             0,
             "#0d0887"
            ],
            [
             0.1111111111111111,
             "#46039f"
            ],
            [
             0.2222222222222222,
             "#7201a8"
            ],
            [
             0.3333333333333333,
             "#9c179e"
            ],
            [
             0.4444444444444444,
             "#bd3786"
            ],
            [
             0.5555555555555556,
             "#d8576b"
            ],
            [
             0.6666666666666666,
             "#ed7953"
            ],
            [
             0.7777777777777778,
             "#fb9f3a"
            ],
            [
             0.8888888888888888,
             "#fdca26"
            ],
            [
             1,
             "#f0f921"
            ]
           ]
          },
          "colorway": [
           "#636efa",
           "#EF553B",
           "#00cc96",
           "#ab63fa",
           "#FFA15A",
           "#19d3f3",
           "#FF6692",
           "#B6E880",
           "#FF97FF",
           "#FECB52"
          ],
          "font": {
           "color": "#2a3f5f"
          },
          "geo": {
           "bgcolor": "white",
           "lakecolor": "white",
           "landcolor": "#E5ECF6",
           "showlakes": true,
           "showland": true,
           "subunitcolor": "white"
          },
          "hoverlabel": {
           "align": "left"
          },
          "hovermode": "closest",
          "mapbox": {
           "style": "light"
          },
          "paper_bgcolor": "white",
          "plot_bgcolor": "#E5ECF6",
          "polar": {
           "angularaxis": {
            "gridcolor": "white",
            "linecolor": "white",
            "ticks": ""
           },
           "bgcolor": "#E5ECF6",
           "radialaxis": {
            "gridcolor": "white",
            "linecolor": "white",
            "ticks": ""
           }
          },
          "scene": {
           "xaxis": {
            "backgroundcolor": "#E5ECF6",
            "gridcolor": "white",
            "gridwidth": 2,
            "linecolor": "white",
            "showbackground": true,
            "ticks": "",
            "zerolinecolor": "white"
           },
           "yaxis": {
            "backgroundcolor": "#E5ECF6",
            "gridcolor": "white",
            "gridwidth": 2,
            "linecolor": "white",
            "showbackground": true,
            "ticks": "",
            "zerolinecolor": "white"
           },
           "zaxis": {
            "backgroundcolor": "#E5ECF6",
            "gridcolor": "white",
            "gridwidth": 2,
            "linecolor": "white",
            "showbackground": true,
            "ticks": "",
            "zerolinecolor": "white"
           }
          },
          "shapedefaults": {
           "line": {
            "color": "#2a3f5f"
           }
          },
          "ternary": {
           "aaxis": {
            "gridcolor": "white",
            "linecolor": "white",
            "ticks": ""
           },
           "baxis": {
            "gridcolor": "white",
            "linecolor": "white",
            "ticks": ""
           },
           "bgcolor": "#E5ECF6",
           "caxis": {
            "gridcolor": "white",
            "linecolor": "white",
            "ticks": ""
           }
          },
          "title": {
           "x": 0.05
          },
          "xaxis": {
           "automargin": true,
           "gridcolor": "white",
           "linecolor": "white",
           "ticks": "",
           "title": {
            "standoff": 15
           },
           "zerolinecolor": "white",
           "zerolinewidth": 2
          },
          "yaxis": {
           "automargin": true,
           "gridcolor": "white",
           "linecolor": "white",
           "ticks": "",
           "title": {
            "standoff": 15
           },
           "zerolinecolor": "white",
           "zerolinewidth": 2
          }
         }
        },
        "title": {
         "text": "Optimization History Plot"
        },
        "xaxis": {
         "title": {
          "text": "Trial"
         }
        },
        "yaxis": {
         "title": {
          "text": "Objective Value"
         }
        }
       }
      },
      "text/html": [
       "<div>                            <div id=\"97bc9b29-eb81-4869-8f96-2fea7d61493f\" class=\"plotly-graph-div\" style=\"height:525px; width:100%;\"></div>            <script type=\"text/javascript\">                require([\"plotly\"], function(Plotly) {                    window.PLOTLYENV=window.PLOTLYENV || {};                                    if (document.getElementById(\"97bc9b29-eb81-4869-8f96-2fea7d61493f\")) {                    Plotly.newPlot(                        \"97bc9b29-eb81-4869-8f96-2fea7d61493f\",                        [{\"mode\":\"markers\",\"name\":\"Objective Value\",\"x\":[0,1,2,3,4,5,6,7,8,9],\"y\":[8.237880181404712,13.619339026017384,1.1898707441780345,14.875892086778405,13.896252801022264,13.11397400230889,2.033172544369255,12.20963099355055,9.915920936841166,13.389538209371956],\"type\":\"scatter\"},{\"mode\":\"lines\",\"name\":\"Best Value\",\"x\":[0,1,2,3,4,5,6,7,8,9],\"y\":[8.237880181404712,8.237880181404712,1.1898707441780345,1.1898707441780345,1.1898707441780345,1.1898707441780345,1.1898707441780345,1.1898707441780345,1.1898707441780345,1.1898707441780345],\"type\":\"scatter\"},{\"marker\":{\"color\":\"#cccccc\"},\"mode\":\"markers\",\"name\":\"Infeasible Trial\",\"showlegend\":false,\"x\":[],\"y\":[],\"type\":\"scatter\"}],                        {\"title\":{\"text\":\"Optimization History Plot\"},\"xaxis\":{\"title\":{\"text\":\"Trial\"}},\"yaxis\":{\"title\":{\"text\":\"Objective Value\"}},\"template\":{\"data\":{\"histogram2dcontour\":[{\"type\":\"histogram2dcontour\",\"colorbar\":{\"outlinewidth\":0,\"ticks\":\"\"},\"colorscale\":[[0.0,\"#0d0887\"],[0.1111111111111111,\"#46039f\"],[0.2222222222222222,\"#7201a8\"],[0.3333333333333333,\"#9c179e\"],[0.4444444444444444,\"#bd3786\"],[0.5555555555555556,\"#d8576b\"],[0.6666666666666666,\"#ed7953\"],[0.7777777777777778,\"#fb9f3a\"],[0.8888888888888888,\"#fdca26\"],[1.0,\"#f0f921\"]]}],\"choropleth\":[{\"type\":\"choropleth\",\"colorbar\":{\"outlinewidth\":0,\"ticks\":\"\"}}],\"histogram2d\":[{\"type\":\"histogram2d\",\"colorbar\":{\"outlinewidth\":0,\"ticks\":\"\"},\"colorscale\":[[0.0,\"#0d0887\"],[0.1111111111111111,\"#46039f\"],[0.2222222222222222,\"#7201a8\"],[0.3333333333333333,\"#9c179e\"],[0.4444444444444444,\"#bd3786\"],[0.5555555555555556,\"#d8576b\"],[0.6666666666666666,\"#ed7953\"],[0.7777777777777778,\"#fb9f3a\"],[0.8888888888888888,\"#fdca26\"],[1.0,\"#f0f921\"]]}],\"heatmap\":[{\"type\":\"heatmap\",\"colorbar\":{\"outlinewidth\":0,\"ticks\":\"\"},\"colorscale\":[[0.0,\"#0d0887\"],[0.1111111111111111,\"#46039f\"],[0.2222222222222222,\"#7201a8\"],[0.3333333333333333,\"#9c179e\"],[0.4444444444444444,\"#bd3786\"],[0.5555555555555556,\"#d8576b\"],[0.6666666666666666,\"#ed7953\"],[0.7777777777777778,\"#fb9f3a\"],[0.8888888888888888,\"#fdca26\"],[1.0,\"#f0f921\"]]}],\"heatmapgl\":[{\"type\":\"heatmapgl\",\"colorbar\":{\"outlinewidth\":0,\"ticks\":\"\"},\"colorscale\":[[0.0,\"#0d0887\"],[0.1111111111111111,\"#46039f\"],[0.2222222222222222,\"#7201a8\"],[0.3333333333333333,\"#9c179e\"],[0.4444444444444444,\"#bd3786\"],[0.5555555555555556,\"#d8576b\"],[0.6666666666666666,\"#ed7953\"],[0.7777777777777778,\"#fb9f3a\"],[0.8888888888888888,\"#fdca26\"],[1.0,\"#f0f921\"]]}],\"contourcarpet\":[{\"type\":\"contourcarpet\",\"colorbar\":{\"outlinewidth\":0,\"ticks\":\"\"}}],\"contour\":[{\"type\":\"contour\",\"colorbar\":{\"outlinewidth\":0,\"ticks\":\"\"},\"colorscale\":[[0.0,\"#0d0887\"],[0.1111111111111111,\"#46039f\"],[0.2222222222222222,\"#7201a8\"],[0.3333333333333333,\"#9c179e\"],[0.4444444444444444,\"#bd3786\"],[0.5555555555555556,\"#d8576b\"],[0.6666666666666666,\"#ed7953\"],[0.7777777777777778,\"#fb9f3a\"],[0.8888888888888888,\"#fdca26\"],[1.0,\"#f0f921\"]]}],\"surface\":[{\"type\":\"surface\",\"colorbar\":{\"outlinewidth\":0,\"ticks\":\"\"},\"colorscale\":[[0.0,\"#0d0887\"],[0.1111111111111111,\"#46039f\"],[0.2222222222222222,\"#7201a8\"],[0.3333333333333333,\"#9c179e\"],[0.4444444444444444,\"#bd3786\"],[0.5555555555555556,\"#d8576b\"],[0.6666666666666666,\"#ed7953\"],[0.7777777777777778,\"#fb9f3a\"],[0.8888888888888888,\"#fdca26\"],[1.0,\"#f0f921\"]]}],\"mesh3d\":[{\"type\":\"mesh3d\",\"colorbar\":{\"outlinewidth\":0,\"ticks\":\"\"}}],\"scatter\":[{\"fillpattern\":{\"fillmode\":\"overlay\",\"size\":10,\"solidity\":0.2},\"type\":\"scatter\"}],\"parcoords\":[{\"type\":\"parcoords\",\"line\":{\"colorbar\":{\"outlinewidth\":0,\"ticks\":\"\"}}}],\"scatterpolargl\":[{\"type\":\"scatterpolargl\",\"marker\":{\"colorbar\":{\"outlinewidth\":0,\"ticks\":\"\"}}}],\"bar\":[{\"error_x\":{\"color\":\"#2a3f5f\"},\"error_y\":{\"color\":\"#2a3f5f\"},\"marker\":{\"line\":{\"color\":\"#E5ECF6\",\"width\":0.5},\"pattern\":{\"fillmode\":\"overlay\",\"size\":10,\"solidity\":0.2}},\"type\":\"bar\"}],\"scattergeo\":[{\"type\":\"scattergeo\",\"marker\":{\"colorbar\":{\"outlinewidth\":0,\"ticks\":\"\"}}}],\"scatterpolar\":[{\"type\":\"scatterpolar\",\"marker\":{\"colorbar\":{\"outlinewidth\":0,\"ticks\":\"\"}}}],\"histogram\":[{\"marker\":{\"pattern\":{\"fillmode\":\"overlay\",\"size\":10,\"solidity\":0.2}},\"type\":\"histogram\"}],\"scattergl\":[{\"type\":\"scattergl\",\"marker\":{\"colorbar\":{\"outlinewidth\":0,\"ticks\":\"\"}}}],\"scatter3d\":[{\"type\":\"scatter3d\",\"line\":{\"colorbar\":{\"outlinewidth\":0,\"ticks\":\"\"}},\"marker\":{\"colorbar\":{\"outlinewidth\":0,\"ticks\":\"\"}}}],\"scattermapbox\":[{\"type\":\"scattermapbox\",\"marker\":{\"colorbar\":{\"outlinewidth\":0,\"ticks\":\"\"}}}],\"scatterternary\":[{\"type\":\"scatterternary\",\"marker\":{\"colorbar\":{\"outlinewidth\":0,\"ticks\":\"\"}}}],\"scattercarpet\":[{\"type\":\"scattercarpet\",\"marker\":{\"colorbar\":{\"outlinewidth\":0,\"ticks\":\"\"}}}],\"carpet\":[{\"aaxis\":{\"endlinecolor\":\"#2a3f5f\",\"gridcolor\":\"white\",\"linecolor\":\"white\",\"minorgridcolor\":\"white\",\"startlinecolor\":\"#2a3f5f\"},\"baxis\":{\"endlinecolor\":\"#2a3f5f\",\"gridcolor\":\"white\",\"linecolor\":\"white\",\"minorgridcolor\":\"white\",\"startlinecolor\":\"#2a3f5f\"},\"type\":\"carpet\"}],\"table\":[{\"cells\":{\"fill\":{\"color\":\"#EBF0F8\"},\"line\":{\"color\":\"white\"}},\"header\":{\"fill\":{\"color\":\"#C8D4E3\"},\"line\":{\"color\":\"white\"}},\"type\":\"table\"}],\"barpolar\":[{\"marker\":{\"line\":{\"color\":\"#E5ECF6\",\"width\":0.5},\"pattern\":{\"fillmode\":\"overlay\",\"size\":10,\"solidity\":0.2}},\"type\":\"barpolar\"}],\"pie\":[{\"automargin\":true,\"type\":\"pie\"}]},\"layout\":{\"autotypenumbers\":\"strict\",\"colorway\":[\"#636efa\",\"#EF553B\",\"#00cc96\",\"#ab63fa\",\"#FFA15A\",\"#19d3f3\",\"#FF6692\",\"#B6E880\",\"#FF97FF\",\"#FECB52\"],\"font\":{\"color\":\"#2a3f5f\"},\"hovermode\":\"closest\",\"hoverlabel\":{\"align\":\"left\"},\"paper_bgcolor\":\"white\",\"plot_bgcolor\":\"#E5ECF6\",\"polar\":{\"bgcolor\":\"#E5ECF6\",\"angularaxis\":{\"gridcolor\":\"white\",\"linecolor\":\"white\",\"ticks\":\"\"},\"radialaxis\":{\"gridcolor\":\"white\",\"linecolor\":\"white\",\"ticks\":\"\"}},\"ternary\":{\"bgcolor\":\"#E5ECF6\",\"aaxis\":{\"gridcolor\":\"white\",\"linecolor\":\"white\",\"ticks\":\"\"},\"baxis\":{\"gridcolor\":\"white\",\"linecolor\":\"white\",\"ticks\":\"\"},\"caxis\":{\"gridcolor\":\"white\",\"linecolor\":\"white\",\"ticks\":\"\"}},\"coloraxis\":{\"colorbar\":{\"outlinewidth\":0,\"ticks\":\"\"}},\"colorscale\":{\"sequential\":[[0.0,\"#0d0887\"],[0.1111111111111111,\"#46039f\"],[0.2222222222222222,\"#7201a8\"],[0.3333333333333333,\"#9c179e\"],[0.4444444444444444,\"#bd3786\"],[0.5555555555555556,\"#d8576b\"],[0.6666666666666666,\"#ed7953\"],[0.7777777777777778,\"#fb9f3a\"],[0.8888888888888888,\"#fdca26\"],[1.0,\"#f0f921\"]],\"sequentialminus\":[[0.0,\"#0d0887\"],[0.1111111111111111,\"#46039f\"],[0.2222222222222222,\"#7201a8\"],[0.3333333333333333,\"#9c179e\"],[0.4444444444444444,\"#bd3786\"],[0.5555555555555556,\"#d8576b\"],[0.6666666666666666,\"#ed7953\"],[0.7777777777777778,\"#fb9f3a\"],[0.8888888888888888,\"#fdca26\"],[1.0,\"#f0f921\"]],\"diverging\":[[0,\"#8e0152\"],[0.1,\"#c51b7d\"],[0.2,\"#de77ae\"],[0.3,\"#f1b6da\"],[0.4,\"#fde0ef\"],[0.5,\"#f7f7f7\"],[0.6,\"#e6f5d0\"],[0.7,\"#b8e186\"],[0.8,\"#7fbc41\"],[0.9,\"#4d9221\"],[1,\"#276419\"]]},\"xaxis\":{\"gridcolor\":\"white\",\"linecolor\":\"white\",\"ticks\":\"\",\"title\":{\"standoff\":15},\"zerolinecolor\":\"white\",\"automargin\":true,\"zerolinewidth\":2},\"yaxis\":{\"gridcolor\":\"white\",\"linecolor\":\"white\",\"ticks\":\"\",\"title\":{\"standoff\":15},\"zerolinecolor\":\"white\",\"automargin\":true,\"zerolinewidth\":2},\"scene\":{\"xaxis\":{\"backgroundcolor\":\"#E5ECF6\",\"gridcolor\":\"white\",\"linecolor\":\"white\",\"showbackground\":true,\"ticks\":\"\",\"zerolinecolor\":\"white\",\"gridwidth\":2},\"yaxis\":{\"backgroundcolor\":\"#E5ECF6\",\"gridcolor\":\"white\",\"linecolor\":\"white\",\"showbackground\":true,\"ticks\":\"\",\"zerolinecolor\":\"white\",\"gridwidth\":2},\"zaxis\":{\"backgroundcolor\":\"#E5ECF6\",\"gridcolor\":\"white\",\"linecolor\":\"white\",\"showbackground\":true,\"ticks\":\"\",\"zerolinecolor\":\"white\",\"gridwidth\":2}},\"shapedefaults\":{\"line\":{\"color\":\"#2a3f5f\"}},\"annotationdefaults\":{\"arrowcolor\":\"#2a3f5f\",\"arrowhead\":0,\"arrowwidth\":1},\"geo\":{\"bgcolor\":\"white\",\"landcolor\":\"#E5ECF6\",\"subunitcolor\":\"white\",\"showland\":true,\"showlakes\":true,\"lakecolor\":\"white\"},\"title\":{\"x\":0.05},\"mapbox\":{\"style\":\"light\"}}}},                        {\"responsive\": true}                    ).then(function(){\n",
       "                            \n",
       "var gd = document.getElementById('97bc9b29-eb81-4869-8f96-2fea7d61493f');\n",
       "var x = new MutationObserver(function (mutations, observer) {{\n",
       "        var display = window.getComputedStyle(gd).display;\n",
       "        if (!display || display === 'none') {{\n",
       "            console.log([gd, 'removed!']);\n",
       "            Plotly.purge(gd);\n",
       "            observer.disconnect();\n",
       "        }}\n",
       "}});\n",
       "\n",
       "// Listen for the removal of the full notebook cells\n",
       "var notebookContainer = gd.closest('#notebook-container');\n",
       "if (notebookContainer) {{\n",
       "    x.observe(notebookContainer, {childList: true});\n",
       "}}\n",
       "\n",
       "// Listen for the clearing of the current output cell\n",
       "var outputEl = gd.closest('.output');\n",
       "if (outputEl) {{\n",
       "    x.observe(outputEl, {childList: true});\n",
       "}}\n",
       "\n",
       "                        })                };                });            </script>        </div>"
      ]
     },
     "metadata": {},
     "output_type": "display_data"
    }
   ],
   "source": [
    "# История изменений целевой метрики\n",
    "fig = optuna.visualization.plot_optimization_history(study)\n",
    "fig.show()"
   ]
  },
  {
   "cell_type": "code",
   "execution_count": 102,
   "metadata": {},
   "outputs": [
    {
     "data": {
      "application/vnd.plotly.v1+json": {
       "config": {
        "plotlyServerURL": "https://plot.ly"
       },
       "data": [
        {
         "cliponaxis": false,
         "hovertemplate": [
          "l2_leaf_reg (FloatDistribution): 0.04967182268406043<extra></extra>",
          "depth (IntDistribution): 0.45053395755747727<extra></extra>",
          "learning_rate (FloatDistribution): 0.49979421975846233<extra></extra>"
         ],
         "name": "Objective Value",
         "orientation": "h",
         "text": [
          "0.05",
          "0.45",
          "0.50"
         ],
         "textposition": "outside",
         "type": "bar",
         "x": [
          0.04967182268406043,
          0.45053395755747727,
          0.49979421975846233
         ],
         "y": [
          "l2_leaf_reg",
          "depth",
          "learning_rate"
         ]
        }
       ],
       "layout": {
        "template": {
         "data": {
          "bar": [
           {
            "error_x": {
             "color": "#2a3f5f"
            },
            "error_y": {
             "color": "#2a3f5f"
            },
            "marker": {
             "line": {
              "color": "#E5ECF6",
              "width": 0.5
             },
             "pattern": {
              "fillmode": "overlay",
              "size": 10,
              "solidity": 0.2
             }
            },
            "type": "bar"
           }
          ],
          "barpolar": [
           {
            "marker": {
             "line": {
              "color": "#E5ECF6",
              "width": 0.5
             },
             "pattern": {
              "fillmode": "overlay",
              "size": 10,
              "solidity": 0.2
             }
            },
            "type": "barpolar"
           }
          ],
          "carpet": [
           {
            "aaxis": {
             "endlinecolor": "#2a3f5f",
             "gridcolor": "white",
             "linecolor": "white",
             "minorgridcolor": "white",
             "startlinecolor": "#2a3f5f"
            },
            "baxis": {
             "endlinecolor": "#2a3f5f",
             "gridcolor": "white",
             "linecolor": "white",
             "minorgridcolor": "white",
             "startlinecolor": "#2a3f5f"
            },
            "type": "carpet"
           }
          ],
          "choropleth": [
           {
            "colorbar": {
             "outlinewidth": 0,
             "ticks": ""
            },
            "type": "choropleth"
           }
          ],
          "contour": [
           {
            "colorbar": {
             "outlinewidth": 0,
             "ticks": ""
            },
            "colorscale": [
             [
              0,
              "#0d0887"
             ],
             [
              0.1111111111111111,
              "#46039f"
             ],
             [
              0.2222222222222222,
              "#7201a8"
             ],
             [
              0.3333333333333333,
              "#9c179e"
             ],
             [
              0.4444444444444444,
              "#bd3786"
             ],
             [
              0.5555555555555556,
              "#d8576b"
             ],
             [
              0.6666666666666666,
              "#ed7953"
             ],
             [
              0.7777777777777778,
              "#fb9f3a"
             ],
             [
              0.8888888888888888,
              "#fdca26"
             ],
             [
              1,
              "#f0f921"
             ]
            ],
            "type": "contour"
           }
          ],
          "contourcarpet": [
           {
            "colorbar": {
             "outlinewidth": 0,
             "ticks": ""
            },
            "type": "contourcarpet"
           }
          ],
          "heatmap": [
           {
            "colorbar": {
             "outlinewidth": 0,
             "ticks": ""
            },
            "colorscale": [
             [
              0,
              "#0d0887"
             ],
             [
              0.1111111111111111,
              "#46039f"
             ],
             [
              0.2222222222222222,
              "#7201a8"
             ],
             [
              0.3333333333333333,
              "#9c179e"
             ],
             [
              0.4444444444444444,
              "#bd3786"
             ],
             [
              0.5555555555555556,
              "#d8576b"
             ],
             [
              0.6666666666666666,
              "#ed7953"
             ],
             [
              0.7777777777777778,
              "#fb9f3a"
             ],
             [
              0.8888888888888888,
              "#fdca26"
             ],
             [
              1,
              "#f0f921"
             ]
            ],
            "type": "heatmap"
           }
          ],
          "heatmapgl": [
           {
            "colorbar": {
             "outlinewidth": 0,
             "ticks": ""
            },
            "colorscale": [
             [
              0,
              "#0d0887"
             ],
             [
              0.1111111111111111,
              "#46039f"
             ],
             [
              0.2222222222222222,
              "#7201a8"
             ],
             [
              0.3333333333333333,
              "#9c179e"
             ],
             [
              0.4444444444444444,
              "#bd3786"
             ],
             [
              0.5555555555555556,
              "#d8576b"
             ],
             [
              0.6666666666666666,
              "#ed7953"
             ],
             [
              0.7777777777777778,
              "#fb9f3a"
             ],
             [
              0.8888888888888888,
              "#fdca26"
             ],
             [
              1,
              "#f0f921"
             ]
            ],
            "type": "heatmapgl"
           }
          ],
          "histogram": [
           {
            "marker": {
             "pattern": {
              "fillmode": "overlay",
              "size": 10,
              "solidity": 0.2
             }
            },
            "type": "histogram"
           }
          ],
          "histogram2d": [
           {
            "colorbar": {
             "outlinewidth": 0,
             "ticks": ""
            },
            "colorscale": [
             [
              0,
              "#0d0887"
             ],
             [
              0.1111111111111111,
              "#46039f"
             ],
             [
              0.2222222222222222,
              "#7201a8"
             ],
             [
              0.3333333333333333,
              "#9c179e"
             ],
             [
              0.4444444444444444,
              "#bd3786"
             ],
             [
              0.5555555555555556,
              "#d8576b"
             ],
             [
              0.6666666666666666,
              "#ed7953"
             ],
             [
              0.7777777777777778,
              "#fb9f3a"
             ],
             [
              0.8888888888888888,
              "#fdca26"
             ],
             [
              1,
              "#f0f921"
             ]
            ],
            "type": "histogram2d"
           }
          ],
          "histogram2dcontour": [
           {
            "colorbar": {
             "outlinewidth": 0,
             "ticks": ""
            },
            "colorscale": [
             [
              0,
              "#0d0887"
             ],
             [
              0.1111111111111111,
              "#46039f"
             ],
             [
              0.2222222222222222,
              "#7201a8"
             ],
             [
              0.3333333333333333,
              "#9c179e"
             ],
             [
              0.4444444444444444,
              "#bd3786"
             ],
             [
              0.5555555555555556,
              "#d8576b"
             ],
             [
              0.6666666666666666,
              "#ed7953"
             ],
             [
              0.7777777777777778,
              "#fb9f3a"
             ],
             [
              0.8888888888888888,
              "#fdca26"
             ],
             [
              1,
              "#f0f921"
             ]
            ],
            "type": "histogram2dcontour"
           }
          ],
          "mesh3d": [
           {
            "colorbar": {
             "outlinewidth": 0,
             "ticks": ""
            },
            "type": "mesh3d"
           }
          ],
          "parcoords": [
           {
            "line": {
             "colorbar": {
              "outlinewidth": 0,
              "ticks": ""
             }
            },
            "type": "parcoords"
           }
          ],
          "pie": [
           {
            "automargin": true,
            "type": "pie"
           }
          ],
          "scatter": [
           {
            "fillpattern": {
             "fillmode": "overlay",
             "size": 10,
             "solidity": 0.2
            },
            "type": "scatter"
           }
          ],
          "scatter3d": [
           {
            "line": {
             "colorbar": {
              "outlinewidth": 0,
              "ticks": ""
             }
            },
            "marker": {
             "colorbar": {
              "outlinewidth": 0,
              "ticks": ""
             }
            },
            "type": "scatter3d"
           }
          ],
          "scattercarpet": [
           {
            "marker": {
             "colorbar": {
              "outlinewidth": 0,
              "ticks": ""
             }
            },
            "type": "scattercarpet"
           }
          ],
          "scattergeo": [
           {
            "marker": {
             "colorbar": {
              "outlinewidth": 0,
              "ticks": ""
             }
            },
            "type": "scattergeo"
           }
          ],
          "scattergl": [
           {
            "marker": {
             "colorbar": {
              "outlinewidth": 0,
              "ticks": ""
             }
            },
            "type": "scattergl"
           }
          ],
          "scattermapbox": [
           {
            "marker": {
             "colorbar": {
              "outlinewidth": 0,
              "ticks": ""
             }
            },
            "type": "scattermapbox"
           }
          ],
          "scatterpolar": [
           {
            "marker": {
             "colorbar": {
              "outlinewidth": 0,
              "ticks": ""
             }
            },
            "type": "scatterpolar"
           }
          ],
          "scatterpolargl": [
           {
            "marker": {
             "colorbar": {
              "outlinewidth": 0,
              "ticks": ""
             }
            },
            "type": "scatterpolargl"
           }
          ],
          "scatterternary": [
           {
            "marker": {
             "colorbar": {
              "outlinewidth": 0,
              "ticks": ""
             }
            },
            "type": "scatterternary"
           }
          ],
          "surface": [
           {
            "colorbar": {
             "outlinewidth": 0,
             "ticks": ""
            },
            "colorscale": [
             [
              0,
              "#0d0887"
             ],
             [
              0.1111111111111111,
              "#46039f"
             ],
             [
              0.2222222222222222,
              "#7201a8"
             ],
             [
              0.3333333333333333,
              "#9c179e"
             ],
             [
              0.4444444444444444,
              "#bd3786"
             ],
             [
              0.5555555555555556,
              "#d8576b"
             ],
             [
              0.6666666666666666,
              "#ed7953"
             ],
             [
              0.7777777777777778,
              "#fb9f3a"
             ],
             [
              0.8888888888888888,
              "#fdca26"
             ],
             [
              1,
              "#f0f921"
             ]
            ],
            "type": "surface"
           }
          ],
          "table": [
           {
            "cells": {
             "fill": {
              "color": "#EBF0F8"
             },
             "line": {
              "color": "white"
             }
            },
            "header": {
             "fill": {
              "color": "#C8D4E3"
             },
             "line": {
              "color": "white"
             }
            },
            "type": "table"
           }
          ]
         },
         "layout": {
          "annotationdefaults": {
           "arrowcolor": "#2a3f5f",
           "arrowhead": 0,
           "arrowwidth": 1
          },
          "autotypenumbers": "strict",
          "coloraxis": {
           "colorbar": {
            "outlinewidth": 0,
            "ticks": ""
           }
          },
          "colorscale": {
           "diverging": [
            [
             0,
             "#8e0152"
            ],
            [
             0.1,
             "#c51b7d"
            ],
            [
             0.2,
             "#de77ae"
            ],
            [
             0.3,
             "#f1b6da"
            ],
            [
             0.4,
             "#fde0ef"
            ],
            [
             0.5,
             "#f7f7f7"
            ],
            [
             0.6,
             "#e6f5d0"
            ],
            [
             0.7,
             "#b8e186"
            ],
            [
             0.8,
             "#7fbc41"
            ],
            [
             0.9,
             "#4d9221"
            ],
            [
             1,
             "#276419"
            ]
           ],
           "sequential": [
            [
             0,
             "#0d0887"
            ],
            [
             0.1111111111111111,
             "#46039f"
            ],
            [
             0.2222222222222222,
             "#7201a8"
            ],
            [
             0.3333333333333333,
             "#9c179e"
            ],
            [
             0.4444444444444444,
             "#bd3786"
            ],
            [
             0.5555555555555556,
             "#d8576b"
            ],
            [
             0.6666666666666666,
             "#ed7953"
            ],
            [
             0.7777777777777778,
             "#fb9f3a"
            ],
            [
             0.8888888888888888,
             "#fdca26"
            ],
            [
             1,
             "#f0f921"
            ]
           ],
           "sequentialminus": [
            [
             0,
             "#0d0887"
            ],
            [
             0.1111111111111111,
             "#46039f"
            ],
            [
             0.2222222222222222,
             "#7201a8"
            ],
            [
             0.3333333333333333,
             "#9c179e"
            ],
            [
             0.4444444444444444,
             "#bd3786"
            ],
            [
             0.5555555555555556,
             "#d8576b"
            ],
            [
             0.6666666666666666,
             "#ed7953"
            ],
            [
             0.7777777777777778,
             "#fb9f3a"
            ],
            [
             0.8888888888888888,
             "#fdca26"
            ],
            [
             1,
             "#f0f921"
            ]
           ]
          },
          "colorway": [
           "#636efa",
           "#EF553B",
           "#00cc96",
           "#ab63fa",
           "#FFA15A",
           "#19d3f3",
           "#FF6692",
           "#B6E880",
           "#FF97FF",
           "#FECB52"
          ],
          "font": {
           "color": "#2a3f5f"
          },
          "geo": {
           "bgcolor": "white",
           "lakecolor": "white",
           "landcolor": "#E5ECF6",
           "showlakes": true,
           "showland": true,
           "subunitcolor": "white"
          },
          "hoverlabel": {
           "align": "left"
          },
          "hovermode": "closest",
          "mapbox": {
           "style": "light"
          },
          "paper_bgcolor": "white",
          "plot_bgcolor": "#E5ECF6",
          "polar": {
           "angularaxis": {
            "gridcolor": "white",
            "linecolor": "white",
            "ticks": ""
           },
           "bgcolor": "#E5ECF6",
           "radialaxis": {
            "gridcolor": "white",
            "linecolor": "white",
            "ticks": ""
           }
          },
          "scene": {
           "xaxis": {
            "backgroundcolor": "#E5ECF6",
            "gridcolor": "white",
            "gridwidth": 2,
            "linecolor": "white",
            "showbackground": true,
            "ticks": "",
            "zerolinecolor": "white"
           },
           "yaxis": {
            "backgroundcolor": "#E5ECF6",
            "gridcolor": "white",
            "gridwidth": 2,
            "linecolor": "white",
            "showbackground": true,
            "ticks": "",
            "zerolinecolor": "white"
           },
           "zaxis": {
            "backgroundcolor": "#E5ECF6",
            "gridcolor": "white",
            "gridwidth": 2,
            "linecolor": "white",
            "showbackground": true,
            "ticks": "",
            "zerolinecolor": "white"
           }
          },
          "shapedefaults": {
           "line": {
            "color": "#2a3f5f"
           }
          },
          "ternary": {
           "aaxis": {
            "gridcolor": "white",
            "linecolor": "white",
            "ticks": ""
           },
           "baxis": {
            "gridcolor": "white",
            "linecolor": "white",
            "ticks": ""
           },
           "bgcolor": "#E5ECF6",
           "caxis": {
            "gridcolor": "white",
            "linecolor": "white",
            "ticks": ""
           }
          },
          "title": {
           "x": 0.05
          },
          "xaxis": {
           "automargin": true,
           "gridcolor": "white",
           "linecolor": "white",
           "ticks": "",
           "title": {
            "standoff": 15
           },
           "zerolinecolor": "white",
           "zerolinewidth": 2
          },
          "yaxis": {
           "automargin": true,
           "gridcolor": "white",
           "linecolor": "white",
           "ticks": "",
           "title": {
            "standoff": 15
           },
           "zerolinecolor": "white",
           "zerolinewidth": 2
          }
         }
        },
        "title": {
         "text": "Hyperparameter Importances"
        },
        "xaxis": {
         "title": {
          "text": "Hyperparameter Importance"
         }
        },
        "yaxis": {
         "title": {
          "text": "Hyperparameter"
         }
        }
       }
      },
      "text/html": [
       "<div>                            <div id=\"80da1f0b-e6be-413a-aac3-51557434bc1e\" class=\"plotly-graph-div\" style=\"height:525px; width:100%;\"></div>            <script type=\"text/javascript\">                require([\"plotly\"], function(Plotly) {                    window.PLOTLYENV=window.PLOTLYENV || {};                                    if (document.getElementById(\"80da1f0b-e6be-413a-aac3-51557434bc1e\")) {                    Plotly.newPlot(                        \"80da1f0b-e6be-413a-aac3-51557434bc1e\",                        [{\"cliponaxis\":false,\"hovertemplate\":[\"l2_leaf_reg (FloatDistribution): 0.04967182268406043\\u003cextra\\u003e\\u003c\\u002fextra\\u003e\",\"depth (IntDistribution): 0.45053395755747727\\u003cextra\\u003e\\u003c\\u002fextra\\u003e\",\"learning_rate (FloatDistribution): 0.49979421975846233\\u003cextra\\u003e\\u003c\\u002fextra\\u003e\"],\"name\":\"Objective Value\",\"orientation\":\"h\",\"text\":[\"0.05\",\"0.45\",\"0.50\"],\"textposition\":\"outside\",\"x\":[0.04967182268406043,0.45053395755747727,0.49979421975846233],\"y\":[\"l2_leaf_reg\",\"depth\",\"learning_rate\"],\"type\":\"bar\"}],                        {\"title\":{\"text\":\"Hyperparameter Importances\"},\"xaxis\":{\"title\":{\"text\":\"Hyperparameter Importance\"}},\"yaxis\":{\"title\":{\"text\":\"Hyperparameter\"}},\"template\":{\"data\":{\"histogram2dcontour\":[{\"type\":\"histogram2dcontour\",\"colorbar\":{\"outlinewidth\":0,\"ticks\":\"\"},\"colorscale\":[[0.0,\"#0d0887\"],[0.1111111111111111,\"#46039f\"],[0.2222222222222222,\"#7201a8\"],[0.3333333333333333,\"#9c179e\"],[0.4444444444444444,\"#bd3786\"],[0.5555555555555556,\"#d8576b\"],[0.6666666666666666,\"#ed7953\"],[0.7777777777777778,\"#fb9f3a\"],[0.8888888888888888,\"#fdca26\"],[1.0,\"#f0f921\"]]}],\"choropleth\":[{\"type\":\"choropleth\",\"colorbar\":{\"outlinewidth\":0,\"ticks\":\"\"}}],\"histogram2d\":[{\"type\":\"histogram2d\",\"colorbar\":{\"outlinewidth\":0,\"ticks\":\"\"},\"colorscale\":[[0.0,\"#0d0887\"],[0.1111111111111111,\"#46039f\"],[0.2222222222222222,\"#7201a8\"],[0.3333333333333333,\"#9c179e\"],[0.4444444444444444,\"#bd3786\"],[0.5555555555555556,\"#d8576b\"],[0.6666666666666666,\"#ed7953\"],[0.7777777777777778,\"#fb9f3a\"],[0.8888888888888888,\"#fdca26\"],[1.0,\"#f0f921\"]]}],\"heatmap\":[{\"type\":\"heatmap\",\"colorbar\":{\"outlinewidth\":0,\"ticks\":\"\"},\"colorscale\":[[0.0,\"#0d0887\"],[0.1111111111111111,\"#46039f\"],[0.2222222222222222,\"#7201a8\"],[0.3333333333333333,\"#9c179e\"],[0.4444444444444444,\"#bd3786\"],[0.5555555555555556,\"#d8576b\"],[0.6666666666666666,\"#ed7953\"],[0.7777777777777778,\"#fb9f3a\"],[0.8888888888888888,\"#fdca26\"],[1.0,\"#f0f921\"]]}],\"heatmapgl\":[{\"type\":\"heatmapgl\",\"colorbar\":{\"outlinewidth\":0,\"ticks\":\"\"},\"colorscale\":[[0.0,\"#0d0887\"],[0.1111111111111111,\"#46039f\"],[0.2222222222222222,\"#7201a8\"],[0.3333333333333333,\"#9c179e\"],[0.4444444444444444,\"#bd3786\"],[0.5555555555555556,\"#d8576b\"],[0.6666666666666666,\"#ed7953\"],[0.7777777777777778,\"#fb9f3a\"],[0.8888888888888888,\"#fdca26\"],[1.0,\"#f0f921\"]]}],\"contourcarpet\":[{\"type\":\"contourcarpet\",\"colorbar\":{\"outlinewidth\":0,\"ticks\":\"\"}}],\"contour\":[{\"type\":\"contour\",\"colorbar\":{\"outlinewidth\":0,\"ticks\":\"\"},\"colorscale\":[[0.0,\"#0d0887\"],[0.1111111111111111,\"#46039f\"],[0.2222222222222222,\"#7201a8\"],[0.3333333333333333,\"#9c179e\"],[0.4444444444444444,\"#bd3786\"],[0.5555555555555556,\"#d8576b\"],[0.6666666666666666,\"#ed7953\"],[0.7777777777777778,\"#fb9f3a\"],[0.8888888888888888,\"#fdca26\"],[1.0,\"#f0f921\"]]}],\"surface\":[{\"type\":\"surface\",\"colorbar\":{\"outlinewidth\":0,\"ticks\":\"\"},\"colorscale\":[[0.0,\"#0d0887\"],[0.1111111111111111,\"#46039f\"],[0.2222222222222222,\"#7201a8\"],[0.3333333333333333,\"#9c179e\"],[0.4444444444444444,\"#bd3786\"],[0.5555555555555556,\"#d8576b\"],[0.6666666666666666,\"#ed7953\"],[0.7777777777777778,\"#fb9f3a\"],[0.8888888888888888,\"#fdca26\"],[1.0,\"#f0f921\"]]}],\"mesh3d\":[{\"type\":\"mesh3d\",\"colorbar\":{\"outlinewidth\":0,\"ticks\":\"\"}}],\"scatter\":[{\"fillpattern\":{\"fillmode\":\"overlay\",\"size\":10,\"solidity\":0.2},\"type\":\"scatter\"}],\"parcoords\":[{\"type\":\"parcoords\",\"line\":{\"colorbar\":{\"outlinewidth\":0,\"ticks\":\"\"}}}],\"scatterpolargl\":[{\"type\":\"scatterpolargl\",\"marker\":{\"colorbar\":{\"outlinewidth\":0,\"ticks\":\"\"}}}],\"bar\":[{\"error_x\":{\"color\":\"#2a3f5f\"},\"error_y\":{\"color\":\"#2a3f5f\"},\"marker\":{\"line\":{\"color\":\"#E5ECF6\",\"width\":0.5},\"pattern\":{\"fillmode\":\"overlay\",\"size\":10,\"solidity\":0.2}},\"type\":\"bar\"}],\"scattergeo\":[{\"type\":\"scattergeo\",\"marker\":{\"colorbar\":{\"outlinewidth\":0,\"ticks\":\"\"}}}],\"scatterpolar\":[{\"type\":\"scatterpolar\",\"marker\":{\"colorbar\":{\"outlinewidth\":0,\"ticks\":\"\"}}}],\"histogram\":[{\"marker\":{\"pattern\":{\"fillmode\":\"overlay\",\"size\":10,\"solidity\":0.2}},\"type\":\"histogram\"}],\"scattergl\":[{\"type\":\"scattergl\",\"marker\":{\"colorbar\":{\"outlinewidth\":0,\"ticks\":\"\"}}}],\"scatter3d\":[{\"type\":\"scatter3d\",\"line\":{\"colorbar\":{\"outlinewidth\":0,\"ticks\":\"\"}},\"marker\":{\"colorbar\":{\"outlinewidth\":0,\"ticks\":\"\"}}}],\"scattermapbox\":[{\"type\":\"scattermapbox\",\"marker\":{\"colorbar\":{\"outlinewidth\":0,\"ticks\":\"\"}}}],\"scatterternary\":[{\"type\":\"scatterternary\",\"marker\":{\"colorbar\":{\"outlinewidth\":0,\"ticks\":\"\"}}}],\"scattercarpet\":[{\"type\":\"scattercarpet\",\"marker\":{\"colorbar\":{\"outlinewidth\":0,\"ticks\":\"\"}}}],\"carpet\":[{\"aaxis\":{\"endlinecolor\":\"#2a3f5f\",\"gridcolor\":\"white\",\"linecolor\":\"white\",\"minorgridcolor\":\"white\",\"startlinecolor\":\"#2a3f5f\"},\"baxis\":{\"endlinecolor\":\"#2a3f5f\",\"gridcolor\":\"white\",\"linecolor\":\"white\",\"minorgridcolor\":\"white\",\"startlinecolor\":\"#2a3f5f\"},\"type\":\"carpet\"}],\"table\":[{\"cells\":{\"fill\":{\"color\":\"#EBF0F8\"},\"line\":{\"color\":\"white\"}},\"header\":{\"fill\":{\"color\":\"#C8D4E3\"},\"line\":{\"color\":\"white\"}},\"type\":\"table\"}],\"barpolar\":[{\"marker\":{\"line\":{\"color\":\"#E5ECF6\",\"width\":0.5},\"pattern\":{\"fillmode\":\"overlay\",\"size\":10,\"solidity\":0.2}},\"type\":\"barpolar\"}],\"pie\":[{\"automargin\":true,\"type\":\"pie\"}]},\"layout\":{\"autotypenumbers\":\"strict\",\"colorway\":[\"#636efa\",\"#EF553B\",\"#00cc96\",\"#ab63fa\",\"#FFA15A\",\"#19d3f3\",\"#FF6692\",\"#B6E880\",\"#FF97FF\",\"#FECB52\"],\"font\":{\"color\":\"#2a3f5f\"},\"hovermode\":\"closest\",\"hoverlabel\":{\"align\":\"left\"},\"paper_bgcolor\":\"white\",\"plot_bgcolor\":\"#E5ECF6\",\"polar\":{\"bgcolor\":\"#E5ECF6\",\"angularaxis\":{\"gridcolor\":\"white\",\"linecolor\":\"white\",\"ticks\":\"\"},\"radialaxis\":{\"gridcolor\":\"white\",\"linecolor\":\"white\",\"ticks\":\"\"}},\"ternary\":{\"bgcolor\":\"#E5ECF6\",\"aaxis\":{\"gridcolor\":\"white\",\"linecolor\":\"white\",\"ticks\":\"\"},\"baxis\":{\"gridcolor\":\"white\",\"linecolor\":\"white\",\"ticks\":\"\"},\"caxis\":{\"gridcolor\":\"white\",\"linecolor\":\"white\",\"ticks\":\"\"}},\"coloraxis\":{\"colorbar\":{\"outlinewidth\":0,\"ticks\":\"\"}},\"colorscale\":{\"sequential\":[[0.0,\"#0d0887\"],[0.1111111111111111,\"#46039f\"],[0.2222222222222222,\"#7201a8\"],[0.3333333333333333,\"#9c179e\"],[0.4444444444444444,\"#bd3786\"],[0.5555555555555556,\"#d8576b\"],[0.6666666666666666,\"#ed7953\"],[0.7777777777777778,\"#fb9f3a\"],[0.8888888888888888,\"#fdca26\"],[1.0,\"#f0f921\"]],\"sequentialminus\":[[0.0,\"#0d0887\"],[0.1111111111111111,\"#46039f\"],[0.2222222222222222,\"#7201a8\"],[0.3333333333333333,\"#9c179e\"],[0.4444444444444444,\"#bd3786\"],[0.5555555555555556,\"#d8576b\"],[0.6666666666666666,\"#ed7953\"],[0.7777777777777778,\"#fb9f3a\"],[0.8888888888888888,\"#fdca26\"],[1.0,\"#f0f921\"]],\"diverging\":[[0,\"#8e0152\"],[0.1,\"#c51b7d\"],[0.2,\"#de77ae\"],[0.3,\"#f1b6da\"],[0.4,\"#fde0ef\"],[0.5,\"#f7f7f7\"],[0.6,\"#e6f5d0\"],[0.7,\"#b8e186\"],[0.8,\"#7fbc41\"],[0.9,\"#4d9221\"],[1,\"#276419\"]]},\"xaxis\":{\"gridcolor\":\"white\",\"linecolor\":\"white\",\"ticks\":\"\",\"title\":{\"standoff\":15},\"zerolinecolor\":\"white\",\"automargin\":true,\"zerolinewidth\":2},\"yaxis\":{\"gridcolor\":\"white\",\"linecolor\":\"white\",\"ticks\":\"\",\"title\":{\"standoff\":15},\"zerolinecolor\":\"white\",\"automargin\":true,\"zerolinewidth\":2},\"scene\":{\"xaxis\":{\"backgroundcolor\":\"#E5ECF6\",\"gridcolor\":\"white\",\"linecolor\":\"white\",\"showbackground\":true,\"ticks\":\"\",\"zerolinecolor\":\"white\",\"gridwidth\":2},\"yaxis\":{\"backgroundcolor\":\"#E5ECF6\",\"gridcolor\":\"white\",\"linecolor\":\"white\",\"showbackground\":true,\"ticks\":\"\",\"zerolinecolor\":\"white\",\"gridwidth\":2},\"zaxis\":{\"backgroundcolor\":\"#E5ECF6\",\"gridcolor\":\"white\",\"linecolor\":\"white\",\"showbackground\":true,\"ticks\":\"\",\"zerolinecolor\":\"white\",\"gridwidth\":2}},\"shapedefaults\":{\"line\":{\"color\":\"#2a3f5f\"}},\"annotationdefaults\":{\"arrowcolor\":\"#2a3f5f\",\"arrowhead\":0,\"arrowwidth\":1},\"geo\":{\"bgcolor\":\"white\",\"landcolor\":\"#E5ECF6\",\"subunitcolor\":\"white\",\"showland\":true,\"showlakes\":true,\"lakecolor\":\"white\"},\"title\":{\"x\":0.05},\"mapbox\":{\"style\":\"light\"}}}},                        {\"responsive\": true}                    ).then(function(){\n",
       "                            \n",
       "var gd = document.getElementById('80da1f0b-e6be-413a-aac3-51557434bc1e');\n",
       "var x = new MutationObserver(function (mutations, observer) {{\n",
       "        var display = window.getComputedStyle(gd).display;\n",
       "        if (!display || display === 'none') {{\n",
       "            console.log([gd, 'removed!']);\n",
       "            Plotly.purge(gd);\n",
       "            observer.disconnect();\n",
       "        }}\n",
       "}});\n",
       "\n",
       "// Listen for the removal of the full notebook cells\n",
       "var notebookContainer = gd.closest('#notebook-container');\n",
       "if (notebookContainer) {{\n",
       "    x.observe(notebookContainer, {childList: true});\n",
       "}}\n",
       "\n",
       "// Listen for the clearing of the current output cell\n",
       "var outputEl = gd.closest('.output');\n",
       "if (outputEl) {{\n",
       "    x.observe(outputEl, {childList: true});\n",
       "}}\n",
       "\n",
       "                        })                };                });            </script>        </div>"
      ]
     },
     "metadata": {},
     "output_type": "display_data"
    }
   ],
   "source": [
    "# График важности гиперпараметров\n",
    "fig = optuna.visualization.plot_param_importances(study)\n",
    "fig.show()"
   ]
  },
  {
   "cell_type": "markdown",
   "metadata": {},
   "source": [
    "__Выбираем и обучаем финальную модель__"
   ]
  },
  {
   "cell_type": "markdown",
   "metadata": {},
   "source": [
    "Их двух методов лучшие метрики получились у случайного поиска, поэтому финальную модель обучаем на его гиперпараметрах"
   ]
  },
  {
   "cell_type": "code",
   "execution_count": 103,
   "metadata": {},
   "outputs": [],
   "source": [
    "best_params = best_params_random\n",
    "\n",
    "model = CatBoostRegressor(\n",
    "    loss_function='MAPE', \n",
    "    random_state=42,\n",
    "    verbose=False,\n",
    "    **best_params\n",
    ")\n",
    "\n",
    "start = time.time()\n",
    "model.fit(selected_encoded_X_train, y_train)\n",
    "end = time.time()"
   ]
  },
  {
   "cell_type": "markdown",
   "metadata": {},
   "source": [
    "Оцениваем модель на тестовых данных"
   ]
  },
  {
   "cell_type": "code",
   "execution_count": 104,
   "metadata": {},
   "outputs": [
    {
     "name": "stdout",
     "output_type": "stream",
     "text": [
      "{'MAPE': 1.0018545020705296, 'fit_time': 11.433701753616333}\n"
     ]
    }
   ],
   "source": [
    "y_pred = model.predict(selected_encoded_X_test)\n",
    "mape = mean_absolute_percentage_error(y_test, y_pred)\n",
    "\n",
    "metrics = {}\n",
    "metrics['MAPE'] = mape\n",
    "metrics['fit_time'] = end - start\n",
    "print(metrics)"
   ]
  },
  {
   "cell_type": "markdown",
   "metadata": {},
   "source": [
    "Логируем в MLflow финальную модель, ее метрики и другие артефакты"
   ]
  },
  {
   "cell_type": "code",
   "execution_count": 105,
   "metadata": {},
   "outputs": [
    {
     "name": "stderr",
     "output_type": "stream",
     "text": [
      "Successfully registered model 'flats_price_model_sprint_2_step_5'.\n",
      "2024/04/21 16:46:05 INFO mlflow.tracking._model_registry.client: Waiting up to 60 seconds for model version to finish creation. Model name: flats_price_model_sprint_2_step_5, version 1\n",
      "Created version '1' of model 'flats_price_model_sprint_2_step_5'.\n"
     ]
    }
   ],
   "source": [
    "metadata = {'model_type': 'regression'}\n",
    "pip_requirements = \"../requirements.txt\" \n",
    "signature = mlflow.models.infer_signature(\n",
    "    selected_encoded_X_test,\n",
    "    model.predict(selected_encoded_X_test)\n",
    ") \n",
    "input_example = pd.concat([selected_encoded_X_train, y_train], axis=1)[:10]\n",
    "\n",
    "with mlflow.start_run(run_id=parent_run_id) as run:\n",
    "    mlflow.log_params(best_params)\n",
    "    mlflow.log_metrics(metrics)\n",
    "        \n",
    "    model_info = mlflow.catboost.log_model(\n",
    "        cb_model=model,\n",
    "        artifact_path=\"models\",\n",
    "        await_registration_for=60,\n",
    "        registered_model_name=REGISTRY_MODEL_NAME,\n",
    "        metadata=metadata,\n",
    "        signature=signature,\n",
    "        input_example=input_example,\n",
    "        pip_requirements=pip_requirements\n",
    "    )"
   ]
  },
  {
   "cell_type": "code",
   "execution_count": 106,
   "metadata": {},
   "outputs": [
    {
     "name": "stdout",
     "output_type": "stream",
     "text": [
      "59d04bca4276425aa0f6de46a69c868a\n"
     ]
    }
   ],
   "source": [
    "print(parent_run_id)\n",
    "\n",
    "run = mlflow.get_run(parent_run_id)\n",
    "assert run.info.status == 'FINISHED'"
   ]
  },
  {
   "cell_type": "markdown",
   "metadata": {},
   "source": [
    "__Выводы по результатам 5-го этапа:__\n",
    "    \n",
    "С помощью подбора гиперпараметров снова удалось снизить ошибку MAPE на тестовых данных. Из двух примененных методов наилучшие результаты показал случайный поиск."
   ]
  }
 ],
 "metadata": {
  "kernelspec": {
   "display_name": ".venv_mle_mlflow",
   "language": "python",
   "name": ".venv_mle_mlflow"
  },
  "language_info": {
   "codemirror_mode": {
    "name": "ipython",
    "version": 3
   },
   "file_extension": ".py",
   "mimetype": "text/x-python",
   "name": "python",
   "nbconvert_exporter": "python",
   "pygments_lexer": "ipython3",
   "version": "3.10.12"
  }
 },
 "nbformat": 4,
 "nbformat_minor": 4
}
